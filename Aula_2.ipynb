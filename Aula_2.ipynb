{
    "nbformat": 4,
    "nbformat_minor": 0,
    "metadata": {
        "kernelspec": {
            "name": "python3",
            "display_name": "Python 3"
        },
        "language_info": {
            "name": "python"
        }
    },
    "cells": [
        {
            "cell_type": "markdown",
            "metadata": {},
            "source": [
                "# Notebook com coment\u00e1rios adicionados\n"
            ]
        },
        {
            "cell_type": "code",
            "execution_count": null,
            "metadata": {},
            "outputs": [],
            "source": [
                "# C\u00e9lula 1: Defini\u00e7\u00e3o de vari\u00e1veis b\u00e1sicas\n",
                "# Criamos vari\u00e1veis para armazenar informa\u00e7\u00f5es pessoais\n",
                "nome_completo = \"Rogerio Nogueira\"\n",
                "idade = 27  # Idade do usu\u00e1rio\n",
                "altura = 1.68  # Altura em metros\n",
                "paciente = False  # Vari\u00e1vel booleana indicando se a pessoa \u00e9 um paciente\n"
            ]
        },
        {
            "cell_type": "code",
            "execution_count": null,
            "metadata": {},
            "outputs": [],
            "source": [
                "# C\u00e9lula 2: Tipo da vari\u00e1vel nome_completo\n",
                "# Aqui verificamos o tipo de dado armazenado na vari\u00e1vel 'nome_completo'\n",
                "tipo_nome_completo = type(nome_completo)\n"
            ]
        },
        {
            "cell_type": "code",
            "execution_count": null,
            "metadata": {},
            "outputs": [],
            "source": [
                "# C\u00e9lula 3: Impress\u00e3o dos tipos das vari\u00e1veis\n",
                "# Exibe no console os tipos das vari\u00e1veis definidas anteriormente\n",
                "print(f\"A vari\u00e1vel idade \u00e9 do tipo : {type(idade)}\")\n",
                "print(f\"A vari\u00e1vel nome_completo \u00e9 do tipo : {tipo_nome_completo}\")\n",
                "print(f\"A vari\u00e1vel altura \u00e9 do tipo : {type(altura)}\")\n",
                "print(f\"A vari\u00e1vel paciente \u00e9 do tipo : {type(paciente)}\")\n"
            ]
        },
        {
            "cell_type": "code",
            "execution_count": null,
            "metadata": {},
            "outputs": [],
            "source": [
                "# C\u00e9lula 4: Defini\u00e7\u00e3o de duas vari\u00e1veis num\u00e9ricas\n",
                "# Criamos duas vari\u00e1veis para opera\u00e7\u00f5es matem\u00e1ticas\n",
                "a = 11  # N\u00famero inteiro\n",
                "b = 2   # N\u00famero inteiro\n"
            ]
        },
        {
            "cell_type": "code",
            "execution_count": null,
            "metadata": {},
            "outputs": [],
            "source": [
                "# C\u00e9lula 5: Opera\u00e7\u00e3o de soma\n",
                "# Soma das duas vari\u00e1veis e impress\u00e3o do resultado\n",
                "soma = a + b\n",
                "print(soma)\n"
            ]
        },
        {
            "cell_type": "code",
            "execution_count": null,
            "metadata": {},
            "outputs": [],
            "source": [
                "# C\u00e9lula 6: Opera\u00e7\u00e3o de subtra\u00e7\u00e3o\n",
                "# Subtra\u00edmos b de a e exibimos o resultado\n",
                "sub = a - b\n",
                "sub\n"
            ]
        },
        {
            "cell_type": "code",
            "execution_count": null,
            "metadata": {},
            "outputs": [],
            "source": [
                "# C\u00e9lula 7: Opera\u00e7\u00e3o de divis\u00e3o\n",
                "# Realiza a divis\u00e3o de 10 por 2\n",
                "div = 10 / 2\n",
                "div\n"
            ]
        },
        {
            "cell_type": "code",
            "execution_count": null,
            "metadata": {},
            "outputs": [],
            "source": [
                "# C\u00e9lula 8: Opera\u00e7\u00e3o de multiplica\u00e7\u00e3o\n",
                "# Multiplicamos a por b\n",
                "mult = a * b\n",
                "mult\n"
            ]
        },
        {
            "cell_type": "code",
            "execution_count": null,
            "metadata": {},
            "outputs": [],
            "source": [
                "# C\u00e9lula 9: Entrada de dados do usu\u00e1rio\n",
                "# Solicita ao usu\u00e1rio um valor para a\n",
                "# O valor inserido \u00e9 armazenado como string\n",
                "a = input('Digite o valor de a: ')\n"
            ]
        },
        {
            "cell_type": "code",
            "execution_count": null,
            "metadata": {},
            "outputs": [],
            "source": [
                "# C\u00e9lula 10: Entrada de dados do usu\u00e1rio\n",
                "# Solicita ao usu\u00e1rio um valor para b\n",
                "# O valor inserido \u00e9 armazenado como string\n",
                "b = input('Digite o valor de b: ')\n"
            ]
        },
        {
            "cell_type": "code",
            "execution_count": null,
            "metadata": {},
            "outputs": [],
            "source": [
                "# C\u00e9lula 11: Convers\u00e3o de tipos\n",
                "# Converte os valores de a e b de string para float\n",
                "a = float(a)\n",
                "b = float(b)\n"
            ]
        },
        {
            "cell_type": "code",
            "execution_count": null,
            "metadata": {},
            "outputs": [],
            "source": [
                "# C\u00e9lula 12: Soma dos valores inseridos\n",
                "# Soma os valores convertidos de a e b\n",
                "a + b\n"
            ]
        }
    ]
}
