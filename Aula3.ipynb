{
  "nbformat": 4,
  "nbformat_minor": 0,
  "metadata": {
    "colab": {
      "provenance": [],
      "authorship_tag": "ABX9TyPMInns2UoCGsXiw33jwZ1t",
      "include_colab_link": true
    },
    "kernelspec": {
      "name": "python3",
      "display_name": "Python 3"
    },
    "language_info": {
      "name": "python"
    }
  },
  "cells": [
    {
      "cell_type": "markdown",
      "metadata": {
        "id": "view-in-github",
        "colab_type": "text"
      },
      "source": [
        "<a href=\"https://colab.research.google.com/github/rogernogueira/camp/blob/main/Aula3.ipynb\" target=\"_parent\"><img src=\"https://colab.research.google.com/assets/colab-badge.svg\" alt=\"Open In Colab\"/></a>"
      ]
    },
    {
      "cell_type": "code",
      "execution_count": null,
      "metadata": {
        "id": "oQHxeptOMRUi"
      },
      "outputs": [],
      "source": [
        "a = 3\n",
        "b = 6"
      ]
    },
    {
      "cell_type": "code",
      "source": [
        "c = (a > b)"
      ],
      "metadata": {
        "id": "0Svm5NZkMnrd"
      },
      "execution_count": null,
      "outputs": []
    },
    {
      "cell_type": "code",
      "source": [
        "if (a < b) :\n",
        "  print(\"O valor a não é maior que b\")\n",
        "  c = 10\n",
        "else:\n",
        "  print(\"O valor a é maior que b\")\n",
        "  c = 20\n"
      ],
      "metadata": {
        "colab": {
          "base_uri": "https://localhost:8080/"
        },
        "id": "7Vh-_vnbMqXy",
        "outputId": "2b416545-bc8b-4482-a510-24e37083c1df"
      },
      "execution_count": null,
      "outputs": [
        {
          "output_type": "stream",
          "name": "stdout",
          "text": [
            "O valor a não é maior que b\n"
          ]
        }
      ]
    },
    {
      "cell_type": "code",
      "source": [
        "c"
      ],
      "metadata": {
        "colab": {
          "base_uri": "https://localhost:8080/"
        },
        "id": "f5_qHQJYM7CX",
        "outputId": "e65b3408-9c8d-4de5-f3d5-ba17a25cbd3d"
      },
      "execution_count": null,
      "outputs": [
        {
          "output_type": "execute_result",
          "data": {
            "text/plain": [
              "10"
            ]
          },
          "metadata": {},
          "execution_count": 16
        }
      ]
    },
    {
      "cell_type": "code",
      "source": [
        "idade = float(input(\"qual sua idade ?\"))\n",
        "\n",
        "peso = float(input(\"qual seu peso?\"))\n",
        "horas_sono = float(input(\"quantas horas de sono vc teve na noite passada?\"))\n"
      ],
      "metadata": {
        "colab": {
          "base_uri": "https://localhost:8080/"
        },
        "id": "TTYt3OmWPL8N",
        "outputId": "771d4133-8ca3-4eff-d64f-f2ffbab2bf4c"
      },
      "execution_count": null,
      "outputs": [
        {
          "name": "stdout",
          "output_type": "stream",
          "text": [
            "qual sua idade ?27\n",
            "qual seu peso?90\n",
            "quantas horas de sono vc teve na noite passada?7\n"
          ]
        }
      ]
    },
    {
      "cell_type": "code",
      "source": [
        "if (idade > 16) and(idade < 36) and (peso > 50) and (horas_sono >= 6) :\n",
        "  print(\"Doador habilitado para doar sangue\")\n",
        "else:\n",
        "  print(\"Não é possível doar sangue\")"
      ],
      "metadata": {
        "colab": {
          "base_uri": "https://localhost:8080/"
        },
        "id": "-CUhotIgQSlJ",
        "outputId": "a0bf2e6a-25f6-411b-e6d1-d54db6620d90"
      },
      "execution_count": null,
      "outputs": [
        {
          "output_type": "stream",
          "name": "stdout",
          "text": [
            "Doador habilitado para doar sangue\n"
          ]
        }
      ]
    },
    {
      "cell_type": "code",
      "source": [
        "\n",
        "if (idade > 16) and (idade < 69):\n",
        "    print(\"Pode doar sangue\")\n",
        "elif (idade < 16 ):\n",
        "    print(\"Voce é muuito novo para doar sangue\")\n",
        "elif (idade > 69):\n",
        "    print(\"Voce é muuito velho para doar sangue\")\n"
      ],
      "metadata": {
        "id": "BGf1NDh9Zpyz"
      },
      "execution_count": null,
      "outputs": []
    },
    {
      "cell_type": "code",
      "source": [
        "num = 10"
      ],
      "metadata": {
        "id": "yIObDV6QiU5U"
      },
      "execution_count": 34,
      "outputs": []
    },
    {
      "cell_type": "code",
      "source": [
        "while True:\n",
        "  idade = float(input(\"qual sua idade ?\"))\n",
        "  peso = float(input(\"qual seu peso?\"))\n",
        "  horas_sono = float(input(\"quantas horas de sono vc teve na noite passada?\"))\n",
        "  if (idade > 16) and(idade < 36) and (peso > 50) and (horas_sono >= 6) :\n",
        "    print(\"Doador habilitado para doar sangue\")\n",
        "    print(\"idade : \", idade)\n",
        "    print(\"peso : \", peso)\n",
        "    print(\"horas : \", horas_sono)\n",
        "    break\n",
        "  else:\n",
        "    print(\"Não é possível doar sangue\")\n",
        "\n"
      ],
      "metadata": {
        "id": "92nFZqXlifhL"
      },
      "execution_count": null,
      "outputs": []
    },
    {
      "cell_type": "code",
      "source": [
        "lista_nome = [\"Rogerio\", \"Paula\", \"Alan\", \"David\", \"Antonio\", \"Abraham\"]"
      ],
      "metadata": {
        "id": "o0RCVEMdnHfc"
      },
      "execution_count": 71,
      "outputs": []
    },
    {
      "cell_type": "markdown",
      "source": [],
      "metadata": {
        "id": "BR0Ju_l3na7F"
      }
    },
    {
      "cell_type": "code",
      "source": [
        "lista_nome\n"
      ],
      "metadata": {
        "colab": {
          "base_uri": "https://localhost:8080/"
        },
        "id": "4tr9TlRemuMt",
        "outputId": "e4953728-d488-4bf3-8600-dd9070cc1b1e"
      },
      "execution_count": 41,
      "outputs": [
        {
          "output_type": "execute_result",
          "data": {
            "text/plain": [
              "['Rogerio', 'Paula', 'Alan', 'David']"
            ]
          },
          "metadata": {},
          "execution_count": 41
        }
      ]
    },
    {
      "cell_type": "code",
      "source": [
        "range(0,6, 2)"
      ],
      "metadata": {
        "colab": {
          "base_uri": "https://localhost:8080/"
        },
        "id": "v2XQUqaZomdQ",
        "outputId": "49fb87d5-b790-4a10-d5e2-62cc268fda1b"
      },
      "execution_count": 69,
      "outputs": [
        {
          "output_type": "execute_result",
          "data": {
            "text/plain": [
              "range(0, 6, 2)"
            ]
          },
          "metadata": {},
          "execution_count": 69
        }
      ]
    },
    {
      "cell_type": "code",
      "source": [
        "for i in range(5,-1, -1) :\n",
        "  print(lista_nome[i])"
      ],
      "metadata": {
        "colab": {
          "base_uri": "https://localhost:8080/"
        },
        "id": "UJ28NMcUos8Y",
        "outputId": "d908dac6-f71c-4f72-be01-a292dbcb81b0"
      },
      "execution_count": 75,
      "outputs": [
        {
          "output_type": "stream",
          "name": "stdout",
          "text": [
            "5\n",
            "4\n",
            "3\n",
            "2\n",
            "1\n",
            "0\n"
          ]
        }
      ]
    },
    {
      "cell_type": "code",
      "source": [
        "for nome in lista_nome:\n",
        "  print(nome)\n",
        "  if nome ==\"Alan\":\n",
        "    print(\"Olá Alan\")\n",
        "    break"
      ],
      "metadata": {
        "colab": {
          "base_uri": "https://localhost:8080/"
        },
        "id": "MhhyjCssncjr",
        "outputId": "170398ba-2d53-4429-a80f-7930d5751cff"
      },
      "execution_count": 45,
      "outputs": [
        {
          "output_type": "stream",
          "name": "stdout",
          "text": [
            "Rogerio\n",
            "Paula\n",
            "Alan\n",
            "Olá Alan\n"
          ]
        }
      ]
    }
  ]
}