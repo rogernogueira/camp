{
  "nbformat": 4,
  "nbformat_minor": 0,
  "metadata": {
    "colab": {
      "provenance": [],
      "mount_file_id": "189Qz4fZuzmwYgRtCzloa6R1xfbnvgxs7",
      "authorship_tag": "ABX9TyNHa1CLfjOJ3JfBOqyzb8TN",
      "include_colab_link": true
    },
    "kernelspec": {
      "name": "python3",
      "display_name": "Python 3"
    },
    "language_info": {
      "name": "python"
    },
    "widgets": {
      "application/vnd.jupyter.widget-state+json": {
        "d29e7bd35b6a46d89b157d85094812a5": {
          "model_module": "catboost-widget",
          "model_name": "CatboostWidgetModel",
          "model_module_version": "^1.0.0",
          "state": {
            "_dom_classes": [],
            "_model_module": "catboost-widget",
            "_model_module_version": "^1.0.0",
            "_model_name": "CatboostWidgetModel",
            "_view_count": null,
            "_view_module": "catboost-widget",
            "_view_module_version": "^1.0.0",
            "_view_name": "CatboostWidgetView",
            "data": {
              "crossentropy": {
                "path": "crossentropy",
                "name": "crossentropy",
                "content": {
                  "passed_iterations": 399,
                  "total_iterations": 400,
                  "data": {
                    "iterations": [
                      {
                        "learn": [
                          0.6500851384
                        ],
                        "iteration": 0,
                        "passed_time": 0.07102122215,
                        "remaining_time": 28.33746764
                      },
                      {
                        "learn": [
                          0.6125304812
                        ],
                        "iteration": 1,
                        "passed_time": 0.09043021907,
                        "remaining_time": 17.99561359
                      },
                      {
                        "learn": [
                          0.5713628454
                        ],
                        "iteration": 2,
                        "passed_time": 0.119919801,
                        "remaining_time": 15.86938699
                      },
                      {
                        "learn": [
                          0.5390052089
                        ],
                        "iteration": 3,
                        "passed_time": 0.1377220596,
                        "remaining_time": 13.6344839
                      },
                      {
                        "learn": [
                          0.5064956468
                        ],
                        "iteration": 4,
                        "passed_time": 0.1613651262,
                        "remaining_time": 12.74784497
                      },
                      {
                        "learn": [
                          0.4785585162
                        ],
                        "iteration": 5,
                        "passed_time": 0.1840662761,
                        "remaining_time": 12.0870188
                      },
                      {
                        "learn": [
                          0.4482233268
                        ],
                        "iteration": 6,
                        "passed_time": 0.2046557816,
                        "remaining_time": 11.48996031
                      },
                      {
                        "learn": [
                          0.4231695149
                        ],
                        "iteration": 7,
                        "passed_time": 0.2370544273,
                        "remaining_time": 11.61566694
                      },
                      {
                        "learn": [
                          0.3931884759
                        ],
                        "iteration": 8,
                        "passed_time": 0.2621858594,
                        "remaining_time": 11.390519
                      },
                      {
                        "learn": [
                          0.3714240005
                        ],
                        "iteration": 9,
                        "passed_time": 0.2950017502,
                        "remaining_time": 11.50506826
                      },
                      {
                        "learn": [
                          0.3503074484
                        ],
                        "iteration": 10,
                        "passed_time": 0.3179861389,
                        "remaining_time": 11.24514618
                      },
                      {
                        "learn": [
                          0.3324561234
                        ],
                        "iteration": 11,
                        "passed_time": 0.3387806072,
                        "remaining_time": 10.9539063
                      },
                      {
                        "learn": [
                          0.3173091539
                        ],
                        "iteration": 12,
                        "passed_time": 0.3648030547,
                        "remaining_time": 10.85990632
                      },
                      {
                        "learn": [
                          0.2993736537
                        ],
                        "iteration": 13,
                        "passed_time": 0.3913771405,
                        "remaining_time": 10.79082687
                      },
                      {
                        "learn": [
                          0.2850890896
                        ],
                        "iteration": 14,
                        "passed_time": 0.4069687211,
                        "remaining_time": 10.44553051
                      },
                      {
                        "learn": [
                          0.2710516545
                        ],
                        "iteration": 15,
                        "passed_time": 0.4265816203,
                        "remaining_time": 10.23795889
                      },
                      {
                        "learn": [
                          0.2606851426
                        ],
                        "iteration": 16,
                        "passed_time": 0.4488922556,
                        "remaining_time": 10.11327846
                      },
                      {
                        "learn": [
                          0.2494492696
                        ],
                        "iteration": 17,
                        "passed_time": 0.4693100701,
                        "remaining_time": 9.959802599
                      },
                      {
                        "learn": [
                          0.2381222119
                        ],
                        "iteration": 18,
                        "passed_time": 0.4816907082,
                        "remaining_time": 9.659166306
                      },
                      {
                        "learn": [
                          0.2277742535
                        ],
                        "iteration": 19,
                        "passed_time": 0.4924275111,
                        "remaining_time": 9.35612271
                      },
                      {
                        "learn": [
                          0.2200240838
                        ],
                        "iteration": 20,
                        "passed_time": 0.5043470376,
                        "remaining_time": 9.102263202
                      },
                      {
                        "learn": [
                          0.2113307753
                        ],
                        "iteration": 21,
                        "passed_time": 0.5229366583,
                        "remaining_time": 8.985002584
                      },
                      {
                        "learn": [
                          0.202899811
                        ],
                        "iteration": 22,
                        "passed_time": 0.5415705768,
                        "remaining_time": 8.87704815
                      },
                      {
                        "learn": [
                          0.1957135442
                        ],
                        "iteration": 23,
                        "passed_time": 0.5598437656,
                        "remaining_time": 8.770885661
                      },
                      {
                        "learn": [
                          0.1876466122
                        ],
                        "iteration": 24,
                        "passed_time": 0.5825675882,
                        "remaining_time": 8.738513823
                      },
                      {
                        "learn": [
                          0.178518079
                        ],
                        "iteration": 25,
                        "passed_time": 0.5999204558,
                        "remaining_time": 8.629625018
                      },
                      {
                        "learn": [
                          0.1724577406
                        ],
                        "iteration": 26,
                        "passed_time": 0.6237590934,
                        "remaining_time": 8.617116364
                      },
                      {
                        "learn": [
                          0.1664761291
                        ],
                        "iteration": 27,
                        "passed_time": 0.643960226,
                        "remaining_time": 8.555471574
                      },
                      {
                        "learn": [
                          0.1598802871
                        ],
                        "iteration": 28,
                        "passed_time": 0.6648031812,
                        "remaining_time": 8.50489587
                      },
                      {
                        "learn": [
                          0.1532472234
                        ],
                        "iteration": 29,
                        "passed_time": 0.6888392243,
                        "remaining_time": 8.495683766
                      },
                      {
                        "learn": [
                          0.1467994125
                        ],
                        "iteration": 30,
                        "passed_time": 0.7135137427,
                        "remaining_time": 8.493115195
                      },
                      {
                        "learn": [
                          0.1431326889
                        ],
                        "iteration": 31,
                        "passed_time": 0.7336826044,
                        "remaining_time": 8.437349951
                      },
                      {
                        "learn": [
                          0.1385087146
                        ],
                        "iteration": 32,
                        "passed_time": 0.7549294352,
                        "remaining_time": 8.395730385
                      },
                      {
                        "learn": [
                          0.1343671509
                        ],
                        "iteration": 33,
                        "passed_time": 0.7734601413,
                        "remaining_time": 8.326070933
                      },
                      {
                        "learn": [
                          0.1302067687
                        ],
                        "iteration": 34,
                        "passed_time": 0.7916828574,
                        "remaining_time": 8.256121227
                      },
                      {
                        "learn": [
                          0.125920556
                        ],
                        "iteration": 35,
                        "passed_time": 0.8125392239,
                        "remaining_time": 8.215674375
                      },
                      {
                        "learn": [
                          0.1213514867
                        ],
                        "iteration": 36,
                        "passed_time": 0.8325195369,
                        "remaining_time": 8.167691673
                      },
                      {
                        "learn": [
                          0.1182182388
                        ],
                        "iteration": 37,
                        "passed_time": 0.8503665287,
                        "remaining_time": 8.10086009
                      },
                      {
                        "learn": [
                          0.1150815093
                        ],
                        "iteration": 38,
                        "passed_time": 0.8702712258,
                        "remaining_time": 8.055587501
                      },
                      {
                        "learn": [
                          0.1118949189
                        ],
                        "iteration": 39,
                        "passed_time": 0.8908991768,
                        "remaining_time": 8.018092591
                      },
                      {
                        "learn": [
                          0.1089950256
                        ],
                        "iteration": 40,
                        "passed_time": 0.9017169075,
                        "remaining_time": 7.895521214
                      },
                      {
                        "learn": [
                          0.1065140936
                        ],
                        "iteration": 41,
                        "passed_time": 0.911640796,
                        "remaining_time": 7.7706525
                      },
                      {
                        "learn": [
                          0.1032716492
                        ],
                        "iteration": 42,
                        "passed_time": 0.9220597638,
                        "remaining_time": 7.655240365
                      },
                      {
                        "learn": [
                          0.1014634504
                        ],
                        "iteration": 43,
                        "passed_time": 0.9325681071,
                        "remaining_time": 7.545323776
                      },
                      {
                        "learn": [
                          0.09927044206
                        ],
                        "iteration": 44,
                        "passed_time": 0.9425382143,
                        "remaining_time": 7.435579246
                      },
                      {
                        "learn": [
                          0.09584773536
                        ],
                        "iteration": 45,
                        "passed_time": 0.9525511456,
                        "remaining_time": 7.330502295
                      },
                      {
                        "learn": [
                          0.09327056991
                        ],
                        "iteration": 46,
                        "passed_time": 0.9628124038,
                        "remaining_time": 7.231335714
                      },
                      {
                        "learn": [
                          0.09082097991
                        ],
                        "iteration": 47,
                        "passed_time": 0.9766395215,
                        "remaining_time": 7.162023158
                      },
                      {
                        "learn": [
                          0.08860331354
                        ],
                        "iteration": 48,
                        "passed_time": 1.001787624,
                        "remaining_time": 7.176070529
                      },
                      {
                        "learn": [
                          0.08681814745
                        ],
                        "iteration": 49,
                        "passed_time": 1.025796747,
                        "remaining_time": 7.18057723
                      },
                      {
                        "learn": [
                          0.08469684972
                        ],
                        "iteration": 50,
                        "passed_time": 1.046238628,
                        "remaining_time": 7.159554534
                      },
                      {
                        "learn": [
                          0.08274532647
                        ],
                        "iteration": 51,
                        "passed_time": 1.071545215,
                        "remaining_time": 7.171110284
                      },
                      {
                        "learn": [
                          0.08122194573
                        ],
                        "iteration": 52,
                        "passed_time": 1.092228435,
                        "remaining_time": 7.151005037
                      },
                      {
                        "learn": [
                          0.07903896242
                        ],
                        "iteration": 53,
                        "passed_time": 1.114305902,
                        "remaining_time": 7.139811887
                      },
                      {
                        "learn": [
                          0.07765681826
                        ],
                        "iteration": 54,
                        "passed_time": 1.137229826,
                        "remaining_time": 7.133532542
                      },
                      {
                        "learn": [
                          0.07646188715
                        ],
                        "iteration": 55,
                        "passed_time": 1.15682993,
                        "remaining_time": 7.106240998
                      },
                      {
                        "learn": [
                          0.07473460568
                        ],
                        "iteration": 56,
                        "passed_time": 1.177110371,
                        "remaining_time": 7.083313283
                      },
                      {
                        "learn": [
                          0.07366978162
                        ],
                        "iteration": 57,
                        "passed_time": 1.196740999,
                        "remaining_time": 7.056645202
                      },
                      {
                        "learn": [
                          0.07198938939
                        ],
                        "iteration": 58,
                        "passed_time": 1.216966669,
                        "remaining_time": 7.033654819
                      },
                      {
                        "learn": [
                          0.07055860973
                        ],
                        "iteration": 59,
                        "passed_time": 1.234783897,
                        "remaining_time": 6.997108748
                      },
                      {
                        "learn": [
                          0.06950540416
                        ],
                        "iteration": 60,
                        "passed_time": 1.258069868,
                        "remaining_time": 6.991568612
                      },
                      {
                        "learn": [
                          0.06816648963
                        ],
                        "iteration": 61,
                        "passed_time": 1.277698831,
                        "remaining_time": 6.965519432
                      },
                      {
                        "learn": [
                          0.06698976654
                        ],
                        "iteration": 62,
                        "passed_time": 1.295793649,
                        "remaining_time": 6.931467617
                      },
                      {
                        "learn": [
                          0.06573531202
                        ],
                        "iteration": 63,
                        "passed_time": 1.325117874,
                        "remaining_time": 6.956868841
                      },
                      {
                        "learn": [
                          0.06455416633
                        ],
                        "iteration": 64,
                        "passed_time": 1.341453335,
                        "remaining_time": 6.913644112
                      },
                      {
                        "learn": [
                          0.06358071374
                        ],
                        "iteration": 65,
                        "passed_time": 1.359465773,
                        "remaining_time": 6.879720728
                      },
                      {
                        "learn": [
                          0.06184397789
                        ],
                        "iteration": 66,
                        "passed_time": 1.388082585,
                        "remaining_time": 6.898977622
                      },
                      {
                        "learn": [
                          0.06006323009
                        ],
                        "iteration": 67,
                        "passed_time": 1.410378589,
                        "remaining_time": 6.885966052
                      },
                      {
                        "learn": [
                          0.05874717519
                        ],
                        "iteration": 68,
                        "passed_time": 1.43061397,
                        "remaining_time": 6.86280035
                      },
                      {
                        "learn": [
                          0.05729544419
                        ],
                        "iteration": 69,
                        "passed_time": 1.447763645,
                        "remaining_time": 6.825171471
                      },
                      {
                        "learn": [
                          0.05591122308
                        ],
                        "iteration": 70,
                        "passed_time": 1.468627002,
                        "remaining_time": 6.805327937
                      },
                      {
                        "learn": [
                          0.05492445608
                        ],
                        "iteration": 71,
                        "passed_time": 1.486620673,
                        "remaining_time": 6.772383068
                      },
                      {
                        "learn": [
                          0.05338867035
                        ],
                        "iteration": 72,
                        "passed_time": 1.503900371,
                        "remaining_time": 6.736649607
                      },
                      {
                        "learn": [
                          0.05248274937
                        ],
                        "iteration": 73,
                        "passed_time": 1.524684592,
                        "remaining_time": 6.716853741
                      },
                      {
                        "learn": [
                          0.0516600926
                        ],
                        "iteration": 74,
                        "passed_time": 1.548590307,
                        "remaining_time": 6.710557996
                      },
                      {
                        "learn": [
                          0.05099814141
                        ],
                        "iteration": 75,
                        "passed_time": 1.572345389,
                        "remaining_time": 6.703156658
                      },
                      {
                        "learn": [
                          0.04956724407
                        ],
                        "iteration": 76,
                        "passed_time": 1.586838743,
                        "remaining_time": 6.656479403
                      },
                      {
                        "learn": [
                          0.04860034648
                        ],
                        "iteration": 77,
                        "passed_time": 1.597195122,
                        "remaining_time": 6.593549095
                      },
                      {
                        "learn": [
                          0.04811277539
                        ],
                        "iteration": 78,
                        "passed_time": 1.620386139,
                        "remaining_time": 6.58410064
                      },
                      {
                        "learn": [
                          0.04711249161
                        ],
                        "iteration": 79,
                        "passed_time": 1.640562856,
                        "remaining_time": 6.562251426
                      },
                      {
                        "learn": [
                          0.04639429154
                        ],
                        "iteration": 80,
                        "passed_time": 1.657861379,
                        "remaining_time": 6.529108392
                      },
                      {
                        "learn": [
                          0.04584336667
                        ],
                        "iteration": 81,
                        "passed_time": 1.679004511,
                        "remaining_time": 6.511261397
                      },
                      {
                        "learn": [
                          0.04505772438
                        ],
                        "iteration": 82,
                        "passed_time": 1.702448436,
                        "remaining_time": 6.502122339
                      },
                      {
                        "learn": [
                          0.04455539491
                        ],
                        "iteration": 83,
                        "passed_time": 1.720875514,
                        "remaining_time": 6.47376979
                      },
                      {
                        "learn": [
                          0.04399389867
                        ],
                        "iteration": 84,
                        "passed_time": 1.740477273,
                        "remaining_time": 6.450004012
                      },
                      {
                        "learn": [
                          0.04349200042
                        ],
                        "iteration": 85,
                        "passed_time": 1.763087393,
                        "remaining_time": 6.437319087
                      },
                      {
                        "learn": [
                          0.04288943429
                        ],
                        "iteration": 86,
                        "passed_time": 1.784676489,
                        "remaining_time": 6.420732657
                      },
                      {
                        "learn": [
                          0.04216447004
                        ],
                        "iteration": 87,
                        "passed_time": 1.808156992,
                        "remaining_time": 6.410738425
                      },
                      {
                        "learn": [
                          0.04157489879
                        ],
                        "iteration": 88,
                        "passed_time": 1.829638343,
                        "remaining_time": 6.393455333
                      },
                      {
                        "learn": [
                          0.04079531052
                        ],
                        "iteration": 89,
                        "passed_time": 1.851377378,
                        "remaining_time": 6.376966524
                      },
                      {
                        "learn": [
                          0.04014223046
                        ],
                        "iteration": 90,
                        "passed_time": 1.872231476,
                        "remaining_time": 6.357357429
                      },
                      {
                        "learn": [
                          0.03953134196
                        ],
                        "iteration": 91,
                        "passed_time": 1.895057534,
                        "remaining_time": 6.344323049
                      },
                      {
                        "learn": [
                          0.03899346029
                        ],
                        "iteration": 92,
                        "passed_time": 1.917074682,
                        "remaining_time": 6.328407822
                      },
                      {
                        "learn": [
                          0.03831124837
                        ],
                        "iteration": 93,
                        "passed_time": 1.942722057,
                        "remaining_time": 6.324180315
                      },
                      {
                        "learn": [
                          0.03784503666
                        ],
                        "iteration": 94,
                        "passed_time": 1.962864825,
                        "remaining_time": 6.301829174
                      },
                      {
                        "learn": [
                          0.03732948767
                        ],
                        "iteration": 95,
                        "passed_time": 1.987682177,
                        "remaining_time": 6.294326893
                      },
                      {
                        "learn": [
                          0.03680396947
                        ],
                        "iteration": 96,
                        "passed_time": 2.014690142,
                        "remaining_time": 6.293310443
                      },
                      {
                        "learn": [
                          0.03631506517
                        ],
                        "iteration": 97,
                        "passed_time": 2.033404372,
                        "remaining_time": 6.26620531
                      },
                      {
                        "learn": [
                          0.03590625005
                        ],
                        "iteration": 98,
                        "passed_time": 2.052013999,
                        "remaining_time": 6.238951654
                      },
                      {
                        "learn": [
                          0.03554997464
                        ],
                        "iteration": 99,
                        "passed_time": 2.073246624,
                        "remaining_time": 6.219739872
                      },
                      {
                        "learn": [
                          0.03506304584
                        ],
                        "iteration": 100,
                        "passed_time": 2.093374165,
                        "remaining_time": 6.197216588
                      },
                      {
                        "learn": [
                          0.03448445669
                        ],
                        "iteration": 101,
                        "passed_time": 2.116157639,
                        "remaining_time": 6.182499768
                      },
                      {
                        "learn": [
                          0.03396418085
                        ],
                        "iteration": 102,
                        "passed_time": 2.135649936,
                        "remaining_time": 6.158136223
                      },
                      {
                        "learn": [
                          0.03350886551
                        ],
                        "iteration": 103,
                        "passed_time": 2.157441665,
                        "remaining_time": 6.140410892
                      },
                      {
                        "learn": [
                          0.03327566888
                        ],
                        "iteration": 104,
                        "passed_time": 2.183868839,
                        "remaining_time": 6.1356315
                      },
                      {
                        "learn": [
                          0.03292349398
                        ],
                        "iteration": 105,
                        "passed_time": 2.203133781,
                        "remaining_time": 6.110578601
                      },
                      {
                        "learn": [
                          0.03247623228
                        ],
                        "iteration": 106,
                        "passed_time": 2.227078662,
                        "remaining_time": 6.098449046
                      },
                      {
                        "learn": [
                          0.03205569002
                        ],
                        "iteration": 107,
                        "passed_time": 2.24702818,
                        "remaining_time": 6.075298413
                      },
                      {
                        "learn": [
                          0.03171147285
                        ],
                        "iteration": 108,
                        "passed_time": 2.266123975,
                        "remaining_time": 6.049927309
                      },
                      {
                        "learn": [
                          0.03144351777
                        ],
                        "iteration": 109,
                        "passed_time": 2.292107028,
                        "remaining_time": 6.042827619
                      },
                      {
                        "learn": [
                          0.03093919265
                        ],
                        "iteration": 110,
                        "passed_time": 2.311185239,
                        "remaining_time": 6.017410218
                      },
                      {
                        "learn": [
                          0.03047409966
                        ],
                        "iteration": 111,
                        "passed_time": 2.330923492,
                        "remaining_time": 5.993803266
                      },
                      {
                        "learn": [
                          0.03008622876
                        ],
                        "iteration": 112,
                        "passed_time": 2.342115309,
                        "remaining_time": 5.948558352
                      },
                      {
                        "learn": [
                          0.02969371936
                        ],
                        "iteration": 113,
                        "passed_time": 2.352840745,
                        "remaining_time": 5.902740815
                      },
                      {
                        "learn": [
                          0.02921871473
                        ],
                        "iteration": 114,
                        "passed_time": 2.362908732,
                        "remaining_time": 5.855904248
                      },
                      {
                        "learn": [
                          0.02876884406
                        ],
                        "iteration": 115,
                        "passed_time": 2.374432038,
                        "remaining_time": 5.813264645
                      },
                      {
                        "learn": [
                          0.0285038643
                        ],
                        "iteration": 116,
                        "passed_time": 2.386731719,
                        "remaining_time": 5.773034843
                      },
                      {
                        "learn": [
                          0.02814354243
                        ],
                        "iteration": 117,
                        "passed_time": 2.40367237,
                        "remaining_time": 5.744369562
                      },
                      {
                        "learn": [
                          0.02775356605
                        ],
                        "iteration": 118,
                        "passed_time": 2.427320319,
                        "remaining_time": 5.731739578
                      },
                      {
                        "learn": [
                          0.02746139393
                        ],
                        "iteration": 119,
                        "passed_time": 2.44639927,
                        "remaining_time": 5.708264964
                      },
                      {
                        "learn": [
                          0.02719844338
                        ],
                        "iteration": 120,
                        "passed_time": 2.466212646,
                        "remaining_time": 5.686556433
                      },
                      {
                        "learn": [
                          0.02690222707
                        ],
                        "iteration": 121,
                        "passed_time": 2.488119576,
                        "remaining_time": 5.669649526
                      },
                      {
                        "learn": [
                          0.02673633895
                        ],
                        "iteration": 122,
                        "passed_time": 2.511080051,
                        "remaining_time": 5.655033935
                      },
                      {
                        "learn": [
                          0.02639562866
                        ],
                        "iteration": 123,
                        "passed_time": 2.533737247,
                        "remaining_time": 5.639608712
                      },
                      {
                        "learn": [
                          0.02612192945
                        ],
                        "iteration": 124,
                        "passed_time": 2.556311613,
                        "remaining_time": 5.623885548
                      },
                      {
                        "learn": [
                          0.02588153127
                        ],
                        "iteration": 125,
                        "passed_time": 2.577064673,
                        "remaining_time": 5.604093019
                      },
                      {
                        "learn": [
                          0.02562248945
                        ],
                        "iteration": 126,
                        "passed_time": 2.587520717,
                        "remaining_time": 5.562150833
                      },
                      {
                        "learn": [
                          0.02534931168
                        ],
                        "iteration": 127,
                        "passed_time": 2.595864561,
                        "remaining_time": 5.516212193
                      },
                      {
                        "learn": [
                          0.02505008414
                        ],
                        "iteration": 128,
                        "passed_time": 2.603922136,
                        "remaining_time": 5.470255031
                      },
                      {
                        "learn": [
                          0.02483751986
                        ],
                        "iteration": 129,
                        "passed_time": 2.612992108,
                        "remaining_time": 5.426983609
                      },
                      {
                        "learn": [
                          0.02452411684
                        ],
                        "iteration": 130,
                        "passed_time": 2.621194188,
                        "remaining_time": 5.382452189
                      },
                      {
                        "learn": [
                          0.02419795904
                        ],
                        "iteration": 131,
                        "passed_time": 2.629201036,
                        "remaining_time": 5.33807483
                      },
                      {
                        "learn": [
                          0.0239184885
                        ],
                        "iteration": 132,
                        "passed_time": 2.637231348,
                        "remaining_time": 5.294291503
                      },
                      {
                        "learn": [
                          0.02366254328
                        ],
                        "iteration": 133,
                        "passed_time": 2.658345872,
                        "remaining_time": 5.277014939
                      },
                      {
                        "learn": [
                          0.02351051527
                        ],
                        "iteration": 134,
                        "passed_time": 2.676557023,
                        "remaining_time": 5.253982304
                      },
                      {
                        "learn": [
                          0.02324906102
                        ],
                        "iteration": 135,
                        "passed_time": 2.684587005,
                        "remaining_time": 5.211257127
                      },
                      {
                        "learn": [
                          0.02301329448
                        ],
                        "iteration": 136,
                        "passed_time": 2.692318463,
                        "remaining_time": 5.168465371
                      },
                      {
                        "learn": [
                          0.02267927874
                        ],
                        "iteration": 137,
                        "passed_time": 2.700505712,
                        "remaining_time": 5.127047076
                      },
                      {
                        "learn": [
                          0.02247841016
                        ],
                        "iteration": 138,
                        "passed_time": 2.708878,
                        "remaining_time": 5.086454374
                      },
                      {
                        "learn": [
                          0.02221199165
                        ],
                        "iteration": 139,
                        "passed_time": 2.71774181,
                        "remaining_time": 5.047234789
                      },
                      {
                        "learn": [
                          0.02195043958
                        ],
                        "iteration": 140,
                        "passed_time": 2.725872555,
                        "remaining_time": 5.007099233
                      },
                      {
                        "learn": [
                          0.02177733193
                        ],
                        "iteration": 141,
                        "passed_time": 2.735080942,
                        "remaining_time": 4.969372416
                      },
                      {
                        "learn": [
                          0.02155055707
                        ],
                        "iteration": 142,
                        "passed_time": 2.743982492,
                        "remaining_time": 4.93149301
                      },
                      {
                        "learn": [
                          0.0214111133
                        ],
                        "iteration": 143,
                        "passed_time": 2.752126391,
                        "remaining_time": 4.892669139
                      },
                      {
                        "learn": [
                          0.02128869182
                        ],
                        "iteration": 144,
                        "passed_time": 2.760119258,
                        "remaining_time": 4.854002833
                      },
                      {
                        "learn": [
                          0.021088292
                        ],
                        "iteration": 145,
                        "passed_time": 2.767718675,
                        "remaining_time": 4.815072216
                      },
                      {
                        "learn": [
                          0.0209033549
                        ],
                        "iteration": 146,
                        "passed_time": 2.775317617,
                        "remaining_time": 4.776567054
                      },
                      {
                        "learn": [
                          0.0207840147
                        ],
                        "iteration": 147,
                        "passed_time": 2.783237122,
                        "remaining_time": 4.73902537
                      },
                      {
                        "learn": [
                          0.02060576086
                        ],
                        "iteration": 148,
                        "passed_time": 2.791162546,
                        "remaining_time": 4.701891269
                      },
                      {
                        "learn": [
                          0.0203708422
                        ],
                        "iteration": 149,
                        "passed_time": 2.799232273,
                        "remaining_time": 4.665387122
                      },
                      {
                        "learn": [
                          0.02011076107
                        ],
                        "iteration": 150,
                        "passed_time": 2.807622898,
                        "remaining_time": 4.629788753
                      },
                      {
                        "learn": [
                          0.01976796625
                        ],
                        "iteration": 151,
                        "passed_time": 2.816664859,
                        "remaining_time": 4.595611085
                      },
                      {
                        "learn": [
                          0.01962714346
                        ],
                        "iteration": 152,
                        "passed_time": 2.825143663,
                        "remaining_time": 4.560852842
                      },
                      {
                        "learn": [
                          0.01942759475
                        ],
                        "iteration": 153,
                        "passed_time": 2.833428196,
                        "remaining_time": 4.52612556
                      },
                      {
                        "learn": [
                          0.01923012588
                        ],
                        "iteration": 154,
                        "passed_time": 2.841672881,
                        "remaining_time": 4.49167649
                      },
                      {
                        "learn": [
                          0.01903537892
                        ],
                        "iteration": 155,
                        "passed_time": 2.849434788,
                        "remaining_time": 4.456808258
                      },
                      {
                        "learn": [
                          0.01881839056
                        ],
                        "iteration": 156,
                        "passed_time": 2.857167897,
                        "remaining_time": 4.422240757
                      },
                      {
                        "learn": [
                          0.01856418461
                        ],
                        "iteration": 157,
                        "passed_time": 2.864974104,
                        "remaining_time": 4.388124893
                      },
                      {
                        "learn": [
                          0.01836205813
                        ],
                        "iteration": 158,
                        "passed_time": 2.872809564,
                        "remaining_time": 4.354384307
                      },
                      {
                        "learn": [
                          0.01818591007
                        ],
                        "iteration": 159,
                        "passed_time": 2.880212477,
                        "remaining_time": 4.320318715
                      },
                      {
                        "learn": [
                          0.01800686679
                        ],
                        "iteration": 160,
                        "passed_time": 2.88789747,
                        "remaining_time": 4.287003077
                      },
                      {
                        "learn": [
                          0.01786071204
                        ],
                        "iteration": 161,
                        "passed_time": 2.895490133,
                        "remaining_time": 4.25386822
                      },
                      {
                        "learn": [
                          0.01771435415
                        ],
                        "iteration": 162,
                        "passed_time": 2.902941181,
                        "remaining_time": 4.220840859
                      },
                      {
                        "learn": [
                          0.01759407951
                        ],
                        "iteration": 163,
                        "passed_time": 2.910120679,
                        "remaining_time": 4.187734636
                      },
                      {
                        "learn": [
                          0.01742126762
                        ],
                        "iteration": 164,
                        "passed_time": 2.917815703,
                        "remaining_time": 4.155676911
                      },
                      {
                        "learn": [
                          0.01728818954
                        ],
                        "iteration": 165,
                        "passed_time": 2.925590207,
                        "remaining_time": 4.12402475
                      },
                      {
                        "learn": [
                          0.01717629752
                        ],
                        "iteration": 166,
                        "passed_time": 2.934073673,
                        "remaining_time": 4.093647699
                      },
                      {
                        "learn": [
                          0.01704615929
                        ],
                        "iteration": 167,
                        "passed_time": 2.941679138,
                        "remaining_time": 4.06231881
                      },
                      {
                        "learn": [
                          0.01693529182
                        ],
                        "iteration": 168,
                        "passed_time": 2.949202123,
                        "remaining_time": 4.031157932
                      },
                      {
                        "learn": [
                          0.01680930504
                        ],
                        "iteration": 169,
                        "passed_time": 2.957880175,
                        "remaining_time": 4.001837884
                      },
                      {
                        "learn": [
                          0.01673204679
                        ],
                        "iteration": 170,
                        "passed_time": 2.965869878,
                        "remaining_time": 3.971837439
                      },
                      {
                        "learn": [
                          0.01655747173
                        ],
                        "iteration": 171,
                        "passed_time": 2.97341185,
                        "remaining_time": 3.94149943
                      },
                      {
                        "learn": [
                          0.01636858855
                        ],
                        "iteration": 172,
                        "passed_time": 2.981250064,
                        "remaining_time": 3.911813668
                      },
                      {
                        "learn": [
                          0.01625165921
                        ],
                        "iteration": 173,
                        "passed_time": 3.000821869,
                        "remaining_time": 3.897619209
                      },
                      {
                        "learn": [
                          0.01612041555
                        ],
                        "iteration": 174,
                        "passed_time": 3.008188404,
                        "remaining_time": 3.867670805
                      },
                      {
                        "learn": [
                          0.01598578935
                        ],
                        "iteration": 175,
                        "passed_time": 3.015574582,
                        "remaining_time": 3.838004013
                      },
                      {
                        "learn": [
                          0.01573547047
                        ],
                        "iteration": 176,
                        "passed_time": 3.023031791,
                        "remaining_time": 3.808678471
                      },
                      {
                        "learn": [
                          0.01553986252
                        ],
                        "iteration": 177,
                        "passed_time": 3.030393158,
                        "remaining_time": 3.779479107
                      },
                      {
                        "learn": [
                          0.01540548924
                        ],
                        "iteration": 178,
                        "passed_time": 3.037705192,
                        "remaining_time": 3.750462835
                      },
                      {
                        "learn": [
                          0.01523226932
                        ],
                        "iteration": 179,
                        "passed_time": 3.045395401,
                        "remaining_time": 3.722149934
                      },
                      {
                        "learn": [
                          0.01515621387
                        ],
                        "iteration": 180,
                        "passed_time": 3.052896764,
                        "remaining_time": 3.693836416
                      },
                      {
                        "learn": [
                          0.01500314863
                        ],
                        "iteration": 181,
                        "passed_time": 3.060347457,
                        "remaining_time": 3.66569091
                      },
                      {
                        "learn": [
                          0.01489182338
                        ],
                        "iteration": 182,
                        "passed_time": 3.068166098,
                        "remaining_time": 3.638207887
                      },
                      {
                        "learn": [
                          0.01475995079
                        ],
                        "iteration": 183,
                        "passed_time": 3.076241876,
                        "remaining_time": 3.611240463
                      },
                      {
                        "learn": [
                          0.01464125806
                        ],
                        "iteration": 184,
                        "passed_time": 3.084097886,
                        "remaining_time": 3.584221867
                      },
                      {
                        "learn": [
                          0.01447371899
                        ],
                        "iteration": 185,
                        "passed_time": 3.092015943,
                        "remaining_time": 3.557480709
                      },
                      {
                        "learn": [
                          0.01438005505
                        ],
                        "iteration": 186,
                        "passed_time": 3.100658232,
                        "remaining_time": 3.531765793
                      },
                      {
                        "learn": [
                          0.01426258579
                        ],
                        "iteration": 187,
                        "passed_time": 3.108477742,
                        "remaining_time": 3.505304688
                      },
                      {
                        "learn": [
                          0.01416353407
                        ],
                        "iteration": 188,
                        "passed_time": 3.115803613,
                        "remaining_time": 3.478489747
                      },
                      {
                        "learn": [
                          0.01403828628
                        ],
                        "iteration": 189,
                        "passed_time": 3.123862586,
                        "remaining_time": 3.452690227
                      },
                      {
                        "learn": [
                          0.01392384465
                        ],
                        "iteration": 190,
                        "passed_time": 3.131782197,
                        "remaining_time": 3.426923975
                      },
                      {
                        "learn": [
                          0.01379991462
                        ],
                        "iteration": 191,
                        "passed_time": 3.140844027,
                        "remaining_time": 3.402581029
                      },
                      {
                        "learn": [
                          0.01368383062
                        ],
                        "iteration": 192,
                        "passed_time": 3.149302842,
                        "remaining_time": 3.37774968
                      },
                      {
                        "learn": [
                          0.01357515106
                        ],
                        "iteration": 193,
                        "passed_time": 3.15923907,
                        "remaining_time": 3.35465592
                      },
                      {
                        "learn": [
                          0.01347767343
                        ],
                        "iteration": 194,
                        "passed_time": 3.167392303,
                        "remaining_time": 3.329822677
                      },
                      {
                        "learn": [
                          0.0133704491
                        ],
                        "iteration": 195,
                        "passed_time": 3.175603119,
                        "remaining_time": 3.305219573
                      },
                      {
                        "learn": [
                          0.01327051874
                        ],
                        "iteration": 196,
                        "passed_time": 3.183648637,
                        "remaining_time": 3.280612555
                      },
                      {
                        "learn": [
                          0.01316294359
                        ],
                        "iteration": 197,
                        "passed_time": 3.191782336,
                        "remaining_time": 3.256262787
                      },
                      {
                        "learn": [
                          0.01302004814
                        ],
                        "iteration": 198,
                        "passed_time": 3.200366069,
                        "remaining_time": 3.232530552
                      },
                      {
                        "learn": [
                          0.01294399769
                        ],
                        "iteration": 199,
                        "passed_time": 3.208764668,
                        "remaining_time": 3.208764668
                      },
                      {
                        "learn": [
                          0.01278249221
                        ],
                        "iteration": 200,
                        "passed_time": 3.216616398,
                        "remaining_time": 3.184610264
                      },
                      {
                        "learn": [
                          0.01267562333
                        ],
                        "iteration": 201,
                        "passed_time": 3.223905027,
                        "remaining_time": 3.160065323
                      },
                      {
                        "learn": [
                          0.01257321555
                        ],
                        "iteration": 202,
                        "passed_time": 3.231969555,
                        "remaining_time": 3.136443362
                      },
                      {
                        "learn": [
                          0.01245920859
                        ],
                        "iteration": 203,
                        "passed_time": 3.239808446,
                        "remaining_time": 3.112757135
                      },
                      {
                        "learn": [
                          0.01236188492
                        ],
                        "iteration": 204,
                        "passed_time": 3.247558986,
                        "remaining_time": 3.089141475
                      },
                      {
                        "learn": [
                          0.01225790543
                        ],
                        "iteration": 205,
                        "passed_time": 3.255348687,
                        "remaining_time": 3.065716725
                      },
                      {
                        "learn": [
                          0.01217375416
                        ],
                        "iteration": 206,
                        "passed_time": 3.262908816,
                        "remaining_time": 3.042228993
                      },
                      {
                        "learn": [
                          0.01211383749
                        ],
                        "iteration": 207,
                        "passed_time": 3.270993287,
                        "remaining_time": 3.019378419
                      },
                      {
                        "learn": [
                          0.01204124895
                        ],
                        "iteration": 208,
                        "passed_time": 3.278913196,
                        "remaining_time": 2.996518758
                      },
                      {
                        "learn": [
                          0.01194037674
                        ],
                        "iteration": 209,
                        "passed_time": 3.286195394,
                        "remaining_time": 2.973224404
                      },
                      {
                        "learn": [
                          0.01184462715
                        ],
                        "iteration": 210,
                        "passed_time": 3.293804422,
                        "remaining_time": 2.950374577
                      },
                      {
                        "learn": [
                          0.01173454163
                        ],
                        "iteration": 211,
                        "passed_time": 3.301459199,
                        "remaining_time": 2.927709101
                      },
                      {
                        "learn": [
                          0.01160953816
                        ],
                        "iteration": 212,
                        "passed_time": 3.311129095,
                        "remaining_time": 2.906953713
                      },
                      {
                        "learn": [
                          0.01151939769
                        ],
                        "iteration": 213,
                        "passed_time": 3.319192001,
                        "remaining_time": 2.884905197
                      },
                      {
                        "learn": [
                          0.0114296583
                        ],
                        "iteration": 214,
                        "passed_time": 3.328047043,
                        "remaining_time": 2.863668386
                      },
                      {
                        "learn": [
                          0.01134849406
                        ],
                        "iteration": 215,
                        "passed_time": 3.33638591,
                        "remaining_time": 2.842106516
                      },
                      {
                        "learn": [
                          0.01124795273
                        ],
                        "iteration": 216,
                        "passed_time": 3.344373045,
                        "remaining_time": 2.820369896
                      },
                      {
                        "learn": [
                          0.01110029558
                        ],
                        "iteration": 217,
                        "passed_time": 3.351938825,
                        "remaining_time": 2.798407643
                      },
                      {
                        "learn": [
                          0.01100788042
                        ],
                        "iteration": 218,
                        "passed_time": 3.359505502,
                        "remaining_time": 2.776577607
                      },
                      {
                        "learn": [
                          0.0109558899
                        ],
                        "iteration": 219,
                        "passed_time": 3.366964621,
                        "remaining_time": 2.754789236
                      },
                      {
                        "learn": [
                          0.01087568383
                        ],
                        "iteration": 220,
                        "passed_time": 3.374375927,
                        "remaining_time": 2.733091814
                      },
                      {
                        "learn": [
                          0.01080439345
                        ],
                        "iteration": 221,
                        "passed_time": 3.382136516,
                        "remaining_time": 2.711803152
                      },
                      {
                        "learn": [
                          0.01073064446
                        ],
                        "iteration": 222,
                        "passed_time": 3.390375732,
                        "remaining_time": 2.691015716
                      },
                      {
                        "learn": [
                          0.01064745362
                        ],
                        "iteration": 223,
                        "passed_time": 3.399302942,
                        "remaining_time": 2.670880883
                      },
                      {
                        "learn": [
                          0.01057524852
                        ],
                        "iteration": 224,
                        "passed_time": 3.408030002,
                        "remaining_time": 2.650690001
                      },
                      {
                        "learn": [
                          0.01047144367
                        ],
                        "iteration": 225,
                        "passed_time": 3.418940319,
                        "remaining_time": 2.632281484
                      },
                      {
                        "learn": [
                          0.01039463898
                        ],
                        "iteration": 226,
                        "passed_time": 3.426732748,
                        "remaining_time": 2.611562843
                      },
                      {
                        "learn": [
                          0.01031095382
                        ],
                        "iteration": 227,
                        "passed_time": 3.434193838,
                        "remaining_time": 2.590707632
                      },
                      {
                        "learn": [
                          0.01022395101
                        ],
                        "iteration": 228,
                        "passed_time": 3.441922318,
                        "remaining_time": 2.570169067
                      },
                      {
                        "learn": [
                          0.010132958
                        ],
                        "iteration": 229,
                        "passed_time": 3.449528094,
                        "remaining_time": 2.5496512
                      },
                      {
                        "learn": [
                          0.01006231727
                        ],
                        "iteration": 230,
                        "passed_time": 3.457161817,
                        "remaining_time": 2.529265571
                      },
                      {
                        "learn": [
                          0.009981561993
                        ],
                        "iteration": 231,
                        "passed_time": 3.465048175,
                        "remaining_time": 2.509172816
                      },
                      {
                        "learn": [
                          0.009960599267
                        ],
                        "iteration": 232,
                        "passed_time": 3.472769631,
                        "remaining_time": 2.489066645
                      },
                      {
                        "learn": [
                          0.009910654148
                        ],
                        "iteration": 233,
                        "passed_time": 3.480303095,
                        "remaining_time": 2.468932965
                      },
                      {
                        "learn": [
                          0.009887810174
                        ],
                        "iteration": 234,
                        "passed_time": 3.487874175,
                        "remaining_time": 2.448932932
                      },
                      {
                        "learn": [
                          0.009817272008
                        ],
                        "iteration": 235,
                        "passed_time": 3.495940326,
                        "remaining_time": 2.42938226
                      },
                      {
                        "learn": [
                          0.009747389629
                        ],
                        "iteration": 236,
                        "passed_time": 3.503573478,
                        "remaining_time": 2.409630704
                      },
                      {
                        "learn": [
                          0.00968393877
                        ],
                        "iteration": 237,
                        "passed_time": 3.511380861,
                        "remaining_time": 2.390099578
                      },
                      {
                        "learn": [
                          0.00961113869
                        ],
                        "iteration": 238,
                        "passed_time": 3.518850607,
                        "remaining_time": 2.370439112
                      },
                      {
                        "learn": [
                          0.009537269298
                        ],
                        "iteration": 239,
                        "passed_time": 3.526621453,
                        "remaining_time": 2.351080969
                      },
                      {
                        "learn": [
                          0.00947462502
                        ],
                        "iteration": 240,
                        "passed_time": 3.534002746,
                        "remaining_time": 2.331561978
                      },
                      {
                        "learn": [
                          0.009347863963
                        ],
                        "iteration": 241,
                        "passed_time": 3.541433638,
                        "remaining_time": 2.312175681
                      },
                      {
                        "learn": [
                          0.009291132987
                        ],
                        "iteration": 242,
                        "passed_time": 3.548837542,
                        "remaining_time": 2.292870346
                      },
                      {
                        "learn": [
                          0.0091943762
                        ],
                        "iteration": 243,
                        "passed_time": 3.556447611,
                        "remaining_time": 2.273794374
                      },
                      {
                        "learn": [
                          0.009175918531
                        ],
                        "iteration": 244,
                        "passed_time": 3.563932765,
                        "remaining_time": 2.254732974
                      },
                      {
                        "learn": [
                          0.009106124761
                        ],
                        "iteration": 245,
                        "passed_time": 3.571248795,
                        "remaining_time": 2.235659815
                      },
                      {
                        "learn": [
                          0.009009328711
                        ],
                        "iteration": 246,
                        "passed_time": 3.578754124,
                        "remaining_time": 2.216799113
                      },
                      {
                        "learn": [
                          0.008974803911
                        ],
                        "iteration": 247,
                        "passed_time": 3.586382563,
                        "remaining_time": 2.198105442
                      },
                      {
                        "learn": [
                          0.008919922115
                        ],
                        "iteration": 248,
                        "passed_time": 3.594601397,
                        "remaining_time": 2.179858679
                      },
                      {
                        "learn": [
                          0.008883202933
                        ],
                        "iteration": 249,
                        "passed_time": 3.602165445,
                        "remaining_time": 2.161299267
                      },
                      {
                        "learn": [
                          0.008812861524
                        ],
                        "iteration": 250,
                        "passed_time": 3.610139998,
                        "remaining_time": 2.143071154
                      },
                      {
                        "learn": [
                          0.008734890587
                        ],
                        "iteration": 251,
                        "passed_time": 3.618279839,
                        "remaining_time": 2.125021493
                      },
                      {
                        "learn": [
                          0.008714016082
                        ],
                        "iteration": 252,
                        "passed_time": 3.625687242,
                        "remaining_time": 2.106624603
                      },
                      {
                        "learn": [
                          0.008627557858
                        ],
                        "iteration": 253,
                        "passed_time": 3.63340094,
                        "remaining_time": 2.088490304
                      },
                      {
                        "learn": [
                          0.00855461827
                        ],
                        "iteration": 254,
                        "passed_time": 3.64096961,
                        "remaining_time": 2.070355269
                      },
                      {
                        "learn": [
                          0.008510866497
                        ],
                        "iteration": 255,
                        "passed_time": 3.648502504,
                        "remaining_time": 2.052282659
                      },
                      {
                        "learn": [
                          0.008445617958
                        ],
                        "iteration": 256,
                        "passed_time": 3.655994713,
                        "remaining_time": 2.034269432
                      },
                      {
                        "learn": [
                          0.008399286008
                        ],
                        "iteration": 257,
                        "passed_time": 3.667037452,
                        "remaining_time": 2.018291931
                      },
                      {
                        "learn": [
                          0.008326168434
                        ],
                        "iteration": 258,
                        "passed_time": 3.678965621,
                        "remaining_time": 2.002834566
                      },
                      {
                        "learn": [
                          0.008279249924
                        ],
                        "iteration": 259,
                        "passed_time": 3.689535861,
                        "remaining_time": 1.986673156
                      },
                      {
                        "learn": [
                          0.008242552468
                        ],
                        "iteration": 260,
                        "passed_time": 3.699832076,
                        "remaining_time": 1.970408653
                      },
                      {
                        "learn": [
                          0.008191502438
                        ],
                        "iteration": 261,
                        "passed_time": 3.712189825,
                        "remaining_time": 1.955275557
                      },
                      {
                        "learn": [
                          0.008144718857
                        ],
                        "iteration": 262,
                        "passed_time": 3.724104186,
                        "remaining_time": 1.939932599
                      },
                      {
                        "learn": [
                          0.008099150563
                        ],
                        "iteration": 263,
                        "passed_time": 3.732085476,
                        "remaining_time": 1.922589487
                      },
                      {
                        "learn": [
                          0.008060481945
                        ],
                        "iteration": 264,
                        "passed_time": 3.739720707,
                        "remaining_time": 1.905140737
                      },
                      {
                        "learn": [
                          0.008014474322
                        ],
                        "iteration": 265,
                        "passed_time": 3.747305327,
                        "remaining_time": 1.887740278
                      },
                      {
                        "learn": [
                          0.007971354678
                        ],
                        "iteration": 266,
                        "passed_time": 3.75467099,
                        "remaining_time": 1.870304276
                      },
                      {
                        "learn": [
                          0.007927689381
                        ],
                        "iteration": 267,
                        "passed_time": 3.761927608,
                        "remaining_time": 1.852889717
                      },
                      {
                        "learn": [
                          0.007923287372
                        ],
                        "iteration": 268,
                        "passed_time": 3.769268834,
                        "remaining_time": 1.835591886
                      },
                      {
                        "learn": [
                          0.007883248605
                        ],
                        "iteration": 269,
                        "passed_time": 3.777147728,
                        "remaining_time": 1.818626684
                      },
                      {
                        "learn": [
                          0.007833889573
                        ],
                        "iteration": 270,
                        "passed_time": 3.784753136,
                        "remaining_time": 1.801598356
                      },
                      {
                        "learn": [
                          0.007784182042
                        ],
                        "iteration": 271,
                        "passed_time": 3.792215336,
                        "remaining_time": 1.784571923
                      },
                      {
                        "learn": [
                          0.007735114916
                        ],
                        "iteration": 272,
                        "passed_time": 3.799567238,
                        "remaining_time": 1.767564246
                      },
                      {
                        "learn": [
                          0.007671600552
                        ],
                        "iteration": 273,
                        "passed_time": 3.807083129,
                        "remaining_time": 1.750702461
                      },
                      {
                        "learn": [
                          0.007618831554
                        ],
                        "iteration": 274,
                        "passed_time": 3.814444994,
                        "remaining_time": 1.733838634
                      },
                      {
                        "learn": [
                          0.007556231883
                        ],
                        "iteration": 275,
                        "passed_time": 3.821779419,
                        "remaining_time": 1.717031333
                      },
                      {
                        "learn": [
                          0.007514864142
                        ],
                        "iteration": 276,
                        "passed_time": 3.829245718,
                        "remaining_time": 1.700350986
                      },
                      {
                        "learn": [
                          0.007447690144
                        ],
                        "iteration": 277,
                        "passed_time": 3.836599541,
                        "remaining_time": 1.683687569
                      },
                      {
                        "learn": [
                          0.007390465791
                        ],
                        "iteration": 278,
                        "passed_time": 3.844075137,
                        "remaining_time": 1.667143697
                      },
                      {
                        "learn": [
                          0.007321142108
                        ],
                        "iteration": 279,
                        "passed_time": 3.851702581,
                        "remaining_time": 1.650729678
                      },
                      {
                        "learn": [
                          0.007272735464
                        ],
                        "iteration": 280,
                        "passed_time": 3.859106418,
                        "remaining_time": 1.634283501
                      },
                      {
                        "learn": [
                          0.007230620762
                        ],
                        "iteration": 281,
                        "passed_time": 3.866691489,
                        "remaining_time": 1.61797729
                      },
                      {
                        "learn": [
                          0.007161980221
                        ],
                        "iteration": 282,
                        "passed_time": 3.874098377,
                        "remaining_time": 1.601659046
                      },
                      {
                        "learn": [
                          0.007158529279
                        ],
                        "iteration": 283,
                        "passed_time": 3.881379311,
                        "remaining_time": 1.585352113
                      },
                      {
                        "learn": [
                          0.007115984259
                        ],
                        "iteration": 284,
                        "passed_time": 3.888936811,
                        "remaining_time": 1.569220117
                      },
                      {
                        "learn": [
                          0.007105323874
                        ],
                        "iteration": 285,
                        "passed_time": 3.896532826,
                        "remaining_time": 1.553163434
                      },
                      {
                        "learn": [
                          0.007061485941
                        ],
                        "iteration": 286,
                        "passed_time": 3.903914607,
                        "remaining_time": 1.537081361
                      },
                      {
                        "learn": [
                          0.007018744685
                        ],
                        "iteration": 287,
                        "passed_time": 3.91147671,
                        "remaining_time": 1.521129832
                      },
                      {
                        "learn": [
                          0.006964880702
                        ],
                        "iteration": 288,
                        "passed_time": 3.918674278,
                        "remaining_time": 1.505096349
                      },
                      {
                        "learn": [
                          0.006916177647
                        ],
                        "iteration": 289,
                        "passed_time": 3.926514249,
                        "remaining_time": 1.489367474
                      },
                      {
                        "learn": [
                          0.00687824131
                        ],
                        "iteration": 290,
                        "passed_time": 3.933923932,
                        "remaining_time": 1.473531645
                      },
                      {
                        "learn": [
                          0.006855635298
                        ],
                        "iteration": 291,
                        "passed_time": 3.941212606,
                        "remaining_time": 1.457708772
                      },
                      {
                        "learn": [
                          0.006815408798
                        ],
                        "iteration": 292,
                        "passed_time": 3.950271553,
                        "remaining_time": 1.442590635
                      },
                      {
                        "learn": [
                          0.006754051287
                        ],
                        "iteration": 293,
                        "passed_time": 3.963101147,
                        "remaining_time": 1.428873203
                      },
                      {
                        "learn": [
                          0.006723404891
                        ],
                        "iteration": 294,
                        "passed_time": 3.973964997,
                        "remaining_time": 1.414462118
                      },
                      {
                        "learn": [
                          0.006720042797
                        ],
                        "iteration": 295,
                        "passed_time": 3.981324137,
                        "remaining_time": 1.398843616
                      },
                      {
                        "learn": [
                          0.006689006472
                        ],
                        "iteration": 296,
                        "passed_time": 4.00455055,
                        "remaining_time": 1.388783524
                      },
                      {
                        "learn": [
                          0.006642266242
                        ],
                        "iteration": 297,
                        "passed_time": 4.012282739,
                        "remaining_time": 1.373331676
                      },
                      {
                        "learn": [
                          0.006589738171
                        ],
                        "iteration": 298,
                        "passed_time": 4.019828437,
                        "remaining_time": 1.357868469
                      },
                      {
                        "learn": [
                          0.006565712314
                        ],
                        "iteration": 299,
                        "passed_time": 4.027370245,
                        "remaining_time": 1.342456748
                      },
                      {
                        "learn": [
                          0.006560722644
                        ],
                        "iteration": 300,
                        "passed_time": 4.035730333,
                        "remaining_time": 1.327366455
                      },
                      {
                        "learn": [
                          0.006550740259
                        ],
                        "iteration": 301,
                        "passed_time": 4.043829879,
                        "remaining_time": 1.312236186
                      },
                      {
                        "learn": [
                          0.006515605634
                        ],
                        "iteration": 302,
                        "passed_time": 4.051335687,
                        "remaining_time": 1.29696225
                      },
                      {
                        "learn": [
                          0.006479770942
                        ],
                        "iteration": 303,
                        "passed_time": 4.059464427,
                        "remaining_time": 1.281936135
                      },
                      {
                        "learn": [
                          0.006434745245
                        ],
                        "iteration": 304,
                        "passed_time": 4.067524401,
                        "remaining_time": 1.26693383
                      },
                      {
                        "learn": [
                          0.006390594257
                        ],
                        "iteration": 305,
                        "passed_time": 4.075135613,
                        "remaining_time": 1.251839045
                      },
                      {
                        "learn": [
                          0.00635592357
                        ],
                        "iteration": 306,
                        "passed_time": 4.08295716,
                        "remaining_time": 1.236856729
                      },
                      {
                        "learn": [
                          0.006294676289
                        ],
                        "iteration": 307,
                        "passed_time": 4.090968203,
                        "remaining_time": 1.221977515
                      },
                      {
                        "learn": [
                          0.006260882203
                        ],
                        "iteration": 308,
                        "passed_time": 4.098664815,
                        "remaining_time": 1.207050156
                      },
                      {
                        "learn": [
                          0.00621854353
                        ],
                        "iteration": 309,
                        "passed_time": 4.10639921,
                        "remaining_time": 1.192180416
                      },
                      {
                        "learn": [
                          0.00619398494
                        ],
                        "iteration": 310,
                        "passed_time": 4.11380745,
                        "remaining_time": 1.177263225
                      },
                      {
                        "learn": [
                          0.006132041338
                        ],
                        "iteration": 311,
                        "passed_time": 4.121326596,
                        "remaining_time": 1.16242545
                      },
                      {
                        "learn": [
                          0.006101285366
                        ],
                        "iteration": 312,
                        "passed_time": 4.128876463,
                        "remaining_time": 1.147642979
                      },
                      {
                        "learn": [
                          0.006079910064
                        ],
                        "iteration": 313,
                        "passed_time": 4.136424536,
                        "remaining_time": 1.132906083
                      },
                      {
                        "learn": [
                          0.006070088176
                        ],
                        "iteration": 314,
                        "passed_time": 4.14478256,
                        "remaining_time": 1.118433389
                      },
                      {
                        "learn": [
                          0.006029170885
                        ],
                        "iteration": 315,
                        "passed_time": 4.156013391,
                        "remaining_time": 1.104763053
                      },
                      {
                        "learn": [
                          0.005982594293
                        ],
                        "iteration": 316,
                        "passed_time": 4.163729618,
                        "remaining_time": 1.090187881
                      },
                      {
                        "learn": [
                          0.005979417943
                        ],
                        "iteration": 317,
                        "passed_time": 4.171445797,
                        "remaining_time": 1.075655834
                      },
                      {
                        "learn": [
                          0.005957531058
                        ],
                        "iteration": 318,
                        "passed_time": 4.179656598,
                        "remaining_time": 1.061292114
                      },
                      {
                        "learn": [
                          0.005954284205
                        ],
                        "iteration": 319,
                        "passed_time": 4.187634131,
                        "remaining_time": 1.046908533
                      },
                      {
                        "learn": [
                          0.0059059036
                        ],
                        "iteration": 320,
                        "passed_time": 4.195276267,
                        "remaining_time": 1.032482321
                      },
                      {
                        "learn": [
                          0.005893832283
                        ],
                        "iteration": 321,
                        "passed_time": 4.202719193,
                        "remaining_time": 1.018049991
                      },
                      {
                        "learn": [
                          0.005863440065
                        ],
                        "iteration": 322,
                        "passed_time": 4.210175225,
                        "remaining_time": 1.003664063
                      },
                      {
                        "learn": [
                          0.005819323004
                        ],
                        "iteration": 323,
                        "passed_time": 4.217941709,
                        "remaining_time": 0.9893937343
                      },
                      {
                        "learn": [
                          0.00580005229
                        ],
                        "iteration": 324,
                        "passed_time": 4.225783791,
                        "remaining_time": 0.9751808748
                      },
                      {
                        "learn": [
                          0.005763182245
                        ],
                        "iteration": 325,
                        "passed_time": 4.233443524,
                        "remaining_time": 0.960965708
                      },
                      {
                        "learn": [
                          0.005735529742
                        ],
                        "iteration": 326,
                        "passed_time": 4.241183304,
                        "remaining_time": 0.9468085051
                      },
                      {
                        "learn": [
                          0.005693014327
                        ],
                        "iteration": 327,
                        "passed_time": 4.248631211,
                        "remaining_time": 0.9326263633
                      },
                      {
                        "learn": [
                          0.005684289772
                        ],
                        "iteration": 328,
                        "passed_time": 4.25651245,
                        "remaining_time": 0.9185786746
                      },
                      {
                        "learn": [
                          0.005657792502
                        ],
                        "iteration": 329,
                        "passed_time": 4.263994731,
                        "remaining_time": 0.9044837308
                      },
                      {
                        "learn": [
                          0.005640519407
                        ],
                        "iteration": 330,
                        "passed_time": 4.271317108,
                        "remaining_time": 0.8903954093
                      },
                      {
                        "learn": [
                          0.005614811722
                        ],
                        "iteration": 331,
                        "passed_time": 4.279059875,
                        "remaining_time": 0.8764339503
                      },
                      {
                        "learn": [
                          0.005571777765
                        ],
                        "iteration": 332,
                        "passed_time": 4.286741443,
                        "remaining_time": 0.8624975277
                      },
                      {
                        "learn": [
                          0.005569909285
                        ],
                        "iteration": 333,
                        "passed_time": 4.296240735,
                        "remaining_time": 0.84895775
                      },
                      {
                        "learn": [
                          0.005562681158
                        ],
                        "iteration": 334,
                        "passed_time": 4.303916084,
                        "remaining_time": 0.8350881953
                      },
                      {
                        "learn": [
                          0.00553563786
                        ],
                        "iteration": 335,
                        "passed_time": 4.311540698,
                        "remaining_time": 0.8212458473
                      },
                      {
                        "learn": [
                          0.005497927889
                        ],
                        "iteration": 336,
                        "passed_time": 4.319365865,
                        "remaining_time": 0.8074778916
                      },
                      {
                        "learn": [
                          0.005495172712
                        ],
                        "iteration": 337,
                        "passed_time": 4.326845682,
                        "remaining_time": 0.7936817523
                      },
                      {
                        "learn": [
                          0.005467954012
                        ],
                        "iteration": 338,
                        "passed_time": 4.334256136,
                        "remaining_time": 0.7799103962
                      },
                      {
                        "learn": [
                          0.005458206172
                        ],
                        "iteration": 339,
                        "passed_time": 4.341885971,
                        "remaining_time": 0.7662151714
                      },
                      {
                        "learn": [
                          0.005441512748
                        ],
                        "iteration": 340,
                        "passed_time": 4.349980858,
                        "remaining_time": 0.7526359843
                      },
                      {
                        "learn": [
                          0.005410146374
                        ],
                        "iteration": 341,
                        "passed_time": 4.358463226,
                        "remaining_time": 0.7391545822
                      },
                      {
                        "learn": [
                          0.005377517455
                        ],
                        "iteration": 342,
                        "passed_time": 4.366524473,
                        "remaining_time": 0.7256323469
                      },
                      {
                        "learn": [
                          0.005349784308
                        ],
                        "iteration": 343,
                        "passed_time": 4.374439684,
                        "remaining_time": 0.7121180881
                      },
                      {
                        "learn": [
                          0.005347305733
                        ],
                        "iteration": 344,
                        "passed_time": 4.383146904,
                        "remaining_time": 0.6987625499
                      },
                      {
                        "learn": [
                          0.005321436924
                        ],
                        "iteration": 345,
                        "passed_time": 4.392006182,
                        "remaining_time": 0.6854576123
                      },
                      {
                        "learn": [
                          0.00531486304
                        ],
                        "iteration": 346,
                        "passed_time": 4.401157271,
                        "remaining_time": 0.6722228684
                      },
                      {
                        "learn": [
                          0.00529210457
                        ],
                        "iteration": 347,
                        "passed_time": 4.412466723,
                        "remaining_time": 0.659334108
                      },
                      {
                        "learn": [
                          0.005263906342
                        ],
                        "iteration": 348,
                        "passed_time": 4.420176835,
                        "remaining_time": 0.64592842
                      },
                      {
                        "learn": [
                          0.005251584908
                        ],
                        "iteration": 349,
                        "passed_time": 4.428231539,
                        "remaining_time": 0.6326045056
                      },
                      {
                        "learn": [
                          0.005243288575
                        ],
                        "iteration": 350,
                        "passed_time": 4.436254365,
                        "remaining_time": 0.619306165
                      },
                      {
                        "learn": [
                          0.00521996468
                        ],
                        "iteration": 351,
                        "passed_time": 4.444305598,
                        "remaining_time": 0.6060416725
                      },
                      {
                        "learn": [
                          0.005219944313
                        ],
                        "iteration": 352,
                        "passed_time": 4.451936317,
                        "remaining_time": 0.5927507278
                      },
                      {
                        "learn": [
                          0.005213991682
                        ],
                        "iteration": 353,
                        "passed_time": 4.459501148,
                        "remaining_time": 0.5794832
                      },
                      {
                        "learn": [
                          0.005197882968
                        ],
                        "iteration": 354,
                        "passed_time": 4.467308025,
                        "remaining_time": 0.566278482
                      },
                      {
                        "learn": [
                          0.005175697829
                        ],
                        "iteration": 355,
                        "passed_time": 4.474942102,
                        "remaining_time": 0.5530827317
                      },
                      {
                        "learn": [
                          0.005154130765
                        ],
                        "iteration": 356,
                        "passed_time": 4.482512101,
                        "remaining_time": 0.5399104211
                      },
                      {
                        "learn": [
                          0.0051435351
                        ],
                        "iteration": 357,
                        "passed_time": 4.490401754,
                        "remaining_time": 0.5268069097
                      },
                      {
                        "learn": [
                          0.005117879801
                        ],
                        "iteration": 358,
                        "passed_time": 4.497968035,
                        "remaining_time": 0.5136955138
                      },
                      {
                        "learn": [
                          0.005115144529
                        ],
                        "iteration": 359,
                        "passed_time": 4.505479992,
                        "remaining_time": 0.500608888
                      },
                      {
                        "learn": [
                          0.005080268514
                        ],
                        "iteration": 360,
                        "passed_time": 4.513174531,
                        "remaining_time": 0.4875728718
                      },
                      {
                        "learn": [
                          0.005057472441
                        ],
                        "iteration": 361,
                        "passed_time": 4.520913411,
                        "remaining_time": 0.4745710211
                      },
                      {
                        "learn": [
                          0.005057440093
                        ],
                        "iteration": 362,
                        "passed_time": 4.528264606,
                        "remaining_time": 0.4615586513
                      },
                      {
                        "learn": [
                          0.005040307619
                        ],
                        "iteration": 363,
                        "passed_time": 4.535697421,
                        "remaining_time": 0.4485854592
                      },
                      {
                        "learn": [
                          0.005019836936
                        ],
                        "iteration": 364,
                        "passed_time": 4.543281578,
                        "remaining_time": 0.4356571376
                      },
                      {
                        "learn": [
                          0.004999074011
                        ],
                        "iteration": 365,
                        "passed_time": 4.550865245,
                        "remaining_time": 0.4227579736
                      },
                      {
                        "learn": [
                          0.004980037483
                        ],
                        "iteration": 366,
                        "passed_time": 4.558432095,
                        "remaining_time": 0.4098862647
                      },
                      {
                        "learn": [
                          0.004954655328
                        ],
                        "iteration": 367,
                        "passed_time": 4.565719773,
                        "remaining_time": 0.3970191107
                      },
                      {
                        "learn": [
                          0.004952068782
                        ],
                        "iteration": 368,
                        "passed_time": 4.573430847,
                        "remaining_time": 0.3842177676
                      },
                      {
                        "learn": [
                          0.004949860877
                        ],
                        "iteration": 369,
                        "passed_time": 4.580793611,
                        "remaining_time": 0.3714156982
                      },
                      {
                        "learn": [
                          0.004947983337
                        ],
                        "iteration": 370,
                        "passed_time": 4.588366884,
                        "remaining_time": 0.358659406
                      },
                      {
                        "learn": [
                          0.004938731833
                        ],
                        "iteration": 371,
                        "passed_time": 4.596264182,
                        "remaining_time": 0.3459553686
                      },
                      {
                        "learn": [
                          0.004938741418
                        ],
                        "iteration": 372,
                        "passed_time": 4.60371527,
                        "remaining_time": 0.3332448051
                      },
                      {
                        "learn": [
                          0.00491616946
                        ],
                        "iteration": 373,
                        "passed_time": 4.611450101,
                        "remaining_time": 0.3205820926
                      },
                      {
                        "learn": [
                          0.004897322432
                        ],
                        "iteration": 374,
                        "passed_time": 4.618898669,
                        "remaining_time": 0.3079265779
                      },
                      {
                        "learn": [
                          0.00488113944
                        ],
                        "iteration": 375,
                        "passed_time": 4.626673386,
                        "remaining_time": 0.2953195779
                      },
                      {
                        "learn": [
                          0.004877747453
                        ],
                        "iteration": 376,
                        "passed_time": 4.634726123,
                        "remaining_time": 0.2827551746
                      },
                      {
                        "learn": [
                          0.004858050157
                        ],
                        "iteration": 377,
                        "passed_time": 4.642904644,
                        "remaining_time": 0.2702219634
                      },
                      {
                        "learn": [
                          0.004839698814
                        ],
                        "iteration": 378,
                        "passed_time": 4.65088307,
                        "remaining_time": 0.257700645
                      },
                      {
                        "learn": [
                          0.004813091578
                        ],
                        "iteration": 379,
                        "passed_time": 4.65854019,
                        "remaining_time": 0.2451863258
                      },
                      {
                        "learn": [
                          0.004784499293
                        ],
                        "iteration": 380,
                        "passed_time": 4.66640387,
                        "remaining_time": 0.2327078045
                      },
                      {
                        "learn": [
                          0.004769079528
                        ],
                        "iteration": 381,
                        "passed_time": 4.674349595,
                        "remaining_time": 0.2202573108
                      },
                      {
                        "learn": [
                          0.004769051189
                        ],
                        "iteration": 382,
                        "passed_time": 4.681820511,
                        "remaining_time": 0.2078092655
                      },
                      {
                        "learn": [
                          0.004741920566
                        ],
                        "iteration": 383,
                        "passed_time": 4.68995773,
                        "remaining_time": 0.1954149054
                      },
                      {
                        "learn": [
                          0.004712234478
                        ],
                        "iteration": 384,
                        "passed_time": 4.697848327,
                        "remaining_time": 0.1830330517
                      },
                      {
                        "learn": [
                          0.004694947682
                        ],
                        "iteration": 385,
                        "passed_time": 4.70560736,
                        "remaining_time": 0.170669697
                      },
                      {
                        "learn": [
                          0.004694947083
                        ],
                        "iteration": 386,
                        "passed_time": 4.718685042,
                        "remaining_time": 0.1585087999
                      },
                      {
                        "learn": [
                          0.004669715585
                        ],
                        "iteration": 387,
                        "passed_time": 4.728312136,
                        "remaining_time": 0.1462364578
                      },
                      {
                        "learn": [
                          0.004639757606
                        ],
                        "iteration": 388,
                        "passed_time": 4.740002105,
                        "remaining_time": 0.1340360492
                      },
                      {
                        "learn": [
                          0.004622183152
                        ],
                        "iteration": 389,
                        "passed_time": 4.752971453,
                        "remaining_time": 0.1218710629
                      },
                      {
                        "learn": [
                          0.004607945636
                        ],
                        "iteration": 390,
                        "passed_time": 4.764627529,
                        "remaining_time": 0.1096717334
                      },
                      {
                        "learn": [
                          0.004607862784
                        ],
                        "iteration": 391,
                        "passed_time": 4.773029284,
                        "remaining_time": 0.0974087609
                      },
                      {
                        "learn": [
                          0.004590705379
                        ],
                        "iteration": 392,
                        "passed_time": 4.780620302,
                        "remaining_time": 0.08515099774
                      },
                      {
                        "learn": [
                          0.004559668889
                        ],
                        "iteration": 393,
                        "passed_time": 4.788195614,
                        "remaining_time": 0.07291668448
                      },
                      {
                        "learn": [
                          0.004540821195
                        ],
                        "iteration": 394,
                        "passed_time": 4.79644922,
                        "remaining_time": 0.06071454709
                      },
                      {
                        "learn": [
                          0.004540715233
                        ],
                        "iteration": 395,
                        "passed_time": 4.80401119,
                        "remaining_time": 0.04852536556
                      },
                      {
                        "learn": [
                          0.004516832255
                        ],
                        "iteration": 396,
                        "passed_time": 4.812046322,
                        "remaining_time": 0.03636307044
                      },
                      {
                        "learn": [
                          0.004496956098
                        ],
                        "iteration": 397,
                        "passed_time": 4.819705478,
                        "remaining_time": 0.02421962552
                      },
                      {
                        "learn": [
                          0.004472008709
                        ],
                        "iteration": 398,
                        "passed_time": 4.827068,
                        "remaining_time": 0.01209791479
                      },
                      {
                        "learn": [
                          0.004464961233
                        ],
                        "iteration": 399,
                        "passed_time": 4.834354953,
                        "remaining_time": 0
                      }
                    ],
                    "meta": {
                      "test_sets": [],
                      "test_metrics": [],
                      "learn_metrics": [
                        {
                          "best_value": "Min",
                          "name": "CrossEntropy"
                        }
                      ],
                      "launch_mode": "Train",
                      "parameters": "",
                      "iteration_count": 400,
                      "learn_sets": [
                        "learn"
                      ],
                      "name": "experiment"
                    }
                  }
                }
              }
            },
            "layout": "IPY_MODEL_1fd07180860f45ea8c3373494fe05d28"
          }
        },
        "ea4a7ed886ac497082690926d101852f": {
          "model_module": "catboost-widget",
          "model_name": "CatboostWidgetModel",
          "model_module_version": "^1.0.0",
          "state": {
            "_dom_classes": [],
            "_model_module": "catboost-widget",
            "_model_module_version": "^1.0.0",
            "_model_name": "CatboostWidgetModel",
            "_view_count": null,
            "_view_module": "catboost-widget",
            "_view_module_version": "^1.0.0",
            "_view_name": "CatboostWidgetView",
            "data": {
              "/crossentropy/": {
                "path": "/crossentropy/",
                "name": "crossentropy",
                "content": {
                  "passed_iterations": 0,
                  "total_iterations": 0,
                  "data": {
                    "iterations": [],
                    "meta": {}
                  }
                }
              }
            },
            "layout": "IPY_MODEL_9c271b35066e4309b93a246987a9000b"
          }
        }
      }
    }
  },
  "cells": [
    {
      "cell_type": "markdown",
      "metadata": {
        "id": "view-in-github",
        "colab_type": "text"
      },
      "source": [
        "<a href=\"https://colab.research.google.com/github/rogernogueira/camp/blob/main/Supervisionado.ipynb\" target=\"_parent\"><img src=\"https://colab.research.google.com/assets/colab-badge.svg\" alt=\"Open In Colab\"/></a>"
      ]
    },
    {
      "cell_type": "code",
      "execution_count": null,
      "metadata": {
        "id": "UMFpzu_g7us_"
      },
      "outputs": [],
      "source": [
        "import pandas as pd\n",
        "from  sklearn.datasets import load_breast_cancer\n",
        "from sklearn.model_selection import train_test_split\n",
        "from sklearn.linear_model import LogisticRegression\n",
        "from sklearn.metrics import accuracy_score, confusion_matrix, classification_report, precision_score, recall_score, f1_score, roc_auc_score\n",
        "import numpy as np\n",
        "import matplotlib.pyplot as plt\n",
        "import seaborn as sns\n",
        "from sklearn.svm import SVC\n",
        "from sklearn.tree import DecisionTreeClassifier\n",
        "from sklearn.ensemble import RandomForestClassifier, AdaBoostClassifier\n",
        "from sklearn.neighbors import KNeighborsClassifier\n",
        "from sklearn.naive_bayes import GaussianNB\n"
      ]
    },
    {
      "cell_type": "code",
      "source": [
        "data = load_breast_cancer()"
      ],
      "metadata": {
        "id": "wzVaIgSr8B5E"
      },
      "execution_count": null,
      "outputs": []
    },
    {
      "cell_type": "code",
      "source": [
        "df = pd.DataFrame(data.data, columns=data.feature_names)\n",
        "df.head()\n",
        "df['target'] = data['target']"
      ],
      "metadata": {
        "id": "hzh0QeBJ8Jvy"
      },
      "execution_count": null,
      "outputs": []
    },
    {
      "cell_type": "code",
      "source": [
        "df.shape"
      ],
      "metadata": {
        "colab": {
          "base_uri": "https://localhost:8080/"
        },
        "id": "RvgzWCZH8JFC",
        "outputId": "530f2405-dbb2-4404-b70a-0ee47e39a7fb"
      },
      "execution_count": null,
      "outputs": [
        {
          "output_type": "execute_result",
          "data": {
            "text/plain": [
              "(569, 31)"
            ]
          },
          "metadata": {},
          "execution_count": 4
        }
      ]
    },
    {
      "cell_type": "code",
      "source": [
        "df['target'].value_counts()"
      ],
      "metadata": {
        "colab": {
          "base_uri": "https://localhost:8080/",
          "height": 178
        },
        "id": "zm3q3jn_8rvK",
        "outputId": "2e8d2217-1cad-4991-d2a5-03a3711b25c3"
      },
      "execution_count": null,
      "outputs": [
        {
          "output_type": "execute_result",
          "data": {
            "text/plain": [
              "target\n",
              "1    357\n",
              "0    212\n",
              "Name: count, dtype: int64"
            ],
            "text/html": [
              "<div>\n",
              "<style scoped>\n",
              "    .dataframe tbody tr th:only-of-type {\n",
              "        vertical-align: middle;\n",
              "    }\n",
              "\n",
              "    .dataframe tbody tr th {\n",
              "        vertical-align: top;\n",
              "    }\n",
              "\n",
              "    .dataframe thead th {\n",
              "        text-align: right;\n",
              "    }\n",
              "</style>\n",
              "<table border=\"1\" class=\"dataframe\">\n",
              "  <thead>\n",
              "    <tr style=\"text-align: right;\">\n",
              "      <th></th>\n",
              "      <th>count</th>\n",
              "    </tr>\n",
              "    <tr>\n",
              "      <th>target</th>\n",
              "      <th></th>\n",
              "    </tr>\n",
              "  </thead>\n",
              "  <tbody>\n",
              "    <tr>\n",
              "      <th>1</th>\n",
              "      <td>357</td>\n",
              "    </tr>\n",
              "    <tr>\n",
              "      <th>0</th>\n",
              "      <td>212</td>\n",
              "    </tr>\n",
              "  </tbody>\n",
              "</table>\n",
              "</div><br><label><b>dtype:</b> int64</label>"
            ]
          },
          "metadata": {},
          "execution_count": 5
        }
      ]
    },
    {
      "cell_type": "code",
      "source": [
        "df"
      ],
      "metadata": {
        "colab": {
          "base_uri": "https://localhost:8080/",
          "height": 478
        },
        "id": "1chCRq2R82YS",
        "outputId": "09847afa-a829-47b8-a606-c7569e2e1859"
      },
      "execution_count": null,
      "outputs": [
        {
          "output_type": "execute_result",
          "data": {
            "text/plain": [
              "     mean radius  mean texture  mean perimeter  mean area  mean smoothness  \\\n",
              "0          17.99         10.38          122.80     1001.0          0.11840   \n",
              "1          20.57         17.77          132.90     1326.0          0.08474   \n",
              "2          19.69         21.25          130.00     1203.0          0.10960   \n",
              "3          11.42         20.38           77.58      386.1          0.14250   \n",
              "4          20.29         14.34          135.10     1297.0          0.10030   \n",
              "..           ...           ...             ...        ...              ...   \n",
              "564        21.56         22.39          142.00     1479.0          0.11100   \n",
              "565        20.13         28.25          131.20     1261.0          0.09780   \n",
              "566        16.60         28.08          108.30      858.1          0.08455   \n",
              "567        20.60         29.33          140.10     1265.0          0.11780   \n",
              "568         7.76         24.54           47.92      181.0          0.05263   \n",
              "\n",
              "     mean compactness  mean concavity  mean concave points  mean symmetry  \\\n",
              "0             0.27760         0.30010              0.14710         0.2419   \n",
              "1             0.07864         0.08690              0.07017         0.1812   \n",
              "2             0.15990         0.19740              0.12790         0.2069   \n",
              "3             0.28390         0.24140              0.10520         0.2597   \n",
              "4             0.13280         0.19800              0.10430         0.1809   \n",
              "..                ...             ...                  ...            ...   \n",
              "564           0.11590         0.24390              0.13890         0.1726   \n",
              "565           0.10340         0.14400              0.09791         0.1752   \n",
              "566           0.10230         0.09251              0.05302         0.1590   \n",
              "567           0.27700         0.35140              0.15200         0.2397   \n",
              "568           0.04362         0.00000              0.00000         0.1587   \n",
              "\n",
              "     mean fractal dimension  ...  worst texture  worst perimeter  worst area  \\\n",
              "0                   0.07871  ...          17.33           184.60      2019.0   \n",
              "1                   0.05667  ...          23.41           158.80      1956.0   \n",
              "2                   0.05999  ...          25.53           152.50      1709.0   \n",
              "3                   0.09744  ...          26.50            98.87       567.7   \n",
              "4                   0.05883  ...          16.67           152.20      1575.0   \n",
              "..                      ...  ...            ...              ...         ...   \n",
              "564                 0.05623  ...          26.40           166.10      2027.0   \n",
              "565                 0.05533  ...          38.25           155.00      1731.0   \n",
              "566                 0.05648  ...          34.12           126.70      1124.0   \n",
              "567                 0.07016  ...          39.42           184.60      1821.0   \n",
              "568                 0.05884  ...          30.37            59.16       268.6   \n",
              "\n",
              "     worst smoothness  worst compactness  worst concavity  \\\n",
              "0             0.16220            0.66560           0.7119   \n",
              "1             0.12380            0.18660           0.2416   \n",
              "2             0.14440            0.42450           0.4504   \n",
              "3             0.20980            0.86630           0.6869   \n",
              "4             0.13740            0.20500           0.4000   \n",
              "..                ...                ...              ...   \n",
              "564           0.14100            0.21130           0.4107   \n",
              "565           0.11660            0.19220           0.3215   \n",
              "566           0.11390            0.30940           0.3403   \n",
              "567           0.16500            0.86810           0.9387   \n",
              "568           0.08996            0.06444           0.0000   \n",
              "\n",
              "     worst concave points  worst symmetry  worst fractal dimension  target  \n",
              "0                  0.2654          0.4601                  0.11890       0  \n",
              "1                  0.1860          0.2750                  0.08902       0  \n",
              "2                  0.2430          0.3613                  0.08758       0  \n",
              "3                  0.2575          0.6638                  0.17300       0  \n",
              "4                  0.1625          0.2364                  0.07678       0  \n",
              "..                    ...             ...                      ...     ...  \n",
              "564                0.2216          0.2060                  0.07115       0  \n",
              "565                0.1628          0.2572                  0.06637       0  \n",
              "566                0.1418          0.2218                  0.07820       0  \n",
              "567                0.2650          0.4087                  0.12400       0  \n",
              "568                0.0000          0.2871                  0.07039       1  \n",
              "\n",
              "[569 rows x 31 columns]"
            ],
            "text/html": [
              "\n",
              "  <div id=\"df-00ef53b7-eb37-4149-a355-5874d0584763\" class=\"colab-df-container\">\n",
              "    <div>\n",
              "<style scoped>\n",
              "    .dataframe tbody tr th:only-of-type {\n",
              "        vertical-align: middle;\n",
              "    }\n",
              "\n",
              "    .dataframe tbody tr th {\n",
              "        vertical-align: top;\n",
              "    }\n",
              "\n",
              "    .dataframe thead th {\n",
              "        text-align: right;\n",
              "    }\n",
              "</style>\n",
              "<table border=\"1\" class=\"dataframe\">\n",
              "  <thead>\n",
              "    <tr style=\"text-align: right;\">\n",
              "      <th></th>\n",
              "      <th>mean radius</th>\n",
              "      <th>mean texture</th>\n",
              "      <th>mean perimeter</th>\n",
              "      <th>mean area</th>\n",
              "      <th>mean smoothness</th>\n",
              "      <th>mean compactness</th>\n",
              "      <th>mean concavity</th>\n",
              "      <th>mean concave points</th>\n",
              "      <th>mean symmetry</th>\n",
              "      <th>mean fractal dimension</th>\n",
              "      <th>...</th>\n",
              "      <th>worst texture</th>\n",
              "      <th>worst perimeter</th>\n",
              "      <th>worst area</th>\n",
              "      <th>worst smoothness</th>\n",
              "      <th>worst compactness</th>\n",
              "      <th>worst concavity</th>\n",
              "      <th>worst concave points</th>\n",
              "      <th>worst symmetry</th>\n",
              "      <th>worst fractal dimension</th>\n",
              "      <th>target</th>\n",
              "    </tr>\n",
              "  </thead>\n",
              "  <tbody>\n",
              "    <tr>\n",
              "      <th>0</th>\n",
              "      <td>17.99</td>\n",
              "      <td>10.38</td>\n",
              "      <td>122.80</td>\n",
              "      <td>1001.0</td>\n",
              "      <td>0.11840</td>\n",
              "      <td>0.27760</td>\n",
              "      <td>0.30010</td>\n",
              "      <td>0.14710</td>\n",
              "      <td>0.2419</td>\n",
              "      <td>0.07871</td>\n",
              "      <td>...</td>\n",
              "      <td>17.33</td>\n",
              "      <td>184.60</td>\n",
              "      <td>2019.0</td>\n",
              "      <td>0.16220</td>\n",
              "      <td>0.66560</td>\n",
              "      <td>0.7119</td>\n",
              "      <td>0.2654</td>\n",
              "      <td>0.4601</td>\n",
              "      <td>0.11890</td>\n",
              "      <td>0</td>\n",
              "    </tr>\n",
              "    <tr>\n",
              "      <th>1</th>\n",
              "      <td>20.57</td>\n",
              "      <td>17.77</td>\n",
              "      <td>132.90</td>\n",
              "      <td>1326.0</td>\n",
              "      <td>0.08474</td>\n",
              "      <td>0.07864</td>\n",
              "      <td>0.08690</td>\n",
              "      <td>0.07017</td>\n",
              "      <td>0.1812</td>\n",
              "      <td>0.05667</td>\n",
              "      <td>...</td>\n",
              "      <td>23.41</td>\n",
              "      <td>158.80</td>\n",
              "      <td>1956.0</td>\n",
              "      <td>0.12380</td>\n",
              "      <td>0.18660</td>\n",
              "      <td>0.2416</td>\n",
              "      <td>0.1860</td>\n",
              "      <td>0.2750</td>\n",
              "      <td>0.08902</td>\n",
              "      <td>0</td>\n",
              "    </tr>\n",
              "    <tr>\n",
              "      <th>2</th>\n",
              "      <td>19.69</td>\n",
              "      <td>21.25</td>\n",
              "      <td>130.00</td>\n",
              "      <td>1203.0</td>\n",
              "      <td>0.10960</td>\n",
              "      <td>0.15990</td>\n",
              "      <td>0.19740</td>\n",
              "      <td>0.12790</td>\n",
              "      <td>0.2069</td>\n",
              "      <td>0.05999</td>\n",
              "      <td>...</td>\n",
              "      <td>25.53</td>\n",
              "      <td>152.50</td>\n",
              "      <td>1709.0</td>\n",
              "      <td>0.14440</td>\n",
              "      <td>0.42450</td>\n",
              "      <td>0.4504</td>\n",
              "      <td>0.2430</td>\n",
              "      <td>0.3613</td>\n",
              "      <td>0.08758</td>\n",
              "      <td>0</td>\n",
              "    </tr>\n",
              "    <tr>\n",
              "      <th>3</th>\n",
              "      <td>11.42</td>\n",
              "      <td>20.38</td>\n",
              "      <td>77.58</td>\n",
              "      <td>386.1</td>\n",
              "      <td>0.14250</td>\n",
              "      <td>0.28390</td>\n",
              "      <td>0.24140</td>\n",
              "      <td>0.10520</td>\n",
              "      <td>0.2597</td>\n",
              "      <td>0.09744</td>\n",
              "      <td>...</td>\n",
              "      <td>26.50</td>\n",
              "      <td>98.87</td>\n",
              "      <td>567.7</td>\n",
              "      <td>0.20980</td>\n",
              "      <td>0.86630</td>\n",
              "      <td>0.6869</td>\n",
              "      <td>0.2575</td>\n",
              "      <td>0.6638</td>\n",
              "      <td>0.17300</td>\n",
              "      <td>0</td>\n",
              "    </tr>\n",
              "    <tr>\n",
              "      <th>4</th>\n",
              "      <td>20.29</td>\n",
              "      <td>14.34</td>\n",
              "      <td>135.10</td>\n",
              "      <td>1297.0</td>\n",
              "      <td>0.10030</td>\n",
              "      <td>0.13280</td>\n",
              "      <td>0.19800</td>\n",
              "      <td>0.10430</td>\n",
              "      <td>0.1809</td>\n",
              "      <td>0.05883</td>\n",
              "      <td>...</td>\n",
              "      <td>16.67</td>\n",
              "      <td>152.20</td>\n",
              "      <td>1575.0</td>\n",
              "      <td>0.13740</td>\n",
              "      <td>0.20500</td>\n",
              "      <td>0.4000</td>\n",
              "      <td>0.1625</td>\n",
              "      <td>0.2364</td>\n",
              "      <td>0.07678</td>\n",
              "      <td>0</td>\n",
              "    </tr>\n",
              "    <tr>\n",
              "      <th>...</th>\n",
              "      <td>...</td>\n",
              "      <td>...</td>\n",
              "      <td>...</td>\n",
              "      <td>...</td>\n",
              "      <td>...</td>\n",
              "      <td>...</td>\n",
              "      <td>...</td>\n",
              "      <td>...</td>\n",
              "      <td>...</td>\n",
              "      <td>...</td>\n",
              "      <td>...</td>\n",
              "      <td>...</td>\n",
              "      <td>...</td>\n",
              "      <td>...</td>\n",
              "      <td>...</td>\n",
              "      <td>...</td>\n",
              "      <td>...</td>\n",
              "      <td>...</td>\n",
              "      <td>...</td>\n",
              "      <td>...</td>\n",
              "      <td>...</td>\n",
              "    </tr>\n",
              "    <tr>\n",
              "      <th>564</th>\n",
              "      <td>21.56</td>\n",
              "      <td>22.39</td>\n",
              "      <td>142.00</td>\n",
              "      <td>1479.0</td>\n",
              "      <td>0.11100</td>\n",
              "      <td>0.11590</td>\n",
              "      <td>0.24390</td>\n",
              "      <td>0.13890</td>\n",
              "      <td>0.1726</td>\n",
              "      <td>0.05623</td>\n",
              "      <td>...</td>\n",
              "      <td>26.40</td>\n",
              "      <td>166.10</td>\n",
              "      <td>2027.0</td>\n",
              "      <td>0.14100</td>\n",
              "      <td>0.21130</td>\n",
              "      <td>0.4107</td>\n",
              "      <td>0.2216</td>\n",
              "      <td>0.2060</td>\n",
              "      <td>0.07115</td>\n",
              "      <td>0</td>\n",
              "    </tr>\n",
              "    <tr>\n",
              "      <th>565</th>\n",
              "      <td>20.13</td>\n",
              "      <td>28.25</td>\n",
              "      <td>131.20</td>\n",
              "      <td>1261.0</td>\n",
              "      <td>0.09780</td>\n",
              "      <td>0.10340</td>\n",
              "      <td>0.14400</td>\n",
              "      <td>0.09791</td>\n",
              "      <td>0.1752</td>\n",
              "      <td>0.05533</td>\n",
              "      <td>...</td>\n",
              "      <td>38.25</td>\n",
              "      <td>155.00</td>\n",
              "      <td>1731.0</td>\n",
              "      <td>0.11660</td>\n",
              "      <td>0.19220</td>\n",
              "      <td>0.3215</td>\n",
              "      <td>0.1628</td>\n",
              "      <td>0.2572</td>\n",
              "      <td>0.06637</td>\n",
              "      <td>0</td>\n",
              "    </tr>\n",
              "    <tr>\n",
              "      <th>566</th>\n",
              "      <td>16.60</td>\n",
              "      <td>28.08</td>\n",
              "      <td>108.30</td>\n",
              "      <td>858.1</td>\n",
              "      <td>0.08455</td>\n",
              "      <td>0.10230</td>\n",
              "      <td>0.09251</td>\n",
              "      <td>0.05302</td>\n",
              "      <td>0.1590</td>\n",
              "      <td>0.05648</td>\n",
              "      <td>...</td>\n",
              "      <td>34.12</td>\n",
              "      <td>126.70</td>\n",
              "      <td>1124.0</td>\n",
              "      <td>0.11390</td>\n",
              "      <td>0.30940</td>\n",
              "      <td>0.3403</td>\n",
              "      <td>0.1418</td>\n",
              "      <td>0.2218</td>\n",
              "      <td>0.07820</td>\n",
              "      <td>0</td>\n",
              "    </tr>\n",
              "    <tr>\n",
              "      <th>567</th>\n",
              "      <td>20.60</td>\n",
              "      <td>29.33</td>\n",
              "      <td>140.10</td>\n",
              "      <td>1265.0</td>\n",
              "      <td>0.11780</td>\n",
              "      <td>0.27700</td>\n",
              "      <td>0.35140</td>\n",
              "      <td>0.15200</td>\n",
              "      <td>0.2397</td>\n",
              "      <td>0.07016</td>\n",
              "      <td>...</td>\n",
              "      <td>39.42</td>\n",
              "      <td>184.60</td>\n",
              "      <td>1821.0</td>\n",
              "      <td>0.16500</td>\n",
              "      <td>0.86810</td>\n",
              "      <td>0.9387</td>\n",
              "      <td>0.2650</td>\n",
              "      <td>0.4087</td>\n",
              "      <td>0.12400</td>\n",
              "      <td>0</td>\n",
              "    </tr>\n",
              "    <tr>\n",
              "      <th>568</th>\n",
              "      <td>7.76</td>\n",
              "      <td>24.54</td>\n",
              "      <td>47.92</td>\n",
              "      <td>181.0</td>\n",
              "      <td>0.05263</td>\n",
              "      <td>0.04362</td>\n",
              "      <td>0.00000</td>\n",
              "      <td>0.00000</td>\n",
              "      <td>0.1587</td>\n",
              "      <td>0.05884</td>\n",
              "      <td>...</td>\n",
              "      <td>30.37</td>\n",
              "      <td>59.16</td>\n",
              "      <td>268.6</td>\n",
              "      <td>0.08996</td>\n",
              "      <td>0.06444</td>\n",
              "      <td>0.0000</td>\n",
              "      <td>0.0000</td>\n",
              "      <td>0.2871</td>\n",
              "      <td>0.07039</td>\n",
              "      <td>1</td>\n",
              "    </tr>\n",
              "  </tbody>\n",
              "</table>\n",
              "<p>569 rows × 31 columns</p>\n",
              "</div>\n",
              "    <div class=\"colab-df-buttons\">\n",
              "\n",
              "  <div class=\"colab-df-container\">\n",
              "    <button class=\"colab-df-convert\" onclick=\"convertToInteractive('df-00ef53b7-eb37-4149-a355-5874d0584763')\"\n",
              "            title=\"Convert this dataframe to an interactive table.\"\n",
              "            style=\"display:none;\">\n",
              "\n",
              "  <svg xmlns=\"http://www.w3.org/2000/svg\" height=\"24px\" viewBox=\"0 -960 960 960\">\n",
              "    <path d=\"M120-120v-720h720v720H120Zm60-500h600v-160H180v160Zm220 220h160v-160H400v160Zm0 220h160v-160H400v160ZM180-400h160v-160H180v160Zm440 0h160v-160H620v160ZM180-180h160v-160H180v160Zm440 0h160v-160H620v160Z\"/>\n",
              "  </svg>\n",
              "    </button>\n",
              "\n",
              "  <style>\n",
              "    .colab-df-container {\n",
              "      display:flex;\n",
              "      gap: 12px;\n",
              "    }\n",
              "\n",
              "    .colab-df-convert {\n",
              "      background-color: #E8F0FE;\n",
              "      border: none;\n",
              "      border-radius: 50%;\n",
              "      cursor: pointer;\n",
              "      display: none;\n",
              "      fill: #1967D2;\n",
              "      height: 32px;\n",
              "      padding: 0 0 0 0;\n",
              "      width: 32px;\n",
              "    }\n",
              "\n",
              "    .colab-df-convert:hover {\n",
              "      background-color: #E2EBFA;\n",
              "      box-shadow: 0px 1px 2px rgba(60, 64, 67, 0.3), 0px 1px 3px 1px rgba(60, 64, 67, 0.15);\n",
              "      fill: #174EA6;\n",
              "    }\n",
              "\n",
              "    .colab-df-buttons div {\n",
              "      margin-bottom: 4px;\n",
              "    }\n",
              "\n",
              "    [theme=dark] .colab-df-convert {\n",
              "      background-color: #3B4455;\n",
              "      fill: #D2E3FC;\n",
              "    }\n",
              "\n",
              "    [theme=dark] .colab-df-convert:hover {\n",
              "      background-color: #434B5C;\n",
              "      box-shadow: 0px 1px 3px 1px rgba(0, 0, 0, 0.15);\n",
              "      filter: drop-shadow(0px 1px 2px rgba(0, 0, 0, 0.3));\n",
              "      fill: #FFFFFF;\n",
              "    }\n",
              "  </style>\n",
              "\n",
              "    <script>\n",
              "      const buttonEl =\n",
              "        document.querySelector('#df-00ef53b7-eb37-4149-a355-5874d0584763 button.colab-df-convert');\n",
              "      buttonEl.style.display =\n",
              "        google.colab.kernel.accessAllowed ? 'block' : 'none';\n",
              "\n",
              "      async function convertToInteractive(key) {\n",
              "        const element = document.querySelector('#df-00ef53b7-eb37-4149-a355-5874d0584763');\n",
              "        const dataTable =\n",
              "          await google.colab.kernel.invokeFunction('convertToInteractive',\n",
              "                                                    [key], {});\n",
              "        if (!dataTable) return;\n",
              "\n",
              "        const docLinkHtml = 'Like what you see? Visit the ' +\n",
              "          '<a target=\"_blank\" href=https://colab.research.google.com/notebooks/data_table.ipynb>data table notebook</a>'\n",
              "          + ' to learn more about interactive tables.';\n",
              "        element.innerHTML = '';\n",
              "        dataTable['output_type'] = 'display_data';\n",
              "        await google.colab.output.renderOutput(dataTable, element);\n",
              "        const docLink = document.createElement('div');\n",
              "        docLink.innerHTML = docLinkHtml;\n",
              "        element.appendChild(docLink);\n",
              "      }\n",
              "    </script>\n",
              "  </div>\n",
              "\n",
              "\n",
              "<div id=\"df-ecdd69cc-d64f-4f32-9cec-29ed9cb650bb\">\n",
              "  <button class=\"colab-df-quickchart\" onclick=\"quickchart('df-ecdd69cc-d64f-4f32-9cec-29ed9cb650bb')\"\n",
              "            title=\"Suggest charts\"\n",
              "            style=\"display:none;\">\n",
              "\n",
              "<svg xmlns=\"http://www.w3.org/2000/svg\" height=\"24px\"viewBox=\"0 0 24 24\"\n",
              "     width=\"24px\">\n",
              "    <g>\n",
              "        <path d=\"M19 3H5c-1.1 0-2 .9-2 2v14c0 1.1.9 2 2 2h14c1.1 0 2-.9 2-2V5c0-1.1-.9-2-2-2zM9 17H7v-7h2v7zm4 0h-2V7h2v10zm4 0h-2v-4h2v4z\"/>\n",
              "    </g>\n",
              "</svg>\n",
              "  </button>\n",
              "\n",
              "<style>\n",
              "  .colab-df-quickchart {\n",
              "      --bg-color: #E8F0FE;\n",
              "      --fill-color: #1967D2;\n",
              "      --hover-bg-color: #E2EBFA;\n",
              "      --hover-fill-color: #174EA6;\n",
              "      --disabled-fill-color: #AAA;\n",
              "      --disabled-bg-color: #DDD;\n",
              "  }\n",
              "\n",
              "  [theme=dark] .colab-df-quickchart {\n",
              "      --bg-color: #3B4455;\n",
              "      --fill-color: #D2E3FC;\n",
              "      --hover-bg-color: #434B5C;\n",
              "      --hover-fill-color: #FFFFFF;\n",
              "      --disabled-bg-color: #3B4455;\n",
              "      --disabled-fill-color: #666;\n",
              "  }\n",
              "\n",
              "  .colab-df-quickchart {\n",
              "    background-color: var(--bg-color);\n",
              "    border: none;\n",
              "    border-radius: 50%;\n",
              "    cursor: pointer;\n",
              "    display: none;\n",
              "    fill: var(--fill-color);\n",
              "    height: 32px;\n",
              "    padding: 0;\n",
              "    width: 32px;\n",
              "  }\n",
              "\n",
              "  .colab-df-quickchart:hover {\n",
              "    background-color: var(--hover-bg-color);\n",
              "    box-shadow: 0 1px 2px rgba(60, 64, 67, 0.3), 0 1px 3px 1px rgba(60, 64, 67, 0.15);\n",
              "    fill: var(--button-hover-fill-color);\n",
              "  }\n",
              "\n",
              "  .colab-df-quickchart-complete:disabled,\n",
              "  .colab-df-quickchart-complete:disabled:hover {\n",
              "    background-color: var(--disabled-bg-color);\n",
              "    fill: var(--disabled-fill-color);\n",
              "    box-shadow: none;\n",
              "  }\n",
              "\n",
              "  .colab-df-spinner {\n",
              "    border: 2px solid var(--fill-color);\n",
              "    border-color: transparent;\n",
              "    border-bottom-color: var(--fill-color);\n",
              "    animation:\n",
              "      spin 1s steps(1) infinite;\n",
              "  }\n",
              "\n",
              "  @keyframes spin {\n",
              "    0% {\n",
              "      border-color: transparent;\n",
              "      border-bottom-color: var(--fill-color);\n",
              "      border-left-color: var(--fill-color);\n",
              "    }\n",
              "    20% {\n",
              "      border-color: transparent;\n",
              "      border-left-color: var(--fill-color);\n",
              "      border-top-color: var(--fill-color);\n",
              "    }\n",
              "    30% {\n",
              "      border-color: transparent;\n",
              "      border-left-color: var(--fill-color);\n",
              "      border-top-color: var(--fill-color);\n",
              "      border-right-color: var(--fill-color);\n",
              "    }\n",
              "    40% {\n",
              "      border-color: transparent;\n",
              "      border-right-color: var(--fill-color);\n",
              "      border-top-color: var(--fill-color);\n",
              "    }\n",
              "    60% {\n",
              "      border-color: transparent;\n",
              "      border-right-color: var(--fill-color);\n",
              "    }\n",
              "    80% {\n",
              "      border-color: transparent;\n",
              "      border-right-color: var(--fill-color);\n",
              "      border-bottom-color: var(--fill-color);\n",
              "    }\n",
              "    90% {\n",
              "      border-color: transparent;\n",
              "      border-bottom-color: var(--fill-color);\n",
              "    }\n",
              "  }\n",
              "</style>\n",
              "\n",
              "  <script>\n",
              "    async function quickchart(key) {\n",
              "      const quickchartButtonEl =\n",
              "        document.querySelector('#' + key + ' button');\n",
              "      quickchartButtonEl.disabled = true;  // To prevent multiple clicks.\n",
              "      quickchartButtonEl.classList.add('colab-df-spinner');\n",
              "      try {\n",
              "        const charts = await google.colab.kernel.invokeFunction(\n",
              "            'suggestCharts', [key], {});\n",
              "      } catch (error) {\n",
              "        console.error('Error during call to suggestCharts:', error);\n",
              "      }\n",
              "      quickchartButtonEl.classList.remove('colab-df-spinner');\n",
              "      quickchartButtonEl.classList.add('colab-df-quickchart-complete');\n",
              "    }\n",
              "    (() => {\n",
              "      let quickchartButtonEl =\n",
              "        document.querySelector('#df-ecdd69cc-d64f-4f32-9cec-29ed9cb650bb button');\n",
              "      quickchartButtonEl.style.display =\n",
              "        google.colab.kernel.accessAllowed ? 'block' : 'none';\n",
              "    })();\n",
              "  </script>\n",
              "</div>\n",
              "\n",
              "  <div id=\"id_e7d0a14e-9fb6-4b37-a1d2-4681a1f8d5c5\">\n",
              "    <style>\n",
              "      .colab-df-generate {\n",
              "        background-color: #E8F0FE;\n",
              "        border: none;\n",
              "        border-radius: 50%;\n",
              "        cursor: pointer;\n",
              "        display: none;\n",
              "        fill: #1967D2;\n",
              "        height: 32px;\n",
              "        padding: 0 0 0 0;\n",
              "        width: 32px;\n",
              "      }\n",
              "\n",
              "      .colab-df-generate:hover {\n",
              "        background-color: #E2EBFA;\n",
              "        box-shadow: 0px 1px 2px rgba(60, 64, 67, 0.3), 0px 1px 3px 1px rgba(60, 64, 67, 0.15);\n",
              "        fill: #174EA6;\n",
              "      }\n",
              "\n",
              "      [theme=dark] .colab-df-generate {\n",
              "        background-color: #3B4455;\n",
              "        fill: #D2E3FC;\n",
              "      }\n",
              "\n",
              "      [theme=dark] .colab-df-generate:hover {\n",
              "        background-color: #434B5C;\n",
              "        box-shadow: 0px 1px 3px 1px rgba(0, 0, 0, 0.15);\n",
              "        filter: drop-shadow(0px 1px 2px rgba(0, 0, 0, 0.3));\n",
              "        fill: #FFFFFF;\n",
              "      }\n",
              "    </style>\n",
              "    <button class=\"colab-df-generate\" onclick=\"generateWithVariable('df')\"\n",
              "            title=\"Generate code using this dataframe.\"\n",
              "            style=\"display:none;\">\n",
              "\n",
              "  <svg xmlns=\"http://www.w3.org/2000/svg\" height=\"24px\"viewBox=\"0 0 24 24\"\n",
              "       width=\"24px\">\n",
              "    <path d=\"M7,19H8.4L18.45,9,17,7.55,7,17.6ZM5,21V16.75L18.45,3.32a2,2,0,0,1,2.83,0l1.4,1.43a1.91,1.91,0,0,1,.58,1.4,1.91,1.91,0,0,1-.58,1.4L9.25,21ZM18.45,9,17,7.55Zm-12,3A5.31,5.31,0,0,0,4.9,8.1,5.31,5.31,0,0,0,1,6.5,5.31,5.31,0,0,0,4.9,4.9,5.31,5.31,0,0,0,6.5,1,5.31,5.31,0,0,0,8.1,4.9,5.31,5.31,0,0,0,12,6.5,5.46,5.46,0,0,0,6.5,12Z\"/>\n",
              "  </svg>\n",
              "    </button>\n",
              "    <script>\n",
              "      (() => {\n",
              "      const buttonEl =\n",
              "        document.querySelector('#id_e7d0a14e-9fb6-4b37-a1d2-4681a1f8d5c5 button.colab-df-generate');\n",
              "      buttonEl.style.display =\n",
              "        google.colab.kernel.accessAllowed ? 'block' : 'none';\n",
              "\n",
              "      buttonEl.onclick = () => {\n",
              "        google.colab.notebook.generateWithVariable('df');\n",
              "      }\n",
              "      })();\n",
              "    </script>\n",
              "  </div>\n",
              "\n",
              "    </div>\n",
              "  </div>\n"
            ],
            "application/vnd.google.colaboratory.intrinsic+json": {
              "type": "dataframe",
              "variable_name": "df"
            }
          },
          "metadata": {},
          "execution_count": 6
        }
      ]
    },
    {
      "cell_type": "code",
      "source": [
        "data"
      ],
      "metadata": {
        "colab": {
          "base_uri": "https://localhost:8080/"
        },
        "id": "w-Wz6ytP8_uK",
        "outputId": "371f00b3-6320-4634-8032-e44b254171c9"
      },
      "execution_count": null,
      "outputs": [
        {
          "output_type": "execute_result",
          "data": {
            "text/plain": [
              "{'data': array([[1.799e+01, 1.038e+01, 1.228e+02, ..., 2.654e-01, 4.601e-01,\n",
              "         1.189e-01],\n",
              "        [2.057e+01, 1.777e+01, 1.329e+02, ..., 1.860e-01, 2.750e-01,\n",
              "         8.902e-02],\n",
              "        [1.969e+01, 2.125e+01, 1.300e+02, ..., 2.430e-01, 3.613e-01,\n",
              "         8.758e-02],\n",
              "        ...,\n",
              "        [1.660e+01, 2.808e+01, 1.083e+02, ..., 1.418e-01, 2.218e-01,\n",
              "         7.820e-02],\n",
              "        [2.060e+01, 2.933e+01, 1.401e+02, ..., 2.650e-01, 4.087e-01,\n",
              "         1.240e-01],\n",
              "        [7.760e+00, 2.454e+01, 4.792e+01, ..., 0.000e+00, 2.871e-01,\n",
              "         7.039e-02]]),\n",
              " 'target': array([0, 0, 0, 0, 0, 0, 0, 0, 0, 0, 0, 0, 0, 0, 0, 0, 0, 0, 0, 1, 1, 1,\n",
              "        0, 0, 0, 0, 0, 0, 0, 0, 0, 0, 0, 0, 0, 0, 0, 1, 0, 0, 0, 0, 0, 0,\n",
              "        0, 0, 1, 0, 1, 1, 1, 1, 1, 0, 0, 1, 0, 0, 1, 1, 1, 1, 0, 1, 0, 0,\n",
              "        1, 1, 1, 1, 0, 1, 0, 0, 1, 0, 1, 0, 0, 1, 1, 1, 0, 0, 1, 0, 0, 0,\n",
              "        1, 1, 1, 0, 1, 1, 0, 0, 1, 1, 1, 0, 0, 1, 1, 1, 1, 0, 1, 1, 0, 1,\n",
              "        1, 1, 1, 1, 1, 1, 1, 0, 0, 0, 1, 0, 0, 1, 1, 1, 0, 0, 1, 0, 1, 0,\n",
              "        0, 1, 0, 0, 1, 1, 0, 1, 1, 0, 1, 1, 1, 1, 0, 1, 1, 1, 1, 1, 1, 1,\n",
              "        1, 1, 0, 1, 1, 1, 1, 0, 0, 1, 0, 1, 1, 0, 0, 1, 1, 0, 0, 1, 1, 1,\n",
              "        1, 0, 1, 1, 0, 0, 0, 1, 0, 1, 0, 1, 1, 1, 0, 1, 1, 0, 0, 1, 0, 0,\n",
              "        0, 0, 1, 0, 0, 0, 1, 0, 1, 0, 1, 1, 0, 1, 0, 0, 0, 0, 1, 1, 0, 0,\n",
              "        1, 1, 1, 0, 1, 1, 1, 1, 1, 0, 0, 1, 1, 0, 1, 1, 0, 0, 1, 0, 1, 1,\n",
              "        1, 1, 0, 1, 1, 1, 1, 1, 0, 1, 0, 0, 0, 0, 0, 0, 0, 0, 0, 0, 0, 0,\n",
              "        0, 0, 1, 1, 1, 1, 1, 1, 0, 1, 0, 1, 1, 0, 1, 1, 0, 1, 0, 0, 1, 1,\n",
              "        1, 1, 1, 1, 1, 1, 1, 1, 1, 1, 1, 0, 1, 1, 0, 1, 0, 1, 1, 1, 1, 1,\n",
              "        1, 1, 1, 1, 1, 1, 1, 1, 1, 0, 1, 1, 1, 0, 1, 0, 1, 1, 1, 1, 0, 0,\n",
              "        0, 1, 1, 1, 1, 0, 1, 0, 1, 0, 1, 1, 1, 0, 1, 1, 1, 1, 1, 1, 1, 0,\n",
              "        0, 0, 1, 1, 1, 1, 1, 1, 1, 1, 1, 1, 1, 0, 0, 1, 0, 0, 0, 1, 0, 0,\n",
              "        1, 1, 1, 1, 1, 0, 1, 1, 1, 1, 1, 0, 1, 1, 1, 0, 1, 1, 0, 0, 1, 1,\n",
              "        1, 1, 1, 1, 0, 1, 1, 1, 1, 1, 1, 1, 0, 1, 1, 1, 1, 1, 0, 1, 1, 0,\n",
              "        1, 1, 1, 1, 1, 1, 1, 1, 1, 1, 1, 1, 0, 1, 0, 0, 1, 0, 1, 1, 1, 1,\n",
              "        1, 0, 1, 1, 0, 1, 0, 1, 1, 0, 1, 0, 1, 1, 1, 1, 1, 1, 1, 1, 0, 0,\n",
              "        1, 1, 1, 1, 1, 1, 0, 1, 1, 1, 1, 1, 1, 1, 1, 1, 1, 0, 1, 1, 1, 1,\n",
              "        1, 1, 1, 0, 1, 0, 1, 1, 0, 1, 1, 1, 1, 1, 0, 0, 1, 0, 1, 0, 1, 1,\n",
              "        1, 1, 1, 0, 1, 1, 0, 1, 0, 1, 0, 0, 1, 1, 1, 0, 1, 1, 1, 1, 1, 1,\n",
              "        1, 1, 1, 1, 1, 0, 1, 0, 0, 1, 1, 1, 1, 1, 1, 1, 1, 1, 1, 1, 1, 1,\n",
              "        1, 1, 1, 1, 1, 1, 1, 1, 1, 1, 1, 1, 0, 0, 0, 0, 0, 0, 1]),\n",
              " 'frame': None,\n",
              " 'target_names': array(['malignant', 'benign'], dtype='<U9'),\n",
              " 'DESCR': '.. _breast_cancer_dataset:\\n\\nBreast cancer wisconsin (diagnostic) dataset\\n--------------------------------------------\\n\\n**Data Set Characteristics:**\\n\\n:Number of Instances: 569\\n\\n:Number of Attributes: 30 numeric, predictive attributes and the class\\n\\n:Attribute Information:\\n    - radius (mean of distances from center to points on the perimeter)\\n    - texture (standard deviation of gray-scale values)\\n    - perimeter\\n    - area\\n    - smoothness (local variation in radius lengths)\\n    - compactness (perimeter^2 / area - 1.0)\\n    - concavity (severity of concave portions of the contour)\\n    - concave points (number of concave portions of the contour)\\n    - symmetry\\n    - fractal dimension (\"coastline approximation\" - 1)\\n\\n    The mean, standard error, and \"worst\" or largest (mean of the three\\n    worst/largest values) of these features were computed for each image,\\n    resulting in 30 features.  For instance, field 0 is Mean Radius, field\\n    10 is Radius SE, field 20 is Worst Radius.\\n\\n    - class:\\n            - WDBC-Malignant\\n            - WDBC-Benign\\n\\n:Summary Statistics:\\n\\n===================================== ====== ======\\n                                        Min    Max\\n===================================== ====== ======\\nradius (mean):                        6.981  28.11\\ntexture (mean):                       9.71   39.28\\nperimeter (mean):                     43.79  188.5\\narea (mean):                          143.5  2501.0\\nsmoothness (mean):                    0.053  0.163\\ncompactness (mean):                   0.019  0.345\\nconcavity (mean):                     0.0    0.427\\nconcave points (mean):                0.0    0.201\\nsymmetry (mean):                      0.106  0.304\\nfractal dimension (mean):             0.05   0.097\\nradius (standard error):              0.112  2.873\\ntexture (standard error):             0.36   4.885\\nperimeter (standard error):           0.757  21.98\\narea (standard error):                6.802  542.2\\nsmoothness (standard error):          0.002  0.031\\ncompactness (standard error):         0.002  0.135\\nconcavity (standard error):           0.0    0.396\\nconcave points (standard error):      0.0    0.053\\nsymmetry (standard error):            0.008  0.079\\nfractal dimension (standard error):   0.001  0.03\\nradius (worst):                       7.93   36.04\\ntexture (worst):                      12.02  49.54\\nperimeter (worst):                    50.41  251.2\\narea (worst):                         185.2  4254.0\\nsmoothness (worst):                   0.071  0.223\\ncompactness (worst):                  0.027  1.058\\nconcavity (worst):                    0.0    1.252\\nconcave points (worst):               0.0    0.291\\nsymmetry (worst):                     0.156  0.664\\nfractal dimension (worst):            0.055  0.208\\n===================================== ====== ======\\n\\n:Missing Attribute Values: None\\n\\n:Class Distribution: 212 - Malignant, 357 - Benign\\n\\n:Creator:  Dr. William H. Wolberg, W. Nick Street, Olvi L. Mangasarian\\n\\n:Donor: Nick Street\\n\\n:Date: November, 1995\\n\\nThis is a copy of UCI ML Breast Cancer Wisconsin (Diagnostic) datasets.\\nhttps://goo.gl/U2Uwz2\\n\\nFeatures are computed from a digitized image of a fine needle\\naspirate (FNA) of a breast mass.  They describe\\ncharacteristics of the cell nuclei present in the image.\\n\\nSeparating plane described above was obtained using\\nMultisurface Method-Tree (MSM-T) [K. P. Bennett, \"Decision Tree\\nConstruction Via Linear Programming.\" Proceedings of the 4th\\nMidwest Artificial Intelligence and Cognitive Science Society,\\npp. 97-101, 1992], a classification method which uses linear\\nprogramming to construct a decision tree.  Relevant features\\nwere selected using an exhaustive search in the space of 1-4\\nfeatures and 1-3 separating planes.\\n\\nThe actual linear program used to obtain the separating plane\\nin the 3-dimensional space is that described in:\\n[K. P. Bennett and O. L. Mangasarian: \"Robust Linear\\nProgramming Discrimination of Two Linearly Inseparable Sets\",\\nOptimization Methods and Software 1, 1992, 23-34].\\n\\nThis database is also available through the UW CS ftp server:\\n\\nftp ftp.cs.wisc.edu\\ncd math-prog/cpo-dataset/machine-learn/WDBC/\\n\\n.. dropdown:: References\\n\\n  - W.N. Street, W.H. Wolberg and O.L. Mangasarian. Nuclear feature extraction\\n    for breast tumor diagnosis. IS&T/SPIE 1993 International Symposium on\\n    Electronic Imaging: Science and Technology, volume 1905, pages 861-870,\\n    San Jose, CA, 1993.\\n  - O.L. Mangasarian, W.N. Street and W.H. Wolberg. Breast cancer diagnosis and\\n    prognosis via linear programming. Operations Research, 43(4), pages 570-577,\\n    July-August 1995.\\n  - W.H. Wolberg, W.N. Street, and O.L. Mangasarian. Machine learning techniques\\n    to diagnose breast cancer from fine-needle aspirates. Cancer Letters 77 (1994)\\n    163-171.\\n',\n",
              " 'feature_names': array(['mean radius', 'mean texture', 'mean perimeter', 'mean area',\n",
              "        'mean smoothness', 'mean compactness', 'mean concavity',\n",
              "        'mean concave points', 'mean symmetry', 'mean fractal dimension',\n",
              "        'radius error', 'texture error', 'perimeter error', 'area error',\n",
              "        'smoothness error', 'compactness error', 'concavity error',\n",
              "        'concave points error', 'symmetry error',\n",
              "        'fractal dimension error', 'worst radius', 'worst texture',\n",
              "        'worst perimeter', 'worst area', 'worst smoothness',\n",
              "        'worst compactness', 'worst concavity', 'worst concave points',\n",
              "        'worst symmetry', 'worst fractal dimension'], dtype='<U23'),\n",
              " 'filename': 'breast_cancer.csv',\n",
              " 'data_module': 'sklearn.datasets.data'}"
            ]
          },
          "metadata": {},
          "execution_count": 7
        }
      ]
    },
    {
      "cell_type": "code",
      "source": [
        "df"
      ],
      "metadata": {
        "colab": {
          "base_uri": "https://localhost:8080/",
          "height": 478
        },
        "id": "KyHSsKwk9BXj",
        "outputId": "78081e86-ee5f-49c7-fa03-4d2d4f77e525"
      },
      "execution_count": null,
      "outputs": [
        {
          "output_type": "execute_result",
          "data": {
            "text/plain": [
              "     mean radius  mean texture  mean perimeter  mean area  mean smoothness  \\\n",
              "0          17.99         10.38          122.80     1001.0          0.11840   \n",
              "1          20.57         17.77          132.90     1326.0          0.08474   \n",
              "2          19.69         21.25          130.00     1203.0          0.10960   \n",
              "3          11.42         20.38           77.58      386.1          0.14250   \n",
              "4          20.29         14.34          135.10     1297.0          0.10030   \n",
              "..           ...           ...             ...        ...              ...   \n",
              "564        21.56         22.39          142.00     1479.0          0.11100   \n",
              "565        20.13         28.25          131.20     1261.0          0.09780   \n",
              "566        16.60         28.08          108.30      858.1          0.08455   \n",
              "567        20.60         29.33          140.10     1265.0          0.11780   \n",
              "568         7.76         24.54           47.92      181.0          0.05263   \n",
              "\n",
              "     mean compactness  mean concavity  mean concave points  mean symmetry  \\\n",
              "0             0.27760         0.30010              0.14710         0.2419   \n",
              "1             0.07864         0.08690              0.07017         0.1812   \n",
              "2             0.15990         0.19740              0.12790         0.2069   \n",
              "3             0.28390         0.24140              0.10520         0.2597   \n",
              "4             0.13280         0.19800              0.10430         0.1809   \n",
              "..                ...             ...                  ...            ...   \n",
              "564           0.11590         0.24390              0.13890         0.1726   \n",
              "565           0.10340         0.14400              0.09791         0.1752   \n",
              "566           0.10230         0.09251              0.05302         0.1590   \n",
              "567           0.27700         0.35140              0.15200         0.2397   \n",
              "568           0.04362         0.00000              0.00000         0.1587   \n",
              "\n",
              "     mean fractal dimension  ...  worst texture  worst perimeter  worst area  \\\n",
              "0                   0.07871  ...          17.33           184.60      2019.0   \n",
              "1                   0.05667  ...          23.41           158.80      1956.0   \n",
              "2                   0.05999  ...          25.53           152.50      1709.0   \n",
              "3                   0.09744  ...          26.50            98.87       567.7   \n",
              "4                   0.05883  ...          16.67           152.20      1575.0   \n",
              "..                      ...  ...            ...              ...         ...   \n",
              "564                 0.05623  ...          26.40           166.10      2027.0   \n",
              "565                 0.05533  ...          38.25           155.00      1731.0   \n",
              "566                 0.05648  ...          34.12           126.70      1124.0   \n",
              "567                 0.07016  ...          39.42           184.60      1821.0   \n",
              "568                 0.05884  ...          30.37            59.16       268.6   \n",
              "\n",
              "     worst smoothness  worst compactness  worst concavity  \\\n",
              "0             0.16220            0.66560           0.7119   \n",
              "1             0.12380            0.18660           0.2416   \n",
              "2             0.14440            0.42450           0.4504   \n",
              "3             0.20980            0.86630           0.6869   \n",
              "4             0.13740            0.20500           0.4000   \n",
              "..                ...                ...              ...   \n",
              "564           0.14100            0.21130           0.4107   \n",
              "565           0.11660            0.19220           0.3215   \n",
              "566           0.11390            0.30940           0.3403   \n",
              "567           0.16500            0.86810           0.9387   \n",
              "568           0.08996            0.06444           0.0000   \n",
              "\n",
              "     worst concave points  worst symmetry  worst fractal dimension  target  \n",
              "0                  0.2654          0.4601                  0.11890       0  \n",
              "1                  0.1860          0.2750                  0.08902       0  \n",
              "2                  0.2430          0.3613                  0.08758       0  \n",
              "3                  0.2575          0.6638                  0.17300       0  \n",
              "4                  0.1625          0.2364                  0.07678       0  \n",
              "..                    ...             ...                      ...     ...  \n",
              "564                0.2216          0.2060                  0.07115       0  \n",
              "565                0.1628          0.2572                  0.06637       0  \n",
              "566                0.1418          0.2218                  0.07820       0  \n",
              "567                0.2650          0.4087                  0.12400       0  \n",
              "568                0.0000          0.2871                  0.07039       1  \n",
              "\n",
              "[569 rows x 31 columns]"
            ],
            "text/html": [
              "\n",
              "  <div id=\"df-a1ac8ce4-38f9-457b-a381-31f4de14877e\" class=\"colab-df-container\">\n",
              "    <div>\n",
              "<style scoped>\n",
              "    .dataframe tbody tr th:only-of-type {\n",
              "        vertical-align: middle;\n",
              "    }\n",
              "\n",
              "    .dataframe tbody tr th {\n",
              "        vertical-align: top;\n",
              "    }\n",
              "\n",
              "    .dataframe thead th {\n",
              "        text-align: right;\n",
              "    }\n",
              "</style>\n",
              "<table border=\"1\" class=\"dataframe\">\n",
              "  <thead>\n",
              "    <tr style=\"text-align: right;\">\n",
              "      <th></th>\n",
              "      <th>mean radius</th>\n",
              "      <th>mean texture</th>\n",
              "      <th>mean perimeter</th>\n",
              "      <th>mean area</th>\n",
              "      <th>mean smoothness</th>\n",
              "      <th>mean compactness</th>\n",
              "      <th>mean concavity</th>\n",
              "      <th>mean concave points</th>\n",
              "      <th>mean symmetry</th>\n",
              "      <th>mean fractal dimension</th>\n",
              "      <th>...</th>\n",
              "      <th>worst texture</th>\n",
              "      <th>worst perimeter</th>\n",
              "      <th>worst area</th>\n",
              "      <th>worst smoothness</th>\n",
              "      <th>worst compactness</th>\n",
              "      <th>worst concavity</th>\n",
              "      <th>worst concave points</th>\n",
              "      <th>worst symmetry</th>\n",
              "      <th>worst fractal dimension</th>\n",
              "      <th>target</th>\n",
              "    </tr>\n",
              "  </thead>\n",
              "  <tbody>\n",
              "    <tr>\n",
              "      <th>0</th>\n",
              "      <td>17.99</td>\n",
              "      <td>10.38</td>\n",
              "      <td>122.80</td>\n",
              "      <td>1001.0</td>\n",
              "      <td>0.11840</td>\n",
              "      <td>0.27760</td>\n",
              "      <td>0.30010</td>\n",
              "      <td>0.14710</td>\n",
              "      <td>0.2419</td>\n",
              "      <td>0.07871</td>\n",
              "      <td>...</td>\n",
              "      <td>17.33</td>\n",
              "      <td>184.60</td>\n",
              "      <td>2019.0</td>\n",
              "      <td>0.16220</td>\n",
              "      <td>0.66560</td>\n",
              "      <td>0.7119</td>\n",
              "      <td>0.2654</td>\n",
              "      <td>0.4601</td>\n",
              "      <td>0.11890</td>\n",
              "      <td>0</td>\n",
              "    </tr>\n",
              "    <tr>\n",
              "      <th>1</th>\n",
              "      <td>20.57</td>\n",
              "      <td>17.77</td>\n",
              "      <td>132.90</td>\n",
              "      <td>1326.0</td>\n",
              "      <td>0.08474</td>\n",
              "      <td>0.07864</td>\n",
              "      <td>0.08690</td>\n",
              "      <td>0.07017</td>\n",
              "      <td>0.1812</td>\n",
              "      <td>0.05667</td>\n",
              "      <td>...</td>\n",
              "      <td>23.41</td>\n",
              "      <td>158.80</td>\n",
              "      <td>1956.0</td>\n",
              "      <td>0.12380</td>\n",
              "      <td>0.18660</td>\n",
              "      <td>0.2416</td>\n",
              "      <td>0.1860</td>\n",
              "      <td>0.2750</td>\n",
              "      <td>0.08902</td>\n",
              "      <td>0</td>\n",
              "    </tr>\n",
              "    <tr>\n",
              "      <th>2</th>\n",
              "      <td>19.69</td>\n",
              "      <td>21.25</td>\n",
              "      <td>130.00</td>\n",
              "      <td>1203.0</td>\n",
              "      <td>0.10960</td>\n",
              "      <td>0.15990</td>\n",
              "      <td>0.19740</td>\n",
              "      <td>0.12790</td>\n",
              "      <td>0.2069</td>\n",
              "      <td>0.05999</td>\n",
              "      <td>...</td>\n",
              "      <td>25.53</td>\n",
              "      <td>152.50</td>\n",
              "      <td>1709.0</td>\n",
              "      <td>0.14440</td>\n",
              "      <td>0.42450</td>\n",
              "      <td>0.4504</td>\n",
              "      <td>0.2430</td>\n",
              "      <td>0.3613</td>\n",
              "      <td>0.08758</td>\n",
              "      <td>0</td>\n",
              "    </tr>\n",
              "    <tr>\n",
              "      <th>3</th>\n",
              "      <td>11.42</td>\n",
              "      <td>20.38</td>\n",
              "      <td>77.58</td>\n",
              "      <td>386.1</td>\n",
              "      <td>0.14250</td>\n",
              "      <td>0.28390</td>\n",
              "      <td>0.24140</td>\n",
              "      <td>0.10520</td>\n",
              "      <td>0.2597</td>\n",
              "      <td>0.09744</td>\n",
              "      <td>...</td>\n",
              "      <td>26.50</td>\n",
              "      <td>98.87</td>\n",
              "      <td>567.7</td>\n",
              "      <td>0.20980</td>\n",
              "      <td>0.86630</td>\n",
              "      <td>0.6869</td>\n",
              "      <td>0.2575</td>\n",
              "      <td>0.6638</td>\n",
              "      <td>0.17300</td>\n",
              "      <td>0</td>\n",
              "    </tr>\n",
              "    <tr>\n",
              "      <th>4</th>\n",
              "      <td>20.29</td>\n",
              "      <td>14.34</td>\n",
              "      <td>135.10</td>\n",
              "      <td>1297.0</td>\n",
              "      <td>0.10030</td>\n",
              "      <td>0.13280</td>\n",
              "      <td>0.19800</td>\n",
              "      <td>0.10430</td>\n",
              "      <td>0.1809</td>\n",
              "      <td>0.05883</td>\n",
              "      <td>...</td>\n",
              "      <td>16.67</td>\n",
              "      <td>152.20</td>\n",
              "      <td>1575.0</td>\n",
              "      <td>0.13740</td>\n",
              "      <td>0.20500</td>\n",
              "      <td>0.4000</td>\n",
              "      <td>0.1625</td>\n",
              "      <td>0.2364</td>\n",
              "      <td>0.07678</td>\n",
              "      <td>0</td>\n",
              "    </tr>\n",
              "    <tr>\n",
              "      <th>...</th>\n",
              "      <td>...</td>\n",
              "      <td>...</td>\n",
              "      <td>...</td>\n",
              "      <td>...</td>\n",
              "      <td>...</td>\n",
              "      <td>...</td>\n",
              "      <td>...</td>\n",
              "      <td>...</td>\n",
              "      <td>...</td>\n",
              "      <td>...</td>\n",
              "      <td>...</td>\n",
              "      <td>...</td>\n",
              "      <td>...</td>\n",
              "      <td>...</td>\n",
              "      <td>...</td>\n",
              "      <td>...</td>\n",
              "      <td>...</td>\n",
              "      <td>...</td>\n",
              "      <td>...</td>\n",
              "      <td>...</td>\n",
              "      <td>...</td>\n",
              "    </tr>\n",
              "    <tr>\n",
              "      <th>564</th>\n",
              "      <td>21.56</td>\n",
              "      <td>22.39</td>\n",
              "      <td>142.00</td>\n",
              "      <td>1479.0</td>\n",
              "      <td>0.11100</td>\n",
              "      <td>0.11590</td>\n",
              "      <td>0.24390</td>\n",
              "      <td>0.13890</td>\n",
              "      <td>0.1726</td>\n",
              "      <td>0.05623</td>\n",
              "      <td>...</td>\n",
              "      <td>26.40</td>\n",
              "      <td>166.10</td>\n",
              "      <td>2027.0</td>\n",
              "      <td>0.14100</td>\n",
              "      <td>0.21130</td>\n",
              "      <td>0.4107</td>\n",
              "      <td>0.2216</td>\n",
              "      <td>0.2060</td>\n",
              "      <td>0.07115</td>\n",
              "      <td>0</td>\n",
              "    </tr>\n",
              "    <tr>\n",
              "      <th>565</th>\n",
              "      <td>20.13</td>\n",
              "      <td>28.25</td>\n",
              "      <td>131.20</td>\n",
              "      <td>1261.0</td>\n",
              "      <td>0.09780</td>\n",
              "      <td>0.10340</td>\n",
              "      <td>0.14400</td>\n",
              "      <td>0.09791</td>\n",
              "      <td>0.1752</td>\n",
              "      <td>0.05533</td>\n",
              "      <td>...</td>\n",
              "      <td>38.25</td>\n",
              "      <td>155.00</td>\n",
              "      <td>1731.0</td>\n",
              "      <td>0.11660</td>\n",
              "      <td>0.19220</td>\n",
              "      <td>0.3215</td>\n",
              "      <td>0.1628</td>\n",
              "      <td>0.2572</td>\n",
              "      <td>0.06637</td>\n",
              "      <td>0</td>\n",
              "    </tr>\n",
              "    <tr>\n",
              "      <th>566</th>\n",
              "      <td>16.60</td>\n",
              "      <td>28.08</td>\n",
              "      <td>108.30</td>\n",
              "      <td>858.1</td>\n",
              "      <td>0.08455</td>\n",
              "      <td>0.10230</td>\n",
              "      <td>0.09251</td>\n",
              "      <td>0.05302</td>\n",
              "      <td>0.1590</td>\n",
              "      <td>0.05648</td>\n",
              "      <td>...</td>\n",
              "      <td>34.12</td>\n",
              "      <td>126.70</td>\n",
              "      <td>1124.0</td>\n",
              "      <td>0.11390</td>\n",
              "      <td>0.30940</td>\n",
              "      <td>0.3403</td>\n",
              "      <td>0.1418</td>\n",
              "      <td>0.2218</td>\n",
              "      <td>0.07820</td>\n",
              "      <td>0</td>\n",
              "    </tr>\n",
              "    <tr>\n",
              "      <th>567</th>\n",
              "      <td>20.60</td>\n",
              "      <td>29.33</td>\n",
              "      <td>140.10</td>\n",
              "      <td>1265.0</td>\n",
              "      <td>0.11780</td>\n",
              "      <td>0.27700</td>\n",
              "      <td>0.35140</td>\n",
              "      <td>0.15200</td>\n",
              "      <td>0.2397</td>\n",
              "      <td>0.07016</td>\n",
              "      <td>...</td>\n",
              "      <td>39.42</td>\n",
              "      <td>184.60</td>\n",
              "      <td>1821.0</td>\n",
              "      <td>0.16500</td>\n",
              "      <td>0.86810</td>\n",
              "      <td>0.9387</td>\n",
              "      <td>0.2650</td>\n",
              "      <td>0.4087</td>\n",
              "      <td>0.12400</td>\n",
              "      <td>0</td>\n",
              "    </tr>\n",
              "    <tr>\n",
              "      <th>568</th>\n",
              "      <td>7.76</td>\n",
              "      <td>24.54</td>\n",
              "      <td>47.92</td>\n",
              "      <td>181.0</td>\n",
              "      <td>0.05263</td>\n",
              "      <td>0.04362</td>\n",
              "      <td>0.00000</td>\n",
              "      <td>0.00000</td>\n",
              "      <td>0.1587</td>\n",
              "      <td>0.05884</td>\n",
              "      <td>...</td>\n",
              "      <td>30.37</td>\n",
              "      <td>59.16</td>\n",
              "      <td>268.6</td>\n",
              "      <td>0.08996</td>\n",
              "      <td>0.06444</td>\n",
              "      <td>0.0000</td>\n",
              "      <td>0.0000</td>\n",
              "      <td>0.2871</td>\n",
              "      <td>0.07039</td>\n",
              "      <td>1</td>\n",
              "    </tr>\n",
              "  </tbody>\n",
              "</table>\n",
              "<p>569 rows × 31 columns</p>\n",
              "</div>\n",
              "    <div class=\"colab-df-buttons\">\n",
              "\n",
              "  <div class=\"colab-df-container\">\n",
              "    <button class=\"colab-df-convert\" onclick=\"convertToInteractive('df-a1ac8ce4-38f9-457b-a381-31f4de14877e')\"\n",
              "            title=\"Convert this dataframe to an interactive table.\"\n",
              "            style=\"display:none;\">\n",
              "\n",
              "  <svg xmlns=\"http://www.w3.org/2000/svg\" height=\"24px\" viewBox=\"0 -960 960 960\">\n",
              "    <path d=\"M120-120v-720h720v720H120Zm60-500h600v-160H180v160Zm220 220h160v-160H400v160Zm0 220h160v-160H400v160ZM180-400h160v-160H180v160Zm440 0h160v-160H620v160ZM180-180h160v-160H180v160Zm440 0h160v-160H620v160Z\"/>\n",
              "  </svg>\n",
              "    </button>\n",
              "\n",
              "  <style>\n",
              "    .colab-df-container {\n",
              "      display:flex;\n",
              "      gap: 12px;\n",
              "    }\n",
              "\n",
              "    .colab-df-convert {\n",
              "      background-color: #E8F0FE;\n",
              "      border: none;\n",
              "      border-radius: 50%;\n",
              "      cursor: pointer;\n",
              "      display: none;\n",
              "      fill: #1967D2;\n",
              "      height: 32px;\n",
              "      padding: 0 0 0 0;\n",
              "      width: 32px;\n",
              "    }\n",
              "\n",
              "    .colab-df-convert:hover {\n",
              "      background-color: #E2EBFA;\n",
              "      box-shadow: 0px 1px 2px rgba(60, 64, 67, 0.3), 0px 1px 3px 1px rgba(60, 64, 67, 0.15);\n",
              "      fill: #174EA6;\n",
              "    }\n",
              "\n",
              "    .colab-df-buttons div {\n",
              "      margin-bottom: 4px;\n",
              "    }\n",
              "\n",
              "    [theme=dark] .colab-df-convert {\n",
              "      background-color: #3B4455;\n",
              "      fill: #D2E3FC;\n",
              "    }\n",
              "\n",
              "    [theme=dark] .colab-df-convert:hover {\n",
              "      background-color: #434B5C;\n",
              "      box-shadow: 0px 1px 3px 1px rgba(0, 0, 0, 0.15);\n",
              "      filter: drop-shadow(0px 1px 2px rgba(0, 0, 0, 0.3));\n",
              "      fill: #FFFFFF;\n",
              "    }\n",
              "  </style>\n",
              "\n",
              "    <script>\n",
              "      const buttonEl =\n",
              "        document.querySelector('#df-a1ac8ce4-38f9-457b-a381-31f4de14877e button.colab-df-convert');\n",
              "      buttonEl.style.display =\n",
              "        google.colab.kernel.accessAllowed ? 'block' : 'none';\n",
              "\n",
              "      async function convertToInteractive(key) {\n",
              "        const element = document.querySelector('#df-a1ac8ce4-38f9-457b-a381-31f4de14877e');\n",
              "        const dataTable =\n",
              "          await google.colab.kernel.invokeFunction('convertToInteractive',\n",
              "                                                    [key], {});\n",
              "        if (!dataTable) return;\n",
              "\n",
              "        const docLinkHtml = 'Like what you see? Visit the ' +\n",
              "          '<a target=\"_blank\" href=https://colab.research.google.com/notebooks/data_table.ipynb>data table notebook</a>'\n",
              "          + ' to learn more about interactive tables.';\n",
              "        element.innerHTML = '';\n",
              "        dataTable['output_type'] = 'display_data';\n",
              "        await google.colab.output.renderOutput(dataTable, element);\n",
              "        const docLink = document.createElement('div');\n",
              "        docLink.innerHTML = docLinkHtml;\n",
              "        element.appendChild(docLink);\n",
              "      }\n",
              "    </script>\n",
              "  </div>\n",
              "\n",
              "\n",
              "<div id=\"df-5f21acdc-2885-4420-bfe8-22dc892dfb89\">\n",
              "  <button class=\"colab-df-quickchart\" onclick=\"quickchart('df-5f21acdc-2885-4420-bfe8-22dc892dfb89')\"\n",
              "            title=\"Suggest charts\"\n",
              "            style=\"display:none;\">\n",
              "\n",
              "<svg xmlns=\"http://www.w3.org/2000/svg\" height=\"24px\"viewBox=\"0 0 24 24\"\n",
              "     width=\"24px\">\n",
              "    <g>\n",
              "        <path d=\"M19 3H5c-1.1 0-2 .9-2 2v14c0 1.1.9 2 2 2h14c1.1 0 2-.9 2-2V5c0-1.1-.9-2-2-2zM9 17H7v-7h2v7zm4 0h-2V7h2v10zm4 0h-2v-4h2v4z\"/>\n",
              "    </g>\n",
              "</svg>\n",
              "  </button>\n",
              "\n",
              "<style>\n",
              "  .colab-df-quickchart {\n",
              "      --bg-color: #E8F0FE;\n",
              "      --fill-color: #1967D2;\n",
              "      --hover-bg-color: #E2EBFA;\n",
              "      --hover-fill-color: #174EA6;\n",
              "      --disabled-fill-color: #AAA;\n",
              "      --disabled-bg-color: #DDD;\n",
              "  }\n",
              "\n",
              "  [theme=dark] .colab-df-quickchart {\n",
              "      --bg-color: #3B4455;\n",
              "      --fill-color: #D2E3FC;\n",
              "      --hover-bg-color: #434B5C;\n",
              "      --hover-fill-color: #FFFFFF;\n",
              "      --disabled-bg-color: #3B4455;\n",
              "      --disabled-fill-color: #666;\n",
              "  }\n",
              "\n",
              "  .colab-df-quickchart {\n",
              "    background-color: var(--bg-color);\n",
              "    border: none;\n",
              "    border-radius: 50%;\n",
              "    cursor: pointer;\n",
              "    display: none;\n",
              "    fill: var(--fill-color);\n",
              "    height: 32px;\n",
              "    padding: 0;\n",
              "    width: 32px;\n",
              "  }\n",
              "\n",
              "  .colab-df-quickchart:hover {\n",
              "    background-color: var(--hover-bg-color);\n",
              "    box-shadow: 0 1px 2px rgba(60, 64, 67, 0.3), 0 1px 3px 1px rgba(60, 64, 67, 0.15);\n",
              "    fill: var(--button-hover-fill-color);\n",
              "  }\n",
              "\n",
              "  .colab-df-quickchart-complete:disabled,\n",
              "  .colab-df-quickchart-complete:disabled:hover {\n",
              "    background-color: var(--disabled-bg-color);\n",
              "    fill: var(--disabled-fill-color);\n",
              "    box-shadow: none;\n",
              "  }\n",
              "\n",
              "  .colab-df-spinner {\n",
              "    border: 2px solid var(--fill-color);\n",
              "    border-color: transparent;\n",
              "    border-bottom-color: var(--fill-color);\n",
              "    animation:\n",
              "      spin 1s steps(1) infinite;\n",
              "  }\n",
              "\n",
              "  @keyframes spin {\n",
              "    0% {\n",
              "      border-color: transparent;\n",
              "      border-bottom-color: var(--fill-color);\n",
              "      border-left-color: var(--fill-color);\n",
              "    }\n",
              "    20% {\n",
              "      border-color: transparent;\n",
              "      border-left-color: var(--fill-color);\n",
              "      border-top-color: var(--fill-color);\n",
              "    }\n",
              "    30% {\n",
              "      border-color: transparent;\n",
              "      border-left-color: var(--fill-color);\n",
              "      border-top-color: var(--fill-color);\n",
              "      border-right-color: var(--fill-color);\n",
              "    }\n",
              "    40% {\n",
              "      border-color: transparent;\n",
              "      border-right-color: var(--fill-color);\n",
              "      border-top-color: var(--fill-color);\n",
              "    }\n",
              "    60% {\n",
              "      border-color: transparent;\n",
              "      border-right-color: var(--fill-color);\n",
              "    }\n",
              "    80% {\n",
              "      border-color: transparent;\n",
              "      border-right-color: var(--fill-color);\n",
              "      border-bottom-color: var(--fill-color);\n",
              "    }\n",
              "    90% {\n",
              "      border-color: transparent;\n",
              "      border-bottom-color: var(--fill-color);\n",
              "    }\n",
              "  }\n",
              "</style>\n",
              "\n",
              "  <script>\n",
              "    async function quickchart(key) {\n",
              "      const quickchartButtonEl =\n",
              "        document.querySelector('#' + key + ' button');\n",
              "      quickchartButtonEl.disabled = true;  // To prevent multiple clicks.\n",
              "      quickchartButtonEl.classList.add('colab-df-spinner');\n",
              "      try {\n",
              "        const charts = await google.colab.kernel.invokeFunction(\n",
              "            'suggestCharts', [key], {});\n",
              "      } catch (error) {\n",
              "        console.error('Error during call to suggestCharts:', error);\n",
              "      }\n",
              "      quickchartButtonEl.classList.remove('colab-df-spinner');\n",
              "      quickchartButtonEl.classList.add('colab-df-quickchart-complete');\n",
              "    }\n",
              "    (() => {\n",
              "      let quickchartButtonEl =\n",
              "        document.querySelector('#df-5f21acdc-2885-4420-bfe8-22dc892dfb89 button');\n",
              "      quickchartButtonEl.style.display =\n",
              "        google.colab.kernel.accessAllowed ? 'block' : 'none';\n",
              "    })();\n",
              "  </script>\n",
              "</div>\n",
              "\n",
              "  <div id=\"id_57697d93-6b58-47df-9cf5-75e8747c1b98\">\n",
              "    <style>\n",
              "      .colab-df-generate {\n",
              "        background-color: #E8F0FE;\n",
              "        border: none;\n",
              "        border-radius: 50%;\n",
              "        cursor: pointer;\n",
              "        display: none;\n",
              "        fill: #1967D2;\n",
              "        height: 32px;\n",
              "        padding: 0 0 0 0;\n",
              "        width: 32px;\n",
              "      }\n",
              "\n",
              "      .colab-df-generate:hover {\n",
              "        background-color: #E2EBFA;\n",
              "        box-shadow: 0px 1px 2px rgba(60, 64, 67, 0.3), 0px 1px 3px 1px rgba(60, 64, 67, 0.15);\n",
              "        fill: #174EA6;\n",
              "      }\n",
              "\n",
              "      [theme=dark] .colab-df-generate {\n",
              "        background-color: #3B4455;\n",
              "        fill: #D2E3FC;\n",
              "      }\n",
              "\n",
              "      [theme=dark] .colab-df-generate:hover {\n",
              "        background-color: #434B5C;\n",
              "        box-shadow: 0px 1px 3px 1px rgba(0, 0, 0, 0.15);\n",
              "        filter: drop-shadow(0px 1px 2px rgba(0, 0, 0, 0.3));\n",
              "        fill: #FFFFFF;\n",
              "      }\n",
              "    </style>\n",
              "    <button class=\"colab-df-generate\" onclick=\"generateWithVariable('df')\"\n",
              "            title=\"Generate code using this dataframe.\"\n",
              "            style=\"display:none;\">\n",
              "\n",
              "  <svg xmlns=\"http://www.w3.org/2000/svg\" height=\"24px\"viewBox=\"0 0 24 24\"\n",
              "       width=\"24px\">\n",
              "    <path d=\"M7,19H8.4L18.45,9,17,7.55,7,17.6ZM5,21V16.75L18.45,3.32a2,2,0,0,1,2.83,0l1.4,1.43a1.91,1.91,0,0,1,.58,1.4,1.91,1.91,0,0,1-.58,1.4L9.25,21ZM18.45,9,17,7.55Zm-12,3A5.31,5.31,0,0,0,4.9,8.1,5.31,5.31,0,0,0,1,6.5,5.31,5.31,0,0,0,4.9,4.9,5.31,5.31,0,0,0,6.5,1,5.31,5.31,0,0,0,8.1,4.9,5.31,5.31,0,0,0,12,6.5,5.46,5.46,0,0,0,6.5,12Z\"/>\n",
              "  </svg>\n",
              "    </button>\n",
              "    <script>\n",
              "      (() => {\n",
              "      const buttonEl =\n",
              "        document.querySelector('#id_57697d93-6b58-47df-9cf5-75e8747c1b98 button.colab-df-generate');\n",
              "      buttonEl.style.display =\n",
              "        google.colab.kernel.accessAllowed ? 'block' : 'none';\n",
              "\n",
              "      buttonEl.onclick = () => {\n",
              "        google.colab.notebook.generateWithVariable('df');\n",
              "      }\n",
              "      })();\n",
              "    </script>\n",
              "  </div>\n",
              "\n",
              "    </div>\n",
              "  </div>\n"
            ],
            "application/vnd.google.colaboratory.intrinsic+json": {
              "type": "dataframe",
              "variable_name": "df"
            }
          },
          "metadata": {},
          "execution_count": 8
        }
      ]
    },
    {
      "cell_type": "code",
      "source": [
        "\n",
        "X = df.drop(columns=['target'])\n",
        "y = df['target']"
      ],
      "metadata": {
        "id": "lOQRPtVV9JWS"
      },
      "execution_count": null,
      "outputs": []
    },
    {
      "cell_type": "code",
      "source": [
        "X"
      ],
      "metadata": {
        "colab": {
          "base_uri": "https://localhost:8080/",
          "height": 478
        },
        "id": "5OJVbhVe9WH7",
        "outputId": "d0dcb0f7-bccc-465e-c8a0-a573d1e1e12a"
      },
      "execution_count": null,
      "outputs": [
        {
          "output_type": "execute_result",
          "data": {
            "text/plain": [
              "     mean radius  mean texture  mean perimeter  mean area  mean smoothness  \\\n",
              "0          17.99         10.38          122.80     1001.0          0.11840   \n",
              "1          20.57         17.77          132.90     1326.0          0.08474   \n",
              "2          19.69         21.25          130.00     1203.0          0.10960   \n",
              "3          11.42         20.38           77.58      386.1          0.14250   \n",
              "4          20.29         14.34          135.10     1297.0          0.10030   \n",
              "..           ...           ...             ...        ...              ...   \n",
              "564        21.56         22.39          142.00     1479.0          0.11100   \n",
              "565        20.13         28.25          131.20     1261.0          0.09780   \n",
              "566        16.60         28.08          108.30      858.1          0.08455   \n",
              "567        20.60         29.33          140.10     1265.0          0.11780   \n",
              "568         7.76         24.54           47.92      181.0          0.05263   \n",
              "\n",
              "     mean compactness  mean concavity  mean concave points  mean symmetry  \\\n",
              "0             0.27760         0.30010              0.14710         0.2419   \n",
              "1             0.07864         0.08690              0.07017         0.1812   \n",
              "2             0.15990         0.19740              0.12790         0.2069   \n",
              "3             0.28390         0.24140              0.10520         0.2597   \n",
              "4             0.13280         0.19800              0.10430         0.1809   \n",
              "..                ...             ...                  ...            ...   \n",
              "564           0.11590         0.24390              0.13890         0.1726   \n",
              "565           0.10340         0.14400              0.09791         0.1752   \n",
              "566           0.10230         0.09251              0.05302         0.1590   \n",
              "567           0.27700         0.35140              0.15200         0.2397   \n",
              "568           0.04362         0.00000              0.00000         0.1587   \n",
              "\n",
              "     mean fractal dimension  ...  worst radius  worst texture  \\\n",
              "0                   0.07871  ...        25.380          17.33   \n",
              "1                   0.05667  ...        24.990          23.41   \n",
              "2                   0.05999  ...        23.570          25.53   \n",
              "3                   0.09744  ...        14.910          26.50   \n",
              "4                   0.05883  ...        22.540          16.67   \n",
              "..                      ...  ...           ...            ...   \n",
              "564                 0.05623  ...        25.450          26.40   \n",
              "565                 0.05533  ...        23.690          38.25   \n",
              "566                 0.05648  ...        18.980          34.12   \n",
              "567                 0.07016  ...        25.740          39.42   \n",
              "568                 0.05884  ...         9.456          30.37   \n",
              "\n",
              "     worst perimeter  worst area  worst smoothness  worst compactness  \\\n",
              "0             184.60      2019.0           0.16220            0.66560   \n",
              "1             158.80      1956.0           0.12380            0.18660   \n",
              "2             152.50      1709.0           0.14440            0.42450   \n",
              "3              98.87       567.7           0.20980            0.86630   \n",
              "4             152.20      1575.0           0.13740            0.20500   \n",
              "..               ...         ...               ...                ...   \n",
              "564           166.10      2027.0           0.14100            0.21130   \n",
              "565           155.00      1731.0           0.11660            0.19220   \n",
              "566           126.70      1124.0           0.11390            0.30940   \n",
              "567           184.60      1821.0           0.16500            0.86810   \n",
              "568            59.16       268.6           0.08996            0.06444   \n",
              "\n",
              "     worst concavity  worst concave points  worst symmetry  \\\n",
              "0             0.7119                0.2654          0.4601   \n",
              "1             0.2416                0.1860          0.2750   \n",
              "2             0.4504                0.2430          0.3613   \n",
              "3             0.6869                0.2575          0.6638   \n",
              "4             0.4000                0.1625          0.2364   \n",
              "..               ...                   ...             ...   \n",
              "564           0.4107                0.2216          0.2060   \n",
              "565           0.3215                0.1628          0.2572   \n",
              "566           0.3403                0.1418          0.2218   \n",
              "567           0.9387                0.2650          0.4087   \n",
              "568           0.0000                0.0000          0.2871   \n",
              "\n",
              "     worst fractal dimension  \n",
              "0                    0.11890  \n",
              "1                    0.08902  \n",
              "2                    0.08758  \n",
              "3                    0.17300  \n",
              "4                    0.07678  \n",
              "..                       ...  \n",
              "564                  0.07115  \n",
              "565                  0.06637  \n",
              "566                  0.07820  \n",
              "567                  0.12400  \n",
              "568                  0.07039  \n",
              "\n",
              "[569 rows x 30 columns]"
            ],
            "text/html": [
              "\n",
              "  <div id=\"df-617144c4-b94e-428c-9bf6-fa448adcf5f9\" class=\"colab-df-container\">\n",
              "    <div>\n",
              "<style scoped>\n",
              "    .dataframe tbody tr th:only-of-type {\n",
              "        vertical-align: middle;\n",
              "    }\n",
              "\n",
              "    .dataframe tbody tr th {\n",
              "        vertical-align: top;\n",
              "    }\n",
              "\n",
              "    .dataframe thead th {\n",
              "        text-align: right;\n",
              "    }\n",
              "</style>\n",
              "<table border=\"1\" class=\"dataframe\">\n",
              "  <thead>\n",
              "    <tr style=\"text-align: right;\">\n",
              "      <th></th>\n",
              "      <th>mean radius</th>\n",
              "      <th>mean texture</th>\n",
              "      <th>mean perimeter</th>\n",
              "      <th>mean area</th>\n",
              "      <th>mean smoothness</th>\n",
              "      <th>mean compactness</th>\n",
              "      <th>mean concavity</th>\n",
              "      <th>mean concave points</th>\n",
              "      <th>mean symmetry</th>\n",
              "      <th>mean fractal dimension</th>\n",
              "      <th>...</th>\n",
              "      <th>worst radius</th>\n",
              "      <th>worst texture</th>\n",
              "      <th>worst perimeter</th>\n",
              "      <th>worst area</th>\n",
              "      <th>worst smoothness</th>\n",
              "      <th>worst compactness</th>\n",
              "      <th>worst concavity</th>\n",
              "      <th>worst concave points</th>\n",
              "      <th>worst symmetry</th>\n",
              "      <th>worst fractal dimension</th>\n",
              "    </tr>\n",
              "  </thead>\n",
              "  <tbody>\n",
              "    <tr>\n",
              "      <th>0</th>\n",
              "      <td>17.99</td>\n",
              "      <td>10.38</td>\n",
              "      <td>122.80</td>\n",
              "      <td>1001.0</td>\n",
              "      <td>0.11840</td>\n",
              "      <td>0.27760</td>\n",
              "      <td>0.30010</td>\n",
              "      <td>0.14710</td>\n",
              "      <td>0.2419</td>\n",
              "      <td>0.07871</td>\n",
              "      <td>...</td>\n",
              "      <td>25.380</td>\n",
              "      <td>17.33</td>\n",
              "      <td>184.60</td>\n",
              "      <td>2019.0</td>\n",
              "      <td>0.16220</td>\n",
              "      <td>0.66560</td>\n",
              "      <td>0.7119</td>\n",
              "      <td>0.2654</td>\n",
              "      <td>0.4601</td>\n",
              "      <td>0.11890</td>\n",
              "    </tr>\n",
              "    <tr>\n",
              "      <th>1</th>\n",
              "      <td>20.57</td>\n",
              "      <td>17.77</td>\n",
              "      <td>132.90</td>\n",
              "      <td>1326.0</td>\n",
              "      <td>0.08474</td>\n",
              "      <td>0.07864</td>\n",
              "      <td>0.08690</td>\n",
              "      <td>0.07017</td>\n",
              "      <td>0.1812</td>\n",
              "      <td>0.05667</td>\n",
              "      <td>...</td>\n",
              "      <td>24.990</td>\n",
              "      <td>23.41</td>\n",
              "      <td>158.80</td>\n",
              "      <td>1956.0</td>\n",
              "      <td>0.12380</td>\n",
              "      <td>0.18660</td>\n",
              "      <td>0.2416</td>\n",
              "      <td>0.1860</td>\n",
              "      <td>0.2750</td>\n",
              "      <td>0.08902</td>\n",
              "    </tr>\n",
              "    <tr>\n",
              "      <th>2</th>\n",
              "      <td>19.69</td>\n",
              "      <td>21.25</td>\n",
              "      <td>130.00</td>\n",
              "      <td>1203.0</td>\n",
              "      <td>0.10960</td>\n",
              "      <td>0.15990</td>\n",
              "      <td>0.19740</td>\n",
              "      <td>0.12790</td>\n",
              "      <td>0.2069</td>\n",
              "      <td>0.05999</td>\n",
              "      <td>...</td>\n",
              "      <td>23.570</td>\n",
              "      <td>25.53</td>\n",
              "      <td>152.50</td>\n",
              "      <td>1709.0</td>\n",
              "      <td>0.14440</td>\n",
              "      <td>0.42450</td>\n",
              "      <td>0.4504</td>\n",
              "      <td>0.2430</td>\n",
              "      <td>0.3613</td>\n",
              "      <td>0.08758</td>\n",
              "    </tr>\n",
              "    <tr>\n",
              "      <th>3</th>\n",
              "      <td>11.42</td>\n",
              "      <td>20.38</td>\n",
              "      <td>77.58</td>\n",
              "      <td>386.1</td>\n",
              "      <td>0.14250</td>\n",
              "      <td>0.28390</td>\n",
              "      <td>0.24140</td>\n",
              "      <td>0.10520</td>\n",
              "      <td>0.2597</td>\n",
              "      <td>0.09744</td>\n",
              "      <td>...</td>\n",
              "      <td>14.910</td>\n",
              "      <td>26.50</td>\n",
              "      <td>98.87</td>\n",
              "      <td>567.7</td>\n",
              "      <td>0.20980</td>\n",
              "      <td>0.86630</td>\n",
              "      <td>0.6869</td>\n",
              "      <td>0.2575</td>\n",
              "      <td>0.6638</td>\n",
              "      <td>0.17300</td>\n",
              "    </tr>\n",
              "    <tr>\n",
              "      <th>4</th>\n",
              "      <td>20.29</td>\n",
              "      <td>14.34</td>\n",
              "      <td>135.10</td>\n",
              "      <td>1297.0</td>\n",
              "      <td>0.10030</td>\n",
              "      <td>0.13280</td>\n",
              "      <td>0.19800</td>\n",
              "      <td>0.10430</td>\n",
              "      <td>0.1809</td>\n",
              "      <td>0.05883</td>\n",
              "      <td>...</td>\n",
              "      <td>22.540</td>\n",
              "      <td>16.67</td>\n",
              "      <td>152.20</td>\n",
              "      <td>1575.0</td>\n",
              "      <td>0.13740</td>\n",
              "      <td>0.20500</td>\n",
              "      <td>0.4000</td>\n",
              "      <td>0.1625</td>\n",
              "      <td>0.2364</td>\n",
              "      <td>0.07678</td>\n",
              "    </tr>\n",
              "    <tr>\n",
              "      <th>...</th>\n",
              "      <td>...</td>\n",
              "      <td>...</td>\n",
              "      <td>...</td>\n",
              "      <td>...</td>\n",
              "      <td>...</td>\n",
              "      <td>...</td>\n",
              "      <td>...</td>\n",
              "      <td>...</td>\n",
              "      <td>...</td>\n",
              "      <td>...</td>\n",
              "      <td>...</td>\n",
              "      <td>...</td>\n",
              "      <td>...</td>\n",
              "      <td>...</td>\n",
              "      <td>...</td>\n",
              "      <td>...</td>\n",
              "      <td>...</td>\n",
              "      <td>...</td>\n",
              "      <td>...</td>\n",
              "      <td>...</td>\n",
              "      <td>...</td>\n",
              "    </tr>\n",
              "    <tr>\n",
              "      <th>564</th>\n",
              "      <td>21.56</td>\n",
              "      <td>22.39</td>\n",
              "      <td>142.00</td>\n",
              "      <td>1479.0</td>\n",
              "      <td>0.11100</td>\n",
              "      <td>0.11590</td>\n",
              "      <td>0.24390</td>\n",
              "      <td>0.13890</td>\n",
              "      <td>0.1726</td>\n",
              "      <td>0.05623</td>\n",
              "      <td>...</td>\n",
              "      <td>25.450</td>\n",
              "      <td>26.40</td>\n",
              "      <td>166.10</td>\n",
              "      <td>2027.0</td>\n",
              "      <td>0.14100</td>\n",
              "      <td>0.21130</td>\n",
              "      <td>0.4107</td>\n",
              "      <td>0.2216</td>\n",
              "      <td>0.2060</td>\n",
              "      <td>0.07115</td>\n",
              "    </tr>\n",
              "    <tr>\n",
              "      <th>565</th>\n",
              "      <td>20.13</td>\n",
              "      <td>28.25</td>\n",
              "      <td>131.20</td>\n",
              "      <td>1261.0</td>\n",
              "      <td>0.09780</td>\n",
              "      <td>0.10340</td>\n",
              "      <td>0.14400</td>\n",
              "      <td>0.09791</td>\n",
              "      <td>0.1752</td>\n",
              "      <td>0.05533</td>\n",
              "      <td>...</td>\n",
              "      <td>23.690</td>\n",
              "      <td>38.25</td>\n",
              "      <td>155.00</td>\n",
              "      <td>1731.0</td>\n",
              "      <td>0.11660</td>\n",
              "      <td>0.19220</td>\n",
              "      <td>0.3215</td>\n",
              "      <td>0.1628</td>\n",
              "      <td>0.2572</td>\n",
              "      <td>0.06637</td>\n",
              "    </tr>\n",
              "    <tr>\n",
              "      <th>566</th>\n",
              "      <td>16.60</td>\n",
              "      <td>28.08</td>\n",
              "      <td>108.30</td>\n",
              "      <td>858.1</td>\n",
              "      <td>0.08455</td>\n",
              "      <td>0.10230</td>\n",
              "      <td>0.09251</td>\n",
              "      <td>0.05302</td>\n",
              "      <td>0.1590</td>\n",
              "      <td>0.05648</td>\n",
              "      <td>...</td>\n",
              "      <td>18.980</td>\n",
              "      <td>34.12</td>\n",
              "      <td>126.70</td>\n",
              "      <td>1124.0</td>\n",
              "      <td>0.11390</td>\n",
              "      <td>0.30940</td>\n",
              "      <td>0.3403</td>\n",
              "      <td>0.1418</td>\n",
              "      <td>0.2218</td>\n",
              "      <td>0.07820</td>\n",
              "    </tr>\n",
              "    <tr>\n",
              "      <th>567</th>\n",
              "      <td>20.60</td>\n",
              "      <td>29.33</td>\n",
              "      <td>140.10</td>\n",
              "      <td>1265.0</td>\n",
              "      <td>0.11780</td>\n",
              "      <td>0.27700</td>\n",
              "      <td>0.35140</td>\n",
              "      <td>0.15200</td>\n",
              "      <td>0.2397</td>\n",
              "      <td>0.07016</td>\n",
              "      <td>...</td>\n",
              "      <td>25.740</td>\n",
              "      <td>39.42</td>\n",
              "      <td>184.60</td>\n",
              "      <td>1821.0</td>\n",
              "      <td>0.16500</td>\n",
              "      <td>0.86810</td>\n",
              "      <td>0.9387</td>\n",
              "      <td>0.2650</td>\n",
              "      <td>0.4087</td>\n",
              "      <td>0.12400</td>\n",
              "    </tr>\n",
              "    <tr>\n",
              "      <th>568</th>\n",
              "      <td>7.76</td>\n",
              "      <td>24.54</td>\n",
              "      <td>47.92</td>\n",
              "      <td>181.0</td>\n",
              "      <td>0.05263</td>\n",
              "      <td>0.04362</td>\n",
              "      <td>0.00000</td>\n",
              "      <td>0.00000</td>\n",
              "      <td>0.1587</td>\n",
              "      <td>0.05884</td>\n",
              "      <td>...</td>\n",
              "      <td>9.456</td>\n",
              "      <td>30.37</td>\n",
              "      <td>59.16</td>\n",
              "      <td>268.6</td>\n",
              "      <td>0.08996</td>\n",
              "      <td>0.06444</td>\n",
              "      <td>0.0000</td>\n",
              "      <td>0.0000</td>\n",
              "      <td>0.2871</td>\n",
              "      <td>0.07039</td>\n",
              "    </tr>\n",
              "  </tbody>\n",
              "</table>\n",
              "<p>569 rows × 30 columns</p>\n",
              "</div>\n",
              "    <div class=\"colab-df-buttons\">\n",
              "\n",
              "  <div class=\"colab-df-container\">\n",
              "    <button class=\"colab-df-convert\" onclick=\"convertToInteractive('df-617144c4-b94e-428c-9bf6-fa448adcf5f9')\"\n",
              "            title=\"Convert this dataframe to an interactive table.\"\n",
              "            style=\"display:none;\">\n",
              "\n",
              "  <svg xmlns=\"http://www.w3.org/2000/svg\" height=\"24px\" viewBox=\"0 -960 960 960\">\n",
              "    <path d=\"M120-120v-720h720v720H120Zm60-500h600v-160H180v160Zm220 220h160v-160H400v160Zm0 220h160v-160H400v160ZM180-400h160v-160H180v160Zm440 0h160v-160H620v160ZM180-180h160v-160H180v160Zm440 0h160v-160H620v160Z\"/>\n",
              "  </svg>\n",
              "    </button>\n",
              "\n",
              "  <style>\n",
              "    .colab-df-container {\n",
              "      display:flex;\n",
              "      gap: 12px;\n",
              "    }\n",
              "\n",
              "    .colab-df-convert {\n",
              "      background-color: #E8F0FE;\n",
              "      border: none;\n",
              "      border-radius: 50%;\n",
              "      cursor: pointer;\n",
              "      display: none;\n",
              "      fill: #1967D2;\n",
              "      height: 32px;\n",
              "      padding: 0 0 0 0;\n",
              "      width: 32px;\n",
              "    }\n",
              "\n",
              "    .colab-df-convert:hover {\n",
              "      background-color: #E2EBFA;\n",
              "      box-shadow: 0px 1px 2px rgba(60, 64, 67, 0.3), 0px 1px 3px 1px rgba(60, 64, 67, 0.15);\n",
              "      fill: #174EA6;\n",
              "    }\n",
              "\n",
              "    .colab-df-buttons div {\n",
              "      margin-bottom: 4px;\n",
              "    }\n",
              "\n",
              "    [theme=dark] .colab-df-convert {\n",
              "      background-color: #3B4455;\n",
              "      fill: #D2E3FC;\n",
              "    }\n",
              "\n",
              "    [theme=dark] .colab-df-convert:hover {\n",
              "      background-color: #434B5C;\n",
              "      box-shadow: 0px 1px 3px 1px rgba(0, 0, 0, 0.15);\n",
              "      filter: drop-shadow(0px 1px 2px rgba(0, 0, 0, 0.3));\n",
              "      fill: #FFFFFF;\n",
              "    }\n",
              "  </style>\n",
              "\n",
              "    <script>\n",
              "      const buttonEl =\n",
              "        document.querySelector('#df-617144c4-b94e-428c-9bf6-fa448adcf5f9 button.colab-df-convert');\n",
              "      buttonEl.style.display =\n",
              "        google.colab.kernel.accessAllowed ? 'block' : 'none';\n",
              "\n",
              "      async function convertToInteractive(key) {\n",
              "        const element = document.querySelector('#df-617144c4-b94e-428c-9bf6-fa448adcf5f9');\n",
              "        const dataTable =\n",
              "          await google.colab.kernel.invokeFunction('convertToInteractive',\n",
              "                                                    [key], {});\n",
              "        if (!dataTable) return;\n",
              "\n",
              "        const docLinkHtml = 'Like what you see? Visit the ' +\n",
              "          '<a target=\"_blank\" href=https://colab.research.google.com/notebooks/data_table.ipynb>data table notebook</a>'\n",
              "          + ' to learn more about interactive tables.';\n",
              "        element.innerHTML = '';\n",
              "        dataTable['output_type'] = 'display_data';\n",
              "        await google.colab.output.renderOutput(dataTable, element);\n",
              "        const docLink = document.createElement('div');\n",
              "        docLink.innerHTML = docLinkHtml;\n",
              "        element.appendChild(docLink);\n",
              "      }\n",
              "    </script>\n",
              "  </div>\n",
              "\n",
              "\n",
              "<div id=\"df-21fa6564-4c77-47a9-85a6-e92d6ea5cc26\">\n",
              "  <button class=\"colab-df-quickchart\" onclick=\"quickchart('df-21fa6564-4c77-47a9-85a6-e92d6ea5cc26')\"\n",
              "            title=\"Suggest charts\"\n",
              "            style=\"display:none;\">\n",
              "\n",
              "<svg xmlns=\"http://www.w3.org/2000/svg\" height=\"24px\"viewBox=\"0 0 24 24\"\n",
              "     width=\"24px\">\n",
              "    <g>\n",
              "        <path d=\"M19 3H5c-1.1 0-2 .9-2 2v14c0 1.1.9 2 2 2h14c1.1 0 2-.9 2-2V5c0-1.1-.9-2-2-2zM9 17H7v-7h2v7zm4 0h-2V7h2v10zm4 0h-2v-4h2v4z\"/>\n",
              "    </g>\n",
              "</svg>\n",
              "  </button>\n",
              "\n",
              "<style>\n",
              "  .colab-df-quickchart {\n",
              "      --bg-color: #E8F0FE;\n",
              "      --fill-color: #1967D2;\n",
              "      --hover-bg-color: #E2EBFA;\n",
              "      --hover-fill-color: #174EA6;\n",
              "      --disabled-fill-color: #AAA;\n",
              "      --disabled-bg-color: #DDD;\n",
              "  }\n",
              "\n",
              "  [theme=dark] .colab-df-quickchart {\n",
              "      --bg-color: #3B4455;\n",
              "      --fill-color: #D2E3FC;\n",
              "      --hover-bg-color: #434B5C;\n",
              "      --hover-fill-color: #FFFFFF;\n",
              "      --disabled-bg-color: #3B4455;\n",
              "      --disabled-fill-color: #666;\n",
              "  }\n",
              "\n",
              "  .colab-df-quickchart {\n",
              "    background-color: var(--bg-color);\n",
              "    border: none;\n",
              "    border-radius: 50%;\n",
              "    cursor: pointer;\n",
              "    display: none;\n",
              "    fill: var(--fill-color);\n",
              "    height: 32px;\n",
              "    padding: 0;\n",
              "    width: 32px;\n",
              "  }\n",
              "\n",
              "  .colab-df-quickchart:hover {\n",
              "    background-color: var(--hover-bg-color);\n",
              "    box-shadow: 0 1px 2px rgba(60, 64, 67, 0.3), 0 1px 3px 1px rgba(60, 64, 67, 0.15);\n",
              "    fill: var(--button-hover-fill-color);\n",
              "  }\n",
              "\n",
              "  .colab-df-quickchart-complete:disabled,\n",
              "  .colab-df-quickchart-complete:disabled:hover {\n",
              "    background-color: var(--disabled-bg-color);\n",
              "    fill: var(--disabled-fill-color);\n",
              "    box-shadow: none;\n",
              "  }\n",
              "\n",
              "  .colab-df-spinner {\n",
              "    border: 2px solid var(--fill-color);\n",
              "    border-color: transparent;\n",
              "    border-bottom-color: var(--fill-color);\n",
              "    animation:\n",
              "      spin 1s steps(1) infinite;\n",
              "  }\n",
              "\n",
              "  @keyframes spin {\n",
              "    0% {\n",
              "      border-color: transparent;\n",
              "      border-bottom-color: var(--fill-color);\n",
              "      border-left-color: var(--fill-color);\n",
              "    }\n",
              "    20% {\n",
              "      border-color: transparent;\n",
              "      border-left-color: var(--fill-color);\n",
              "      border-top-color: var(--fill-color);\n",
              "    }\n",
              "    30% {\n",
              "      border-color: transparent;\n",
              "      border-left-color: var(--fill-color);\n",
              "      border-top-color: var(--fill-color);\n",
              "      border-right-color: var(--fill-color);\n",
              "    }\n",
              "    40% {\n",
              "      border-color: transparent;\n",
              "      border-right-color: var(--fill-color);\n",
              "      border-top-color: var(--fill-color);\n",
              "    }\n",
              "    60% {\n",
              "      border-color: transparent;\n",
              "      border-right-color: var(--fill-color);\n",
              "    }\n",
              "    80% {\n",
              "      border-color: transparent;\n",
              "      border-right-color: var(--fill-color);\n",
              "      border-bottom-color: var(--fill-color);\n",
              "    }\n",
              "    90% {\n",
              "      border-color: transparent;\n",
              "      border-bottom-color: var(--fill-color);\n",
              "    }\n",
              "  }\n",
              "</style>\n",
              "\n",
              "  <script>\n",
              "    async function quickchart(key) {\n",
              "      const quickchartButtonEl =\n",
              "        document.querySelector('#' + key + ' button');\n",
              "      quickchartButtonEl.disabled = true;  // To prevent multiple clicks.\n",
              "      quickchartButtonEl.classList.add('colab-df-spinner');\n",
              "      try {\n",
              "        const charts = await google.colab.kernel.invokeFunction(\n",
              "            'suggestCharts', [key], {});\n",
              "      } catch (error) {\n",
              "        console.error('Error during call to suggestCharts:', error);\n",
              "      }\n",
              "      quickchartButtonEl.classList.remove('colab-df-spinner');\n",
              "      quickchartButtonEl.classList.add('colab-df-quickchart-complete');\n",
              "    }\n",
              "    (() => {\n",
              "      let quickchartButtonEl =\n",
              "        document.querySelector('#df-21fa6564-4c77-47a9-85a6-e92d6ea5cc26 button');\n",
              "      quickchartButtonEl.style.display =\n",
              "        google.colab.kernel.accessAllowed ? 'block' : 'none';\n",
              "    })();\n",
              "  </script>\n",
              "</div>\n",
              "\n",
              "  <div id=\"id_84b5c515-583d-4a67-86e1-16b292c50561\">\n",
              "    <style>\n",
              "      .colab-df-generate {\n",
              "        background-color: #E8F0FE;\n",
              "        border: none;\n",
              "        border-radius: 50%;\n",
              "        cursor: pointer;\n",
              "        display: none;\n",
              "        fill: #1967D2;\n",
              "        height: 32px;\n",
              "        padding: 0 0 0 0;\n",
              "        width: 32px;\n",
              "      }\n",
              "\n",
              "      .colab-df-generate:hover {\n",
              "        background-color: #E2EBFA;\n",
              "        box-shadow: 0px 1px 2px rgba(60, 64, 67, 0.3), 0px 1px 3px 1px rgba(60, 64, 67, 0.15);\n",
              "        fill: #174EA6;\n",
              "      }\n",
              "\n",
              "      [theme=dark] .colab-df-generate {\n",
              "        background-color: #3B4455;\n",
              "        fill: #D2E3FC;\n",
              "      }\n",
              "\n",
              "      [theme=dark] .colab-df-generate:hover {\n",
              "        background-color: #434B5C;\n",
              "        box-shadow: 0px 1px 3px 1px rgba(0, 0, 0, 0.15);\n",
              "        filter: drop-shadow(0px 1px 2px rgba(0, 0, 0, 0.3));\n",
              "        fill: #FFFFFF;\n",
              "      }\n",
              "    </style>\n",
              "    <button class=\"colab-df-generate\" onclick=\"generateWithVariable('X')\"\n",
              "            title=\"Generate code using this dataframe.\"\n",
              "            style=\"display:none;\">\n",
              "\n",
              "  <svg xmlns=\"http://www.w3.org/2000/svg\" height=\"24px\"viewBox=\"0 0 24 24\"\n",
              "       width=\"24px\">\n",
              "    <path d=\"M7,19H8.4L18.45,9,17,7.55,7,17.6ZM5,21V16.75L18.45,3.32a2,2,0,0,1,2.83,0l1.4,1.43a1.91,1.91,0,0,1,.58,1.4,1.91,1.91,0,0,1-.58,1.4L9.25,21ZM18.45,9,17,7.55Zm-12,3A5.31,5.31,0,0,0,4.9,8.1,5.31,5.31,0,0,0,1,6.5,5.31,5.31,0,0,0,4.9,4.9,5.31,5.31,0,0,0,6.5,1,5.31,5.31,0,0,0,8.1,4.9,5.31,5.31,0,0,0,12,6.5,5.46,5.46,0,0,0,6.5,12Z\"/>\n",
              "  </svg>\n",
              "    </button>\n",
              "    <script>\n",
              "      (() => {\n",
              "      const buttonEl =\n",
              "        document.querySelector('#id_84b5c515-583d-4a67-86e1-16b292c50561 button.colab-df-generate');\n",
              "      buttonEl.style.display =\n",
              "        google.colab.kernel.accessAllowed ? 'block' : 'none';\n",
              "\n",
              "      buttonEl.onclick = () => {\n",
              "        google.colab.notebook.generateWithVariable('X');\n",
              "      }\n",
              "      })();\n",
              "    </script>\n",
              "  </div>\n",
              "\n",
              "    </div>\n",
              "  </div>\n"
            ],
            "application/vnd.google.colaboratory.intrinsic+json": {
              "type": "dataframe",
              "variable_name": "X"
            }
          },
          "metadata": {},
          "execution_count": 10
        }
      ]
    },
    {
      "cell_type": "code",
      "source": [],
      "metadata": {
        "id": "fdlvR2kDn11H"
      },
      "execution_count": null,
      "outputs": []
    },
    {
      "cell_type": "code",
      "source": [
        "X_train, X_test, y_train, y_test = train_test_split(X, y, test_size=0.3, random_state=42)"
      ],
      "metadata": {
        "id": "VmAPdVAW9X3y"
      },
      "execution_count": null,
      "outputs": []
    },
    {
      "cell_type": "code",
      "source": [
        "model = LogisticRegression(max_iter=10000 )\n",
        "\n",
        "model.fit(X_train, y_train)\n"
      ],
      "metadata": {
        "colab": {
          "base_uri": "https://localhost:8080/",
          "height": 80
        },
        "id": "NXayPugd9upI",
        "outputId": "abc069c5-41a1-40f2-8c62-a482a856724e"
      },
      "execution_count": null,
      "outputs": [
        {
          "output_type": "execute_result",
          "data": {
            "text/plain": [
              "LogisticRegression(max_iter=10000)"
            ],
            "text/html": [
              "<style>#sk-container-id-1 {\n",
              "  /* Definition of color scheme common for light and dark mode */\n",
              "  --sklearn-color-text: #000;\n",
              "  --sklearn-color-text-muted: #666;\n",
              "  --sklearn-color-line: gray;\n",
              "  /* Definition of color scheme for unfitted estimators */\n",
              "  --sklearn-color-unfitted-level-0: #fff5e6;\n",
              "  --sklearn-color-unfitted-level-1: #f6e4d2;\n",
              "  --sklearn-color-unfitted-level-2: #ffe0b3;\n",
              "  --sklearn-color-unfitted-level-3: chocolate;\n",
              "  /* Definition of color scheme for fitted estimators */\n",
              "  --sklearn-color-fitted-level-0: #f0f8ff;\n",
              "  --sklearn-color-fitted-level-1: #d4ebff;\n",
              "  --sklearn-color-fitted-level-2: #b3dbfd;\n",
              "  --sklearn-color-fitted-level-3: cornflowerblue;\n",
              "\n",
              "  /* Specific color for light theme */\n",
              "  --sklearn-color-text-on-default-background: var(--sg-text-color, var(--theme-code-foreground, var(--jp-content-font-color1, black)));\n",
              "  --sklearn-color-background: var(--sg-background-color, var(--theme-background, var(--jp-layout-color0, white)));\n",
              "  --sklearn-color-border-box: var(--sg-text-color, var(--theme-code-foreground, var(--jp-content-font-color1, black)));\n",
              "  --sklearn-color-icon: #696969;\n",
              "\n",
              "  @media (prefers-color-scheme: dark) {\n",
              "    /* Redefinition of color scheme for dark theme */\n",
              "    --sklearn-color-text-on-default-background: var(--sg-text-color, var(--theme-code-foreground, var(--jp-content-font-color1, white)));\n",
              "    --sklearn-color-background: var(--sg-background-color, var(--theme-background, var(--jp-layout-color0, #111)));\n",
              "    --sklearn-color-border-box: var(--sg-text-color, var(--theme-code-foreground, var(--jp-content-font-color1, white)));\n",
              "    --sklearn-color-icon: #878787;\n",
              "  }\n",
              "}\n",
              "\n",
              "#sk-container-id-1 {\n",
              "  color: var(--sklearn-color-text);\n",
              "}\n",
              "\n",
              "#sk-container-id-1 pre {\n",
              "  padding: 0;\n",
              "}\n",
              "\n",
              "#sk-container-id-1 input.sk-hidden--visually {\n",
              "  border: 0;\n",
              "  clip: rect(1px 1px 1px 1px);\n",
              "  clip: rect(1px, 1px, 1px, 1px);\n",
              "  height: 1px;\n",
              "  margin: -1px;\n",
              "  overflow: hidden;\n",
              "  padding: 0;\n",
              "  position: absolute;\n",
              "  width: 1px;\n",
              "}\n",
              "\n",
              "#sk-container-id-1 div.sk-dashed-wrapped {\n",
              "  border: 1px dashed var(--sklearn-color-line);\n",
              "  margin: 0 0.4em 0.5em 0.4em;\n",
              "  box-sizing: border-box;\n",
              "  padding-bottom: 0.4em;\n",
              "  background-color: var(--sklearn-color-background);\n",
              "}\n",
              "\n",
              "#sk-container-id-1 div.sk-container {\n",
              "  /* jupyter's `normalize.less` sets `[hidden] { display: none; }`\n",
              "     but bootstrap.min.css set `[hidden] { display: none !important; }`\n",
              "     so we also need the `!important` here to be able to override the\n",
              "     default hidden behavior on the sphinx rendered scikit-learn.org.\n",
              "     See: https://github.com/scikit-learn/scikit-learn/issues/21755 */\n",
              "  display: inline-block !important;\n",
              "  position: relative;\n",
              "}\n",
              "\n",
              "#sk-container-id-1 div.sk-text-repr-fallback {\n",
              "  display: none;\n",
              "}\n",
              "\n",
              "div.sk-parallel-item,\n",
              "div.sk-serial,\n",
              "div.sk-item {\n",
              "  /* draw centered vertical line to link estimators */\n",
              "  background-image: linear-gradient(var(--sklearn-color-text-on-default-background), var(--sklearn-color-text-on-default-background));\n",
              "  background-size: 2px 100%;\n",
              "  background-repeat: no-repeat;\n",
              "  background-position: center center;\n",
              "}\n",
              "\n",
              "/* Parallel-specific style estimator block */\n",
              "\n",
              "#sk-container-id-1 div.sk-parallel-item::after {\n",
              "  content: \"\";\n",
              "  width: 100%;\n",
              "  border-bottom: 2px solid var(--sklearn-color-text-on-default-background);\n",
              "  flex-grow: 1;\n",
              "}\n",
              "\n",
              "#sk-container-id-1 div.sk-parallel {\n",
              "  display: flex;\n",
              "  align-items: stretch;\n",
              "  justify-content: center;\n",
              "  background-color: var(--sklearn-color-background);\n",
              "  position: relative;\n",
              "}\n",
              "\n",
              "#sk-container-id-1 div.sk-parallel-item {\n",
              "  display: flex;\n",
              "  flex-direction: column;\n",
              "}\n",
              "\n",
              "#sk-container-id-1 div.sk-parallel-item:first-child::after {\n",
              "  align-self: flex-end;\n",
              "  width: 50%;\n",
              "}\n",
              "\n",
              "#sk-container-id-1 div.sk-parallel-item:last-child::after {\n",
              "  align-self: flex-start;\n",
              "  width: 50%;\n",
              "}\n",
              "\n",
              "#sk-container-id-1 div.sk-parallel-item:only-child::after {\n",
              "  width: 0;\n",
              "}\n",
              "\n",
              "/* Serial-specific style estimator block */\n",
              "\n",
              "#sk-container-id-1 div.sk-serial {\n",
              "  display: flex;\n",
              "  flex-direction: column;\n",
              "  align-items: center;\n",
              "  background-color: var(--sklearn-color-background);\n",
              "  padding-right: 1em;\n",
              "  padding-left: 1em;\n",
              "}\n",
              "\n",
              "\n",
              "/* Toggleable style: style used for estimator/Pipeline/ColumnTransformer box that is\n",
              "clickable and can be expanded/collapsed.\n",
              "- Pipeline and ColumnTransformer use this feature and define the default style\n",
              "- Estimators will overwrite some part of the style using the `sk-estimator` class\n",
              "*/\n",
              "\n",
              "/* Pipeline and ColumnTransformer style (default) */\n",
              "\n",
              "#sk-container-id-1 div.sk-toggleable {\n",
              "  /* Default theme specific background. It is overwritten whether we have a\n",
              "  specific estimator or a Pipeline/ColumnTransformer */\n",
              "  background-color: var(--sklearn-color-background);\n",
              "}\n",
              "\n",
              "/* Toggleable label */\n",
              "#sk-container-id-1 label.sk-toggleable__label {\n",
              "  cursor: pointer;\n",
              "  display: flex;\n",
              "  width: 100%;\n",
              "  margin-bottom: 0;\n",
              "  padding: 0.5em;\n",
              "  box-sizing: border-box;\n",
              "  text-align: center;\n",
              "  align-items: start;\n",
              "  justify-content: space-between;\n",
              "  gap: 0.5em;\n",
              "}\n",
              "\n",
              "#sk-container-id-1 label.sk-toggleable__label .caption {\n",
              "  font-size: 0.6rem;\n",
              "  font-weight: lighter;\n",
              "  color: var(--sklearn-color-text-muted);\n",
              "}\n",
              "\n",
              "#sk-container-id-1 label.sk-toggleable__label-arrow:before {\n",
              "  /* Arrow on the left of the label */\n",
              "  content: \"▸\";\n",
              "  float: left;\n",
              "  margin-right: 0.25em;\n",
              "  color: var(--sklearn-color-icon);\n",
              "}\n",
              "\n",
              "#sk-container-id-1 label.sk-toggleable__label-arrow:hover:before {\n",
              "  color: var(--sklearn-color-text);\n",
              "}\n",
              "\n",
              "/* Toggleable content - dropdown */\n",
              "\n",
              "#sk-container-id-1 div.sk-toggleable__content {\n",
              "  max-height: 0;\n",
              "  max-width: 0;\n",
              "  overflow: hidden;\n",
              "  text-align: left;\n",
              "  /* unfitted */\n",
              "  background-color: var(--sklearn-color-unfitted-level-0);\n",
              "}\n",
              "\n",
              "#sk-container-id-1 div.sk-toggleable__content.fitted {\n",
              "  /* fitted */\n",
              "  background-color: var(--sklearn-color-fitted-level-0);\n",
              "}\n",
              "\n",
              "#sk-container-id-1 div.sk-toggleable__content pre {\n",
              "  margin: 0.2em;\n",
              "  border-radius: 0.25em;\n",
              "  color: var(--sklearn-color-text);\n",
              "  /* unfitted */\n",
              "  background-color: var(--sklearn-color-unfitted-level-0);\n",
              "}\n",
              "\n",
              "#sk-container-id-1 div.sk-toggleable__content.fitted pre {\n",
              "  /* unfitted */\n",
              "  background-color: var(--sklearn-color-fitted-level-0);\n",
              "}\n",
              "\n",
              "#sk-container-id-1 input.sk-toggleable__control:checked~div.sk-toggleable__content {\n",
              "  /* Expand drop-down */\n",
              "  max-height: 200px;\n",
              "  max-width: 100%;\n",
              "  overflow: auto;\n",
              "}\n",
              "\n",
              "#sk-container-id-1 input.sk-toggleable__control:checked~label.sk-toggleable__label-arrow:before {\n",
              "  content: \"▾\";\n",
              "}\n",
              "\n",
              "/* Pipeline/ColumnTransformer-specific style */\n",
              "\n",
              "#sk-container-id-1 div.sk-label input.sk-toggleable__control:checked~label.sk-toggleable__label {\n",
              "  color: var(--sklearn-color-text);\n",
              "  background-color: var(--sklearn-color-unfitted-level-2);\n",
              "}\n",
              "\n",
              "#sk-container-id-1 div.sk-label.fitted input.sk-toggleable__control:checked~label.sk-toggleable__label {\n",
              "  background-color: var(--sklearn-color-fitted-level-2);\n",
              "}\n",
              "\n",
              "/* Estimator-specific style */\n",
              "\n",
              "/* Colorize estimator box */\n",
              "#sk-container-id-1 div.sk-estimator input.sk-toggleable__control:checked~label.sk-toggleable__label {\n",
              "  /* unfitted */\n",
              "  background-color: var(--sklearn-color-unfitted-level-2);\n",
              "}\n",
              "\n",
              "#sk-container-id-1 div.sk-estimator.fitted input.sk-toggleable__control:checked~label.sk-toggleable__label {\n",
              "  /* fitted */\n",
              "  background-color: var(--sklearn-color-fitted-level-2);\n",
              "}\n",
              "\n",
              "#sk-container-id-1 div.sk-label label.sk-toggleable__label,\n",
              "#sk-container-id-1 div.sk-label label {\n",
              "  /* The background is the default theme color */\n",
              "  color: var(--sklearn-color-text-on-default-background);\n",
              "}\n",
              "\n",
              "/* On hover, darken the color of the background */\n",
              "#sk-container-id-1 div.sk-label:hover label.sk-toggleable__label {\n",
              "  color: var(--sklearn-color-text);\n",
              "  background-color: var(--sklearn-color-unfitted-level-2);\n",
              "}\n",
              "\n",
              "/* Label box, darken color on hover, fitted */\n",
              "#sk-container-id-1 div.sk-label.fitted:hover label.sk-toggleable__label.fitted {\n",
              "  color: var(--sklearn-color-text);\n",
              "  background-color: var(--sklearn-color-fitted-level-2);\n",
              "}\n",
              "\n",
              "/* Estimator label */\n",
              "\n",
              "#sk-container-id-1 div.sk-label label {\n",
              "  font-family: monospace;\n",
              "  font-weight: bold;\n",
              "  display: inline-block;\n",
              "  line-height: 1.2em;\n",
              "}\n",
              "\n",
              "#sk-container-id-1 div.sk-label-container {\n",
              "  text-align: center;\n",
              "}\n",
              "\n",
              "/* Estimator-specific */\n",
              "#sk-container-id-1 div.sk-estimator {\n",
              "  font-family: monospace;\n",
              "  border: 1px dotted var(--sklearn-color-border-box);\n",
              "  border-radius: 0.25em;\n",
              "  box-sizing: border-box;\n",
              "  margin-bottom: 0.5em;\n",
              "  /* unfitted */\n",
              "  background-color: var(--sklearn-color-unfitted-level-0);\n",
              "}\n",
              "\n",
              "#sk-container-id-1 div.sk-estimator.fitted {\n",
              "  /* fitted */\n",
              "  background-color: var(--sklearn-color-fitted-level-0);\n",
              "}\n",
              "\n",
              "/* on hover */\n",
              "#sk-container-id-1 div.sk-estimator:hover {\n",
              "  /* unfitted */\n",
              "  background-color: var(--sklearn-color-unfitted-level-2);\n",
              "}\n",
              "\n",
              "#sk-container-id-1 div.sk-estimator.fitted:hover {\n",
              "  /* fitted */\n",
              "  background-color: var(--sklearn-color-fitted-level-2);\n",
              "}\n",
              "\n",
              "/* Specification for estimator info (e.g. \"i\" and \"?\") */\n",
              "\n",
              "/* Common style for \"i\" and \"?\" */\n",
              "\n",
              ".sk-estimator-doc-link,\n",
              "a:link.sk-estimator-doc-link,\n",
              "a:visited.sk-estimator-doc-link {\n",
              "  float: right;\n",
              "  font-size: smaller;\n",
              "  line-height: 1em;\n",
              "  font-family: monospace;\n",
              "  background-color: var(--sklearn-color-background);\n",
              "  border-radius: 1em;\n",
              "  height: 1em;\n",
              "  width: 1em;\n",
              "  text-decoration: none !important;\n",
              "  margin-left: 0.5em;\n",
              "  text-align: center;\n",
              "  /* unfitted */\n",
              "  border: var(--sklearn-color-unfitted-level-1) 1pt solid;\n",
              "  color: var(--sklearn-color-unfitted-level-1);\n",
              "}\n",
              "\n",
              ".sk-estimator-doc-link.fitted,\n",
              "a:link.sk-estimator-doc-link.fitted,\n",
              "a:visited.sk-estimator-doc-link.fitted {\n",
              "  /* fitted */\n",
              "  border: var(--sklearn-color-fitted-level-1) 1pt solid;\n",
              "  color: var(--sklearn-color-fitted-level-1);\n",
              "}\n",
              "\n",
              "/* On hover */\n",
              "div.sk-estimator:hover .sk-estimator-doc-link:hover,\n",
              ".sk-estimator-doc-link:hover,\n",
              "div.sk-label-container:hover .sk-estimator-doc-link:hover,\n",
              ".sk-estimator-doc-link:hover {\n",
              "  /* unfitted */\n",
              "  background-color: var(--sklearn-color-unfitted-level-3);\n",
              "  color: var(--sklearn-color-background);\n",
              "  text-decoration: none;\n",
              "}\n",
              "\n",
              "div.sk-estimator.fitted:hover .sk-estimator-doc-link.fitted:hover,\n",
              ".sk-estimator-doc-link.fitted:hover,\n",
              "div.sk-label-container:hover .sk-estimator-doc-link.fitted:hover,\n",
              ".sk-estimator-doc-link.fitted:hover {\n",
              "  /* fitted */\n",
              "  background-color: var(--sklearn-color-fitted-level-3);\n",
              "  color: var(--sklearn-color-background);\n",
              "  text-decoration: none;\n",
              "}\n",
              "\n",
              "/* Span, style for the box shown on hovering the info icon */\n",
              ".sk-estimator-doc-link span {\n",
              "  display: none;\n",
              "  z-index: 9999;\n",
              "  position: relative;\n",
              "  font-weight: normal;\n",
              "  right: .2ex;\n",
              "  padding: .5ex;\n",
              "  margin: .5ex;\n",
              "  width: min-content;\n",
              "  min-width: 20ex;\n",
              "  max-width: 50ex;\n",
              "  color: var(--sklearn-color-text);\n",
              "  box-shadow: 2pt 2pt 4pt #999;\n",
              "  /* unfitted */\n",
              "  background: var(--sklearn-color-unfitted-level-0);\n",
              "  border: .5pt solid var(--sklearn-color-unfitted-level-3);\n",
              "}\n",
              "\n",
              ".sk-estimator-doc-link.fitted span {\n",
              "  /* fitted */\n",
              "  background: var(--sklearn-color-fitted-level-0);\n",
              "  border: var(--sklearn-color-fitted-level-3);\n",
              "}\n",
              "\n",
              ".sk-estimator-doc-link:hover span {\n",
              "  display: block;\n",
              "}\n",
              "\n",
              "/* \"?\"-specific style due to the `<a>` HTML tag */\n",
              "\n",
              "#sk-container-id-1 a.estimator_doc_link {\n",
              "  float: right;\n",
              "  font-size: 1rem;\n",
              "  line-height: 1em;\n",
              "  font-family: monospace;\n",
              "  background-color: var(--sklearn-color-background);\n",
              "  border-radius: 1rem;\n",
              "  height: 1rem;\n",
              "  width: 1rem;\n",
              "  text-decoration: none;\n",
              "  /* unfitted */\n",
              "  color: var(--sklearn-color-unfitted-level-1);\n",
              "  border: var(--sklearn-color-unfitted-level-1) 1pt solid;\n",
              "}\n",
              "\n",
              "#sk-container-id-1 a.estimator_doc_link.fitted {\n",
              "  /* fitted */\n",
              "  border: var(--sklearn-color-fitted-level-1) 1pt solid;\n",
              "  color: var(--sklearn-color-fitted-level-1);\n",
              "}\n",
              "\n",
              "/* On hover */\n",
              "#sk-container-id-1 a.estimator_doc_link:hover {\n",
              "  /* unfitted */\n",
              "  background-color: var(--sklearn-color-unfitted-level-3);\n",
              "  color: var(--sklearn-color-background);\n",
              "  text-decoration: none;\n",
              "}\n",
              "\n",
              "#sk-container-id-1 a.estimator_doc_link.fitted:hover {\n",
              "  /* fitted */\n",
              "  background-color: var(--sklearn-color-fitted-level-3);\n",
              "}\n",
              "</style><div id=\"sk-container-id-1\" class=\"sk-top-container\"><div class=\"sk-text-repr-fallback\"><pre>LogisticRegression(max_iter=10000)</pre><b>In a Jupyter environment, please rerun this cell to show the HTML representation or trust the notebook. <br />On GitHub, the HTML representation is unable to render, please try loading this page with nbviewer.org.</b></div><div class=\"sk-container\" hidden><div class=\"sk-item\"><div class=\"sk-estimator fitted sk-toggleable\"><input class=\"sk-toggleable__control sk-hidden--visually\" id=\"sk-estimator-id-1\" type=\"checkbox\" checked><label for=\"sk-estimator-id-1\" class=\"sk-toggleable__label fitted sk-toggleable__label-arrow\"><div><div>LogisticRegression</div></div><div><a class=\"sk-estimator-doc-link fitted\" rel=\"noreferrer\" target=\"_blank\" href=\"https://scikit-learn.org/1.6/modules/generated/sklearn.linear_model.LogisticRegression.html\">?<span>Documentation for LogisticRegression</span></a><span class=\"sk-estimator-doc-link fitted\">i<span>Fitted</span></span></div></label><div class=\"sk-toggleable__content fitted\"><pre>LogisticRegression(max_iter=10000)</pre></div> </div></div></div></div>"
            ]
          },
          "metadata": {},
          "execution_count": 12
        }
      ]
    },
    {
      "cell_type": "code",
      "source": [
        "y_pred = model.predict(X_test)"
      ],
      "metadata": {
        "id": "X6jiQqDd-o_6"
      },
      "execution_count": null,
      "outputs": []
    },
    {
      "cell_type": "code",
      "source": [
        "conf_matrix = confusion_matrix(y_test, y_pred)"
      ],
      "metadata": {
        "id": "YdBtjBbN-s8j"
      },
      "execution_count": null,
      "outputs": []
    },
    {
      "cell_type": "code",
      "source": [
        "sns.heatmap(conf_matrix, annot=True, cmap='Blues', fmt='d')\n",
        "plt.xlabel('Predicted')\n",
        "plt.ylabel('True')\n",
        "plt.title('Confusion Matrix')\n",
        "plt.show()"
      ],
      "metadata": {
        "colab": {
          "base_uri": "https://localhost:8080/",
          "height": 472
        },
        "id": "8lkdhM3m-usz",
        "outputId": "208f1927-aac7-4884-ebd4-29bb80c873d7"
      },
      "execution_count": null,
      "outputs": [
        {
          "output_type": "display_data",
          "data": {
            "text/plain": [
              "<Figure size 640x480 with 2 Axes>"
            ],
            "image/png": "[encoded data removed]"
          },
          "metadata": {}
        }
      ]
    },
    {
      "cell_type": "code",
      "source": [
        "print(classification_report(y_test, y_pred))"
      ],
      "metadata": {
        "colab": {
          "base_uri": "https://localhost:8080/"
        },
        "id": "4aE1srx2-yfM",
        "outputId": "432b75e6-a2ef-4a57-c889-a85be9e5393a"
      },
      "execution_count": null,
      "outputs": [
        {
          "output_type": "stream",
          "name": "stdout",
          "text": [
            "              precision    recall  f1-score   support\n",
            "\n",
            "           0       0.97      0.97      0.97        63\n",
            "           1       0.98      0.98      0.98       108\n",
            "\n",
            "    accuracy                           0.98       171\n",
            "   macro avg       0.97      0.97      0.97       171\n",
            "weighted avg       0.98      0.98      0.98       171\n",
            "\n"
          ]
        }
      ]
    },
    {
      "cell_type": "code",
      "source": [
        "precision_score(y_test, y_pred)"
      ],
      "metadata": {
        "colab": {
          "base_uri": "https://localhost:8080/"
        },
        "id": "PxvQHImP_6UD",
        "outputId": "8e2b8723-1706-4e72-e7ed-1faedfb723b8"
      },
      "execution_count": null,
      "outputs": [
        {
          "output_type": "execute_result",
          "data": {
            "text/plain": [
              "0.9814814814814815"
            ]
          },
          "metadata": {},
          "execution_count": 17
        }
      ]
    },
    {
      "cell_type": "code",
      "source": [
        "recall_score(y_test, y_pred)"
      ],
      "metadata": {
        "colab": {
          "base_uri": "https://localhost:8080/"
        },
        "id": "G4ns0rv6AGe7",
        "outputId": "16f57423-9dff-4832-f79b-60f2828cf2ce"
      },
      "execution_count": null,
      "outputs": [
        {
          "output_type": "execute_result",
          "data": {
            "text/plain": [
              "0.9814814814814815"
            ]
          },
          "metadata": {},
          "execution_count": 18
        }
      ]
    },
    {
      "cell_type": "code",
      "source": [
        "print(\"Precision:\", precision_score(y_test, y_pred))\n",
        "print(\"Recall:\", recall_score(y_test, y_pred))\n",
        "print(\"F1 Score:\", f1_score(y_test, y_pred))\n",
        "print(\"UAC:\", roc_auc_score(y_test, y_pred))\n"
      ],
      "metadata": {
        "colab": {
          "base_uri": "https://localhost:8080/"
        },
        "id": "WJ_B9_plAS9j",
        "outputId": "63b4d2e3-7f11-4e50-f764-813beb4419a8"
      },
      "execution_count": null,
      "outputs": [
        {
          "output_type": "stream",
          "name": "stdout",
          "text": [
            "Precision: 0.9814814814814815\n",
            "Recall: 0.9814814814814815\n",
            "F1 Score: 0.9814814814814815\n",
            "UAC: 0.9748677248677248\n"
          ]
        }
      ]
    },
    {
      "cell_type": "code",
      "source": [
        "model_svm = SVC(\n",
        "\n",
        ")\n",
        "model_svm.fit(X_train, y_train)\n",
        "y_pred_svm = model_svm.predict(X_test)\n",
        "print(\"Precision:\", precision_score(y_test, y_pred_svm))\n",
        "print(\"Recall:\", recall_score(y_test, y_pred_svm))\n",
        "print(\"F1 Score:\", f1_score(y_test, y_pred_svm))\n",
        "print(\"UAC:\", roc_auc_score(y_test, y_pred_svm))\n",
        "print(classification_report(y_test, y_pred_svm))"
      ],
      "metadata": {
        "colab": {
          "base_uri": "https://localhost:8080/"
        },
        "id": "xUE9vwC1x2hY",
        "outputId": "6dee55e9-ffd2-4fc4-ba6e-cd24f42b6bab"
      },
      "execution_count": null,
      "outputs": [
        {
          "output_type": "stream",
          "name": "stdout",
          "text": [
            "Precision: 0.907563025210084\n",
            "Recall: 1.0\n",
            "F1 Score: 0.9515418502202643\n",
            "UAC: 0.9126984126984127\n",
            "              precision    recall  f1-score   support\n",
            "\n",
            "           0       1.00      0.83      0.90        63\n",
            "           1       0.91      1.00      0.95       108\n",
            "\n",
            "    accuracy                           0.94       171\n",
            "   macro avg       0.95      0.91      0.93       171\n",
            "weighted avg       0.94      0.94      0.93       171\n",
            "\n"
          ]
        }
      ]
    },
    {
      "cell_type": "code",
      "source": [
        "model_svm = SVC(\n",
        "    C=1.0,\n",
        "    kernel='linear',\n",
        "\n",
        ")\n",
        "model_svm.fit(X_train, y_train)\n",
        "y_pred_svm = model_svm.predict(X_test)\n",
        "print(\"Precision:\", precision_score(y_test, y_pred_svm))\n",
        "print(\"Recall:\", recall_score(y_test, y_pred_svm))\n",
        "print(\"F1 Score:\", f1_score(y_test, y_pred_svm))\n",
        "print(\"UAC:\", roc_auc_score(y_test, y_pred_svm))\n",
        "print(classification_report(y_test, y_pred_svm))"
      ],
      "metadata": {
        "id": "KLe1ALX2AU9b",
        "colab": {
          "base_uri": "https://localhost:8080/"
        },
        "outputId": "34231526-f56d-4732-ea30-712da24553a7"
      },
      "execution_count": null,
      "outputs": [
        {
          "output_type": "stream",
          "name": "stdout",
          "text": [
            "Precision: 0.9636363636363636\n",
            "Recall: 0.9814814814814815\n",
            "F1 Score: 0.9724770642201835\n",
            "UAC: 0.958994708994709\n",
            "              precision    recall  f1-score   support\n",
            "\n",
            "           0       0.97      0.94      0.95        63\n",
            "           1       0.96      0.98      0.97       108\n",
            "\n",
            "    accuracy                           0.96       171\n",
            "   macro avg       0.97      0.96      0.96       171\n",
            "weighted avg       0.96      0.96      0.96       171\n",
            "\n"
          ]
        }
      ]
    },
    {
      "cell_type": "code",
      "source": [
        "model_tree = DecisionTreeClassifier()\n",
        "model_tree.fit(X_train, y_train)\n",
        "y_pred_tree = model_tree.predict(X_test)\n",
        "print(\"Precision:\", precision_score(y_test, y_pred_tree))\n",
        "print(\"Recall:\", recall_score(y_test, y_pred_tree))\n",
        "print(\"F1 Score:\", f1_score(y_test, y_pred_tree))\n",
        "print(\"UAC:\", roc_auc_score(y_test, y_pred_tree))\n",
        "print(classification_report(y_test, y_pred_tree))"
      ],
      "metadata": {
        "colab": {
          "base_uri": "https://localhost:8080/"
        },
        "id": "FjebJyL_ssFV",
        "outputId": "dbfa2434-9b93-47b3-99a2-ef5996986d5f"
      },
      "execution_count": null,
      "outputs": [
        {
          "output_type": "stream",
          "name": "stdout",
          "text": [
            "Precision: 0.9611650485436893\n",
            "Recall: 0.9166666666666666\n",
            "F1 Score: 0.9383886255924171\n",
            "UAC: 0.9265873015873015\n",
            "              precision    recall  f1-score   support\n",
            "\n",
            "           0       0.87      0.94      0.90        63\n",
            "           1       0.96      0.92      0.94       108\n",
            "\n",
            "    accuracy                           0.92       171\n",
            "   macro avg       0.91      0.93      0.92       171\n",
            "weighted avg       0.93      0.92      0.92       171\n",
            "\n"
          ]
        }
      ]
    },
    {
      "cell_type": "code",
      "source": [
        "model_tree = KNeighborsClassifier()\n",
        "model_tree.fit(X_train, y_train)\n",
        "y_pred_tree = model_tree.predict(X_test)\n",
        "print(\"Precision:\", precision_score(y_test, y_pred_tree))\n",
        "print(\"Recall:\", recall_score(y_test, y_pred_tree))\n",
        "print(\"F1 Score:\", f1_score(y_test, y_pred_tree))\n",
        "print(\"UAC:\", roc_auc_score(y_test, y_pred_tree))\n",
        "print(classification_report(y_test, y_pred_tree))"
      ],
      "metadata": {
        "colab": {
          "base_uri": "https://localhost:8080/"
        },
        "id": "f0zwYmBiudtF",
        "outputId": "7017a5db-29b4-43a9-806a-231c85b78a65"
      },
      "execution_count": null,
      "outputs": [
        {
          "output_type": "stream",
          "name": "stdout",
          "text": [
            "Precision: 0.9469026548672567\n",
            "Recall: 0.9907407407407407\n",
            "F1 Score: 0.9683257918552036\n",
            "UAC: 0.9477513227513227\n",
            "              precision    recall  f1-score   support\n",
            "\n",
            "           0       0.98      0.90      0.94        63\n",
            "           1       0.95      0.99      0.97       108\n",
            "\n",
            "    accuracy                           0.96       171\n",
            "   macro avg       0.96      0.95      0.96       171\n",
            "weighted avg       0.96      0.96      0.96       171\n",
            "\n"
          ]
        }
      ]
    },
    {
      "cell_type": "code",
      "source": [
        "model_tree = RandomForestClassifier()\n",
        "model_tree.fit(X_train, y_train)\n",
        "y_pred_tree = model_tree.predict(X_test)\n",
        "print(\"Precision:\", precision_score(y_test, y_pred_tree))\n",
        "print(\"Recall:\", recall_score(y_test, y_pred_tree))\n",
        "print(\"F1 Score:\", f1_score(y_test, y_pred_tree))\n",
        "print(\"UAC:\", roc_auc_score(y_test, y_pred_tree))\n",
        "print(classification_report(y_test, y_pred_tree))\n"
      ],
      "metadata": {
        "colab": {
          "base_uri": "https://localhost:8080/"
        },
        "id": "flhK7W-dsybB",
        "outputId": "87bbec83-da00-43a3-d23d-9cab54a78282"
      },
      "execution_count": null,
      "outputs": [
        {
          "output_type": "stream",
          "name": "stdout",
          "text": [
            "Precision: 0.9636363636363636\n",
            "Recall: 0.9814814814814815\n",
            "F1 Score: 0.9724770642201835\n",
            "UAC: 0.958994708994709\n",
            "              precision    recall  f1-score   support\n",
            "\n",
            "           0       0.97      0.94      0.95        63\n",
            "           1       0.96      0.98      0.97       108\n",
            "\n",
            "    accuracy                           0.96       171\n",
            "   macro avg       0.97      0.96      0.96       171\n",
            "weighted avg       0.96      0.96      0.96       171\n",
            "\n"
          ]
        }
      ]
    },
    {
      "cell_type": "code",
      "source": [
        "model_tree = GaussianNB()\n",
        "model_tree.fit(X_train, y_train)\n",
        "y_pred_tree = model_tree.predict(X_test)\n",
        "print(\"Precision:\", precision_score(y_test, y_pred_tree))\n",
        "print(\"Recall:\", recall_score(y_test, y_pred_tree))\n",
        "print(\"F1 Score:\", f1_score(y_test, y_pred_tree))\n",
        "print(\"UAC:\", roc_auc_score(y_test, y_pred_tree))\n",
        "print(classification_report(y_test, y_pred_tree))"
      ],
      "metadata": {
        "colab": {
          "base_uri": "https://localhost:8080/"
        },
        "id": "z2Dx72Z4ue8U",
        "outputId": "bcfae7e0-2e8e-4c14-f784-7dfb1bcae524"
      },
      "execution_count": null,
      "outputs": [
        {
          "output_type": "stream",
          "name": "stdout",
          "text": [
            "Precision: 0.9454545454545454\n",
            "Recall: 0.9629629629629629\n",
            "F1 Score: 0.9541284403669725\n",
            "UAC: 0.9338624338624338\n",
            "              precision    recall  f1-score   support\n",
            "\n",
            "           0       0.93      0.90      0.92        63\n",
            "           1       0.95      0.96      0.95       108\n",
            "\n",
            "    accuracy                           0.94       171\n",
            "   macro avg       0.94      0.93      0.94       171\n",
            "weighted avg       0.94      0.94      0.94       171\n",
            "\n"
          ]
        }
      ]
    },
    {
      "cell_type": "code",
      "source": [],
      "metadata": {
        "id": "8Y7JQiMU0rUg"
      },
      "execution_count": null,
      "outputs": []
    },
    {
      "cell_type": "code",
      "source": [
        "model_tree = AdaBoostClassifier()\n",
        "model_tree.fit(X_train, y_train)\n",
        "y_pred_tree = model_tree.predict(X_test)\n",
        "print(\"Precision:\", precision_score(y_test, y_pred_tree))\n",
        "print(\"Recall:\", recall_score(y_test, y_pred_tree))\n",
        "print(\"F1 Score:\", f1_score(y_test, y_pred_tree))\n",
        "print(\"UAC:\", roc_auc_score(y_test, y_pred_tree))\n",
        "print(classification_report(y_test, y_pred_tree))"
      ],
      "metadata": {
        "colab": {
          "base_uri": "https://localhost:8080/"
        },
        "id": "-MDlJEWi0eHM",
        "outputId": "f79ccbcf-9bf4-49a6-f40c-5c44324e873d"
      },
      "execution_count": null,
      "outputs": [
        {
          "output_type": "stream",
          "name": "stdout",
          "text": [
            "Precision: 0.9813084112149533\n",
            "Recall: 0.9722222222222222\n",
            "F1 Score: 0.9767441860465116\n",
            "UAC: 0.9702380952380952\n",
            "              precision    recall  f1-score   support\n",
            "\n",
            "           0       0.95      0.97      0.96        63\n",
            "           1       0.98      0.97      0.98       108\n",
            "\n",
            "    accuracy                           0.97       171\n",
            "   macro avg       0.97      0.97      0.97       171\n",
            "weighted avg       0.97      0.97      0.97       171\n",
            "\n"
          ]
        }
      ]
    },
    {
      "cell_type": "code",
      "source": [
        "!pip install  catboost"
      ],
      "metadata": {
        "colab": {
          "base_uri": "https://localhost:8080/"
        },
        "id": "lDiy803w0t1L",
        "outputId": "83b68e42-b4a7-4681-fcd4-0ed96ba20746"
      },
      "execution_count": null,
      "outputs": [
        {
          "output_type": "stream",
          "name": "stdout",
          "text": [
            "Requirement already satisfied: catboost in /usr/local/lib/python3.11/dist-packages (1.2.8)\n",
            "Requirement already satisfied: graphviz in /usr/local/lib/python3.11/dist-packages (from catboost) (0.20.3)\n",
            "Requirement already satisfied: matplotlib in /usr/local/lib/python3.11/dist-packages (from catboost) (3.10.0)\n",
            "Requirement already satisfied: numpy<3.0,>=1.16.0 in /usr/local/lib/python3.11/dist-packages (from catboost) (2.0.2)\n",
            "Requirement already satisfied: pandas>=0.24 in /usr/local/lib/python3.11/dist-packages (from catboost) (2.2.2)\n",
            "Requirement already satisfied: scipy in /usr/local/lib/python3.11/dist-packages (from catboost) (1.14.1)\n",
            "Requirement already satisfied: plotly in /usr/local/lib/python3.11/dist-packages (from catboost) (5.24.1)\n",
            "Requirement already satisfied: six in /usr/local/lib/python3.11/dist-packages (from catboost) (1.17.0)\n",
            "Requirement already satisfied: python-dateutil>=2.8.2 in /usr/local/lib/python3.11/dist-packages (from pandas>=0.24->catboost) (2.8.2)\n",
            "Requirement already satisfied: pytz>=2020.1 in /usr/local/lib/python3.11/dist-packages (from pandas>=0.24->catboost) (2025.2)\n",
            "Requirement already satisfied: tzdata>=2022.7 in /usr/local/lib/python3.11/dist-packages (from pandas>=0.24->catboost) (2025.2)\n",
            "Requirement already satisfied: contourpy>=1.0.1 in /usr/local/lib/python3.11/dist-packages (from matplotlib->catboost) (1.3.2)\n",
            "Requirement already satisfied: cycler>=0.10 in /usr/local/lib/python3.11/dist-packages (from matplotlib->catboost) (0.12.1)\n",
            "Requirement already satisfied: fonttools>=4.22.0 in /usr/local/lib/python3.11/dist-packages (from matplotlib->catboost) (4.57.0)\n",
            "Requirement already satisfied: kiwisolver>=1.3.1 in /usr/local/lib/python3.11/dist-packages (from matplotlib->catboost) (1.4.8)\n",
            "Requirement already satisfied: packaging>=20.0 in /usr/local/lib/python3.11/dist-packages (from matplotlib->catboost) (24.2)\n",
            "Requirement already satisfied: pillow>=8 in /usr/local/lib/python3.11/dist-packages (from matplotlib->catboost) (11.1.0)\n",
            "Requirement already satisfied: pyparsing>=2.3.1 in /usr/local/lib/python3.11/dist-packages (from matplotlib->catboost) (3.2.3)\n",
            "Requirement already satisfied: tenacity>=6.2.0 in /usr/local/lib/python3.11/dist-packages (from plotly->catboost) (9.1.2)\n"
          ]
        }
      ]
    },
    {
      "cell_type": "code",
      "source": [
        "import catboost"
      ],
      "metadata": {
        "id": "ytI54nvX0xZC"
      },
      "execution_count": null,
      "outputs": []
    },
    {
      "cell_type": "code",
      "source": [
        "model_catboost = catboost.CatBoostClassifier(iterations=1500)\n",
        "model_tree.fit(X_train, y_train,  )\n",
        "y_pred_tree = model_tree.predict(X_test)\n",
        "print(\"Precision:\", precision_score(y_test, y_pred_tree))\n",
        "print(\"Recall:\", recall_score(y_test, y_pred_tree))\n",
        "print(\"F1 Score:\", f1_score(y_test, y_pred_tree))\n",
        "print(\"UAC:\", roc_auc_score(y_test, y_pred_tree))"
      ],
      "metadata": {
        "colab": {
          "base_uri": "https://localhost:8080/"
        },
        "id": "jn1tiMnP1AyS",
        "outputId": "df30dfc6-0708-4281-c402-df51415a1cbd"
      },
      "execution_count": null,
      "outputs": [
        {
          "output_type": "stream",
          "name": "stdout",
          "text": [
            "Precision: 0.9813084112149533\n",
            "Recall: 0.9722222222222222\n",
            "F1 Score: 0.9767441860465116\n",
            "UAC: 0.9702380952380952\n"
          ]
        }
      ]
    },
    {
      "cell_type": "code",
      "source": [
        "from google.colab import output\n",
        "output.enable_custom_widget_manager()"
      ],
      "metadata": {
        "id": "X55p7rt63oXb"
      },
      "execution_count": null,
      "outputs": []
    },
    {
      "cell_type": "markdown",
      "source": [
        "Support for third party widgets will remain active for the duration of the session. To disable support:"
      ],
      "metadata": {
        "id": "i6z3te293oXb"
      }
    },
    {
      "cell_type": "code",
      "source": [
        "from google.colab import output\n",
        "output.disable_custom_widget_manager()"
      ],
      "metadata": {
        "id": "JXdwh1y73oXd"
      },
      "execution_count": null,
      "outputs": []
    },
    {
      "cell_type": "code",
      "source": [
        "model_catboost = catboost.CatBoostClassifier(iterations=400, loss_function = \"CrossEntropy\",\n",
        "    train_dir = \"crossentropy\")\n",
        "model_catboost.fit(X_train, y_train, verbose=False,\n",
        "       plot=True )\n",
        "y_pred_tree = model_catboost.predict(X_test)\n",
        "print(\"Precision:\", precision_score(y_test, y_pred_tree))\n",
        "print(\"Recall:\", recall_score(y_test, y_pred_tree))\n",
        "print(\"F1 Score:\", f1_score(y_test, y_pred_tree))\n",
        "print(\"UAC:\", roc_auc_score(y_test, y_pred_tree))"
      ],
      "metadata": {
        "colab": {
          "base_uri": "https://localhost:8080/",
          "height": 90,
          "referenced_widgets": [
            "d29e7bd35b6a46d89b157d85094812a5"
          ]
        },
        "id": "_5l_PVtr2WYM",
        "outputId": "89f55ee3-3ce3-4203-d436-398e01bfd264"
      },
      "execution_count": null,
      "outputs": [
        {
          "output_type": "display_data",
          "data": {
            "text/plain": [
              "MetricVisualizer(layout=Layout(align_self='stretch', height='500px'))"
            ],
            "application/vnd.jupyter.widget-view+json": {
              "version_major": 2,
              "version_minor": 0,
              "model_id": "d29e7bd35b6a46d89b157d85094812a5"
            }
          },
          "metadata": {}
        },
        {
          "output_type": "stream",
          "name": "stdout",
          "text": [
            "Precision: 0.9727272727272728\n",
            "Recall: 0.9907407407407407\n",
            "F1 Score: 0.981651376146789\n",
            "UAC: 0.9715608465608465\n"
          ]
        }
      ]
    },
    {
      "cell_type": "code",
      "source": [
        "w = catboost.MetricVisualizer('/crossentropy/')\n",
        "w.start()"
      ],
      "metadata": {
        "colab": {
          "base_uri": "https://localhost:8080/",
          "height": 17,
          "referenced_widgets": [
            "ea4a7ed886ac497082690926d101852f"
          ]
        },
        "id": "vL7amDYa4VuT",
        "outputId": "446c0558-c78d-483f-f3bf-33acc2dd0490"
      },
      "execution_count": null,
      "outputs": [
        {
          "data": {
            "application/vnd.jupyter.widget-view+json": {
              "model_id": "ea4a7ed886ac497082690926d101852f",
              "version_major": 2,
              "version_minor": 0
            },
            "text/plain": [
              "MetricVisualizer(layout=Layout(align_self='stretch', height='500px'))"
            ]
          },
          "metadata": {
            "application/vnd.jupyter.widget-view+json": {
              "colab": {
                "custom_widget_manager": {
                  "url": "https://ssl.gstatic.com/colaboratory-static/widgets/colab-cdn-widget-manager/2b70e893a8ba7c0f/manager.min.js"
                }
              }
            }
          },
          "output_type": "display_data"
        }
      ]
    }
  ]
}