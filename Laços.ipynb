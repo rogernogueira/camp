{
  "nbformat": 4,
  "nbformat_minor": 0,
  "metadata": {
    "colab": {
      "provenance": [],
      "include_colab_link": true
    },
    "kernelspec": {
      "name": "python3",
      "display_name": "Python 3"
    },
    "language_info": {
      "name": "python"
    }
  },
  "cells": [
    {
      "cell_type": "markdown",
      "metadata": {
        "id": "view-in-github",
        "colab_type": "text"
      },
      "source": [
        "<a href=\"https://colab.research.google.com/github/rogernogueira/camp/blob/main/La%C3%A7os.ipynb\" target=\"_parent\"><img src=\"https://colab.research.google.com/assets/colab-badge.svg\" alt=\"Open In Colab\"/></a>"
      ]
    },
    {
      "cell_type": "code",
      "execution_count": null,
      "metadata": {
        "colab": {
          "base_uri": "https://localhost:8080/"
        },
        "id": "Jgo0JgH5S4ys",
        "outputId": "f3d2d7e8-7193-4a51-a7de-ce49def62162"
      },
      "outputs": [
        {
          "output_type": "stream",
          "name": "stdout",
          "text": [
            "Digite um número entre 1 e 50:18\n",
            "O número correto é menor que o digitado. Você está perto!\n",
            "Digite um número entre 1 e 50:10\n",
            "O número correto é menor que o digitado. Você está perto!\n",
            "Digite um número entre 1 e 50:5\n",
            "O número correto é maior que o digitado. Não desista!\n",
            "Digite um número entre 1 e 50:6\n",
            "Parabéns. Eu sempre acreditei em você!\n",
            "Obrigado por participar!\n"
          ]
        }
      ],
      "source": [
        "import random\n",
        "valor_escolhido = random.randint(1, 50)\n",
        "\n",
        "while True:\n",
        "  n = input('Digite um número entre 1 e 50:')\n",
        "\n",
        "  if n < valor_escolhido:\n",
        "    print ('O número correto é maior que o digitado. Não desista!')\n",
        "  if n> valor_escolhido:\n",
        "    print ('O número correto é menor que o digitado. Você está perto!')\n",
        "  if n == valor_escolhido:\n",
        "    print ('Parabéns. Eu sempre acreditei em você!')\n",
        "    break\n",
        "print ('Obrigado por participar!')\n",
        "\n",
        "\n"
      ]
    },
    {
      "cell_type": "code",
      "source": [
        "valor_escolhido"
      ],
      "metadata": {
        "colab": {
          "base_uri": "https://localhost:8080/"
        },
        "id": "sJ51tn6uUykI",
        "outputId": "dff3666c-73fa-4b29-edbd-921daef88abf"
      },
      "execution_count": null,
      "outputs": [
        {
          "output_type": "execute_result",
          "data": {
            "text/plain": [
              "39"
            ]
          },
          "metadata": {},
          "execution_count": 2
        }
      ]
    },
    {
      "cell_type": "code",
      "source": [],
      "metadata": {
        "id": "LHh4fGCpU0Th"
      },
      "execution_count": null,
      "outputs": []
    },
    {
      "cell_type": "code",
      "source": [
        "preco_total = 0\n",
        "preco_item = 0\n",
        "imposto = 0.10\n",
        "continua = 's'\n",
        "while continua == 's':\n",
        "  preco_item = float(input(\"digite o valor do item : \"))\n",
        "  preco_total = preco_total + preco_item\n",
        "  continua = input(\"Deseja continuar ? (s/n)\")\n",
        "\n",
        "preco_total_com_imposto = preco_total + (preco_total*imposto)\n",
        "print(f\"O valor total da compra é : {preco_total}  e o imposto  é de {preco_total*imposto} e total com imposto {preco_total_com_imposto}\" )\n"
      ],
      "metadata": {
        "colab": {
          "base_uri": "https://localhost:8080/"
        },
        "id": "hr2GkNx_ZnIS",
        "outputId": "86a6638b-b8ab-42a9-caed-275767ccde0b"
      },
      "execution_count": null,
      "outputs": [
        {
          "output_type": "stream",
          "name": "stdout",
          "text": [
            "digite o valor do item : 10\n",
            "Deseja continuar ? (s/n)s\n",
            "digite o valor do item : 90\n",
            "Deseja continuar ? (s/n)n\n",
            "O valor total da compra é : 100.0  e o imposto  é de 10.0 e total com imposto 110.0\n"
          ]
        }
      ]
    },
    {
      "cell_type": "code",
      "source": [],
      "metadata": {
        "id": "RtId4gK_aKhg"
      },
      "execution_count": null,
      "outputs": []
    }
  ]
}