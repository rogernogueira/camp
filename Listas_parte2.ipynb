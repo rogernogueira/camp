{
  "nbformat": 4,
  "nbformat_minor": 0,
  "metadata": {
    "colab": {
      "provenance": [],
      "include_colab_link": true
    },
    "kernelspec": {
      "name": "python3",
      "display_name": "Python 3"
    },
    "language_info": {
      "name": "python"
    }
  },
  "cells": [
    {
      "cell_type": "markdown",
      "metadata": {
        "id": "view-in-github",
        "colab_type": "text"
      },
      "source": [
        "<a href=\"https://colab.research.google.com/github/rogernogueira/camp/blob/main/Listas_parte2.ipynb\" target=\"_parent\"><img src=\"https://colab.research.google.com/assets/colab-badge.svg\" alt=\"Open In Colab\"/></a>"
      ]
    },
    {
      "cell_type": "code",
      "execution_count": null,
      "metadata": {
        "id": "PkocyjjxnA1z"
      },
      "outputs": [],
      "source": [
        "lista_nome = []"
      ]
    },
    {
      "cell_type": "code",
      "source": [
        "lista_nomes = ['Roger', 'Ana', 'David', 'antonio', 'Alan']\n",
        "lista_idades = [20, 30, 22, 21, 29]\n",
        "lista_pesos = [70, 74, 73, 81, 68]\n",
        "lista_altura = ['1.67', '2', '1.68', '1.71', '1.8']\n"
      ],
      "metadata": {
        "id": "CIIP5ssrnBun"
      },
      "execution_count": null,
      "outputs": []
    },
    {
      "cell_type": "code",
      "source": [],
      "metadata": {
        "id": "0f6VByCsq0Jp"
      },
      "execution_count": null,
      "outputs": []
    },
    {
      "cell_type": "code",
      "source": [
        "def normatiza_nome(nome):\n",
        "  return nome.lower()"
      ],
      "metadata": {
        "id": "2WAs9cFxn136"
      },
      "execution_count": null,
      "outputs": []
    },
    {
      "cell_type": "code",
      "source": [
        "def kilo_to_grama(peso):\n",
        "  return peso*1000"
      ],
      "metadata": {
        "id": "Dl37DsQhq2rG"
      },
      "execution_count": null,
      "outputs": []
    },
    {
      "cell_type": "code",
      "source": [
        "def str_to_float(lista_altura):\n",
        "  lista_altura_float = []\n",
        "  for altura in lista_altura:\n",
        "    altura = float(altura)\n",
        "    lista_altura_float.append(altura)\n",
        "  return lista_altura_float\n",
        "\n"
      ],
      "metadata": {
        "id": "ylP9B7M8ruHK"
      },
      "execution_count": null,
      "outputs": []
    },
    {
      "cell_type": "code",
      "source": [
        "normatiza_nome('Roger')"
      ],
      "metadata": {
        "colab": {
          "base_uri": "https://localhost:8080/",
          "height": 35
        },
        "id": "pPtFO5RSn7mx",
        "outputId": "cf57137b-b9e1-450f-c7ec-213476c2d364"
      },
      "execution_count": null,
      "outputs": [
        {
          "output_type": "execute_result",
          "data": {
            "text/plain": [
              "'roger'"
            ],
            "application/vnd.google.colaboratory.intrinsic+json": {
              "type": "string"
            }
          },
          "metadata": {},
          "execution_count": 12
        }
      ]
    },
    {
      "cell_type": "code",
      "source": [
        "lista_nomes_normatizado = []\n",
        "for nome in lista_nomes:\n",
        "  nome = normatiza_nome(nome)\n",
        "  if nome != 'david':\n",
        "      lista_nomes_normatizado.append(nome)\n",
        "\n",
        "  print(nome)"
      ],
      "metadata": {
        "colab": {
          "base_uri": "https://localhost:8080/"
        },
        "id": "kN00vjD4pNPB",
        "outputId": "9ac0c9ed-2301-43e0-9c43-e8413fdb03b8"
      },
      "execution_count": null,
      "outputs": [
        {
          "output_type": "stream",
          "name": "stdout",
          "text": [
            "roger\n",
            "ana\n",
            "david\n",
            "antonio\n",
            "alan\n"
          ]
        }
      ]
    },
    {
      "cell_type": "code",
      "source": [
        "lista_nomes"
      ],
      "metadata": {
        "colab": {
          "base_uri": "https://localhost:8080/"
        },
        "id": "yiVTxxvhpsE5",
        "outputId": "b342d423-0188-40d7-bb4f-98afb5ac1cd4"
      },
      "execution_count": null,
      "outputs": [
        {
          "output_type": "execute_result",
          "data": {
            "text/plain": [
              "['Roger', 'Ana', 'David', 'Antonio', 'Alan']"
            ]
          },
          "metadata": {},
          "execution_count": 16
        }
      ]
    },
    {
      "cell_type": "code",
      "source": [
        "lista_nomes_normatizado"
      ],
      "metadata": {
        "colab": {
          "base_uri": "https://localhost:8080/"
        },
        "id": "zu8MHE2mpwYB",
        "outputId": "d9f25f7a-748e-4107-a5dd-fa5a7afe797b"
      },
      "execution_count": null,
      "outputs": [
        {
          "output_type": "execute_result",
          "data": {
            "text/plain": [
              "['roger', 'ana', 'antonio', 'alan']"
            ]
          },
          "metadata": {},
          "execution_count": 19
        }
      ]
    },
    {
      "cell_type": "code",
      "source": [
        "lista_peso_grama = []\n",
        "for peso in lista_pesos:\n",
        "  peso = kilo_to_grama(peso)\n",
        "  lista_peso_grama.append(peso)\n"
      ],
      "metadata": {
        "id": "z43tERUJqTpS"
      },
      "execution_count": null,
      "outputs": []
    },
    {
      "cell_type": "code",
      "source": [
        "lista_peso_grama"
      ],
      "metadata": {
        "colab": {
          "base_uri": "https://localhost:8080/"
        },
        "id": "sHhLFZ1Srioq",
        "outputId": "dadc17b6-85f3-46ba-fc04-5a54ce17fdea"
      },
      "execution_count": null,
      "outputs": [
        {
          "output_type": "execute_result",
          "data": {
            "text/plain": [
              "[70000, 74000, 73000, 81000, 68000]"
            ]
          },
          "metadata": {},
          "execution_count": 22
        }
      ]
    },
    {
      "cell_type": "code",
      "source": [
        "lista1 = str_to_float(lista_altura)"
      ],
      "metadata": {
        "id": "j26DkBtCrj1x"
      },
      "execution_count": null,
      "outputs": []
    },
    {
      "cell_type": "code",
      "source": [
        "lista1"
      ],
      "metadata": {
        "colab": {
          "base_uri": "https://localhost:8080/"
        },
        "id": "d_vg0-dMs5p6",
        "outputId": "ac25c0e6-64b4-4f50-b012-77424298992d"
      },
      "execution_count": null,
      "outputs": [
        {
          "output_type": "execute_result",
          "data": {
            "text/plain": [
              "[1.67, 2.0, 1.68, 1.71, 1.8]"
            ]
          },
          "metadata": {},
          "execution_count": 32
        }
      ]
    },
    {
      "cell_type": "code",
      "source": [
        "lista_altura"
      ],
      "metadata": {
        "colab": {
          "base_uri": "https://localhost:8080/"
        },
        "id": "srPQE0IOs705",
        "outputId": "8e562788-4545-4159-dc5c-88c115c6158d"
      },
      "execution_count": null,
      "outputs": [
        {
          "output_type": "execute_result",
          "data": {
            "text/plain": [
              "['1.67', '2', '1.68', '1.71', '1.8']"
            ]
          },
          "metadata": {},
          "execution_count": 29
        }
      ]
    },
    {
      "cell_type": "code",
      "source": [
        "max(lista1)"
      ],
      "metadata": {
        "colab": {
          "base_uri": "https://localhost:8080/"
        },
        "id": "QJR-zboqtQyO",
        "outputId": "2d2d1d15-8459-45a3-90b1-22d5b33ad6ce"
      },
      "execution_count": null,
      "outputs": [
        {
          "output_type": "execute_result",
          "data": {
            "text/plain": [
              "2.0"
            ]
          },
          "metadata": {},
          "execution_count": 33
        }
      ]
    },
    {
      "cell_type": "code",
      "source": [
        "min(lista1)"
      ],
      "metadata": {
        "colab": {
          "base_uri": "https://localhost:8080/"
        },
        "id": "gB1fNfsbtUb6",
        "outputId": "13d9bff7-8ca2-4606-a33a-82cc8cbb1c47"
      },
      "execution_count": null,
      "outputs": [
        {
          "output_type": "execute_result",
          "data": {
            "text/plain": [
              "1.67"
            ]
          },
          "metadata": {},
          "execution_count": 34
        }
      ]
    },
    {
      "cell_type": "code",
      "source": [
        "lista_pessoas = [lista_nomes_normatizado, lista_idades, lista_altura]"
      ],
      "metadata": {
        "id": "qSil47ustZJJ"
      },
      "execution_count": null,
      "outputs": []
    },
    {
      "cell_type": "code",
      "source": [],
      "metadata": {
        "id": "nSJmupCd0iYo"
      },
      "execution_count": null,
      "outputs": []
    },
    {
      "cell_type": "code",
      "source": [
        "lista_pessoas"
      ],
      "metadata": {
        "colab": {
          "base_uri": "https://localhost:8080/"
        },
        "id": "gYp7Rp5Yt2c3",
        "outputId": "3c165faf-5047-47bf-de6e-958279f22834"
      },
      "execution_count": null,
      "outputs": [
        {
          "output_type": "execute_result",
          "data": {
            "text/plain": [
              "[['roger', 'ana', 'antonio', 'alan'],\n",
              " [20, 30, 22, 21, 29],\n",
              " ['1.67', '2', '1.68', '1.71', '1.8']]"
            ]
          },
          "metadata": {},
          "execution_count": 38
        }
      ]
    },
    {
      "cell_type": "code",
      "source": [
        "lista_pessoas[0][0]"
      ],
      "metadata": {
        "colab": {
          "base_uri": "https://localhost:8080/",
          "height": 35
        },
        "id": "0euNrseQuK9P",
        "outputId": "ae9b105a-fc15-45d6-b808-d7d7064e7359"
      },
      "execution_count": null,
      "outputs": [
        {
          "output_type": "execute_result",
          "data": {
            "text/plain": [
              "'roger'"
            ],
            "application/vnd.google.colaboratory.intrinsic+json": {
              "type": "string"
            }
          },
          "metadata": {},
          "execution_count": 41
        }
      ]
    },
    {
      "cell_type": "code",
      "source": [
        "lista_pessoas[1][1]"
      ],
      "metadata": {
        "colab": {
          "base_uri": "https://localhost:8080/"
        },
        "id": "HQ_cM-eruV85",
        "outputId": "aad99163-1365-4bee-8493-d671c6b23111"
      },
      "execution_count": null,
      "outputs": [
        {
          "output_type": "execute_result",
          "data": {
            "text/plain": [
              "30"
            ]
          },
          "metadata": {},
          "execution_count": 42
        }
      ]
    },
    {
      "cell_type": "code",
      "source": [
        "lista_pessoas[2][3]"
      ],
      "metadata": {
        "colab": {
          "base_uri": "https://localhost:8080/",
          "height": 35
        },
        "id": "0Zc7PSK1usHx",
        "outputId": "8c4ce86b-c5c8-48a7-ba43-1eb13823b6fc"
      },
      "execution_count": null,
      "outputs": [
        {
          "output_type": "execute_result",
          "data": {
            "text/plain": [
              "'1.71'"
            ],
            "application/vnd.google.colaboratory.intrinsic+json": {
              "type": "string"
            }
          },
          "metadata": {},
          "execution_count": 45
        }
      ]
    },
    {
      "cell_type": "code",
      "source": [
        "lista_nomes_normatizado.insert(1,'David')"
      ],
      "metadata": {
        "id": "Sko2zhbzu5wJ"
      },
      "execution_count": null,
      "outputs": []
    },
    {
      "cell_type": "code",
      "source": [],
      "metadata": {
        "id": "UI_jx2aNv89C"
      },
      "execution_count": null,
      "outputs": []
    },
    {
      "cell_type": "code",
      "source": [
        "lista_nomes_normatizado"
      ],
      "metadata": {
        "colab": {
          "base_uri": "https://localhost:8080/"
        },
        "id": "ohYNfTGyv5qi",
        "outputId": "5c16d4e5-2a80-41ff-f4e1-99f38ddde64d"
      },
      "execution_count": null,
      "outputs": [
        {
          "output_type": "execute_result",
          "data": {
            "text/plain": [
              "['roger', 'David', 'ana', 'antonio', 'alan']"
            ]
          },
          "metadata": {},
          "execution_count": 48
        }
      ]
    },
    {
      "cell_type": "code",
      "source": [
        "lista_pessoas"
      ],
      "metadata": {
        "colab": {
          "base_uri": "https://localhost:8080/"
        },
        "id": "h99-ige-v7Iy",
        "outputId": "d93c69b7-bfb6-4c6c-aa6a-1e93bd25d585"
      },
      "execution_count": null,
      "outputs": [
        {
          "output_type": "execute_result",
          "data": {
            "text/plain": [
              "[['roger', 'David', 'ana', 'antonio', 'alan'],\n",
              " [20, 30, 22, 21, 29],\n",
              " ['1.67', '2', '1.68', '1.71', '1.8']]"
            ]
          },
          "metadata": {},
          "execution_count": 60
        }
      ]
    },
    {
      "cell_type": "code",
      "source": [
        "lista1 = ['a', 'b']"
      ],
      "metadata": {
        "id": "3u3epDbwwAx6"
      },
      "execution_count": null,
      "outputs": []
    },
    {
      "cell_type": "code",
      "source": [
        "lista2  = lista1"
      ],
      "metadata": {
        "id": "B2gyH-3mwO7D"
      },
      "execution_count": null,
      "outputs": []
    },
    {
      "cell_type": "code",
      "source": [
        "lista2.append('c')"
      ],
      "metadata": {
        "id": "ganqw5ZVwRsz"
      },
      "execution_count": null,
      "outputs": []
    },
    {
      "cell_type": "code",
      "source": [
        "lista2"
      ],
      "metadata": {
        "colab": {
          "base_uri": "https://localhost:8080/"
        },
        "id": "vn_VOqkNwWTa",
        "outputId": "88a38b9e-620b-424c-a2a8-894e29080e03"
      },
      "execution_count": null,
      "outputs": [
        {
          "output_type": "execute_result",
          "data": {
            "text/plain": [
              "['a', 'b', 'c']"
            ]
          },
          "metadata": {},
          "execution_count": 53
        }
      ]
    },
    {
      "cell_type": "code",
      "source": [
        "lista1"
      ],
      "metadata": {
        "colab": {
          "base_uri": "https://localhost:8080/"
        },
        "id": "-LSYgHvqwXVS",
        "outputId": "24f7af31-21e5-4a66-eca7-542e74d3aeaf"
      },
      "execution_count": null,
      "outputs": [
        {
          "output_type": "execute_result",
          "data": {
            "text/plain": [
              "['a', 'b', 'c']"
            ]
          },
          "metadata": {},
          "execution_count": 54
        }
      ]
    },
    {
      "cell_type": "code",
      "source": [
        "lista1 = lista2.copy()"
      ],
      "metadata": {
        "id": "_w3Oy7Izwcf5"
      },
      "execution_count": null,
      "outputs": []
    },
    {
      "cell_type": "code",
      "source": [
        "lista1"
      ],
      "metadata": {
        "colab": {
          "base_uri": "https://localhost:8080/"
        },
        "id": "skYkoL_pwnhy",
        "outputId": "cbf7f0bb-17dd-4ff1-bea9-c8e09a9e6451"
      },
      "execution_count": null,
      "outputs": [
        {
          "output_type": "execute_result",
          "data": {
            "text/plain": [
              "['a', 'b', 'c']"
            ]
          },
          "metadata": {},
          "execution_count": 56
        }
      ]
    },
    {
      "cell_type": "code",
      "source": [
        "lista2.append('d')"
      ],
      "metadata": {
        "id": "qWnrtVhHwpra"
      },
      "execution_count": null,
      "outputs": []
    },
    {
      "cell_type": "code",
      "source": [
        "lista2"
      ],
      "metadata": {
        "colab": {
          "base_uri": "https://localhost:8080/"
        },
        "id": "b4ZvO6umw0Ua",
        "outputId": "6f2e1be3-35aa-44a7-b740-f56c5b4b3062"
      },
      "execution_count": null,
      "outputs": [
        {
          "output_type": "execute_result",
          "data": {
            "text/plain": [
              "['a', 'b', 'c', 'd']"
            ]
          },
          "metadata": {},
          "execution_count": 58
        }
      ]
    },
    {
      "cell_type": "code",
      "source": [
        "lista1"
      ],
      "metadata": {
        "colab": {
          "base_uri": "https://localhost:8080/"
        },
        "id": "JVu7L8Q5w1PK",
        "outputId": "4f3fdcd4-2eb1-4433-b188-8d6bd1e26957"
      },
      "execution_count": null,
      "outputs": [
        {
          "output_type": "execute_result",
          "data": {
            "text/plain": [
              "['a', 'b', 'c']"
            ]
          },
          "metadata": {},
          "execution_count": 59
        }
      ]
    },
    {
      "cell_type": "code",
      "source": [
        "lista_pessas"
      ],
      "metadata": {
        "colab": {
          "base_uri": "https://localhost:8080/"
        },
        "id": "X0Hz0DpFw5PZ",
        "outputId": "95441117-e3a3-42fa-bc89-899402c44552"
      },
      "execution_count": null,
      "outputs": [
        {
          "output_type": "execute_result",
          "data": {
            "text/plain": [
              "[['roger', 'David', 'ana', 'antonio', 'alan'],\n",
              " [20, 30, 22, 21, 29],\n",
              " ['1.67', '2', '1.68', '1.71', '1.8']]"
            ]
          },
          "metadata": {},
          "execution_count": 61
        }
      ]
    },
    {
      "cell_type": "code",
      "source": [
        "lista_pessoas[2][4]"
      ],
      "metadata": {
        "colab": {
          "base_uri": "https://localhost:8080/",
          "height": 35
        },
        "id": "g2MquU_6xIXS",
        "outputId": "663fcff5-1aa2-41ea-d2b5-5769e4b0f038"
      },
      "execution_count": null,
      "outputs": [
        {
          "output_type": "execute_result",
          "data": {
            "text/plain": [
              "'1.8'"
            ],
            "application/vnd.google.colaboratory.intrinsic+json": {
              "type": "string"
            }
          },
          "metadata": {},
          "execution_count": 62
        }
      ]
    },
    {
      "cell_type": "code",
      "source": [
        "enumerate(lista_nomes)"
      ],
      "metadata": {
        "colab": {
          "base_uri": "https://localhost:8080/"
        },
        "id": "F061ewTVxjpB",
        "outputId": "36bda958-660a-47ef-b40a-de0085ad70ca"
      },
      "execution_count": null,
      "outputs": [
        {
          "output_type": "execute_result",
          "data": {
            "text/plain": [
              "<enumerate at 0x7e5e4e70c860>"
            ]
          },
          "metadata": {},
          "execution_count": 63
        }
      ]
    },
    {
      "cell_type": "code",
      "source": [
        "for i, nome  in enumerate(lista_nomes):\n",
        "  print('index :', i)\n",
        "  print('nome :', nome)"
      ],
      "metadata": {
        "colab": {
          "base_uri": "https://localhost:8080/"
        },
        "id": "IumbgbEGyDSC",
        "outputId": "3ca67588-c448-4e76-bbf8-2cabb200a3b0"
      },
      "execution_count": null,
      "outputs": [
        {
          "output_type": "stream",
          "name": "stdout",
          "text": [
            "index : 0\n",
            "nome : Roger\n",
            "index : 1\n",
            "nome : Ana\n",
            "index : 2\n",
            "nome : David\n",
            "index : 3\n",
            "nome : antonio\n",
            "index : 4\n",
            "nome : Alan\n"
          ]
        }
      ]
    },
    {
      "cell_type": "code",
      "source": [
        "for i, nome  in enumerate(lista_nomes):\n",
        "  print(f\"Nome : {nome}\")\n",
        "  print(f'Idade : {lista_pessoas[1][i]}')\n",
        "  print(f'Altura : {lista_pessoas[2][i]}')\n",
        "  print('---'*20)"
      ],
      "metadata": {
        "colab": {
          "base_uri": "https://localhost:8080/"
        },
        "id": "7yFSIy9_yRJS",
        "outputId": "067bcc48-89b2-4e99-c266-5383a381517a"
      },
      "execution_count": null,
      "outputs": [
        {
          "output_type": "stream",
          "name": "stdout",
          "text": [
            "Nome : Roger\n",
            "Idade : 20\n",
            "Altura : 1.67\n",
            "------------------------------------------------------------\n",
            "Nome : Ana\n",
            "Idade : 30\n",
            "Altura : 2\n",
            "------------------------------------------------------------\n",
            "Nome : David\n",
            "Idade : 22\n",
            "Altura : 1.68\n",
            "------------------------------------------------------------\n",
            "Nome : antonio\n",
            "Idade : 21\n",
            "Altura : 1.71\n",
            "------------------------------------------------------------\n",
            "Nome : Alan\n",
            "Idade : 29\n",
            "Altura : 1.8\n",
            "------------------------------------------------------------\n"
          ]
        }
      ]
    },
    {
      "cell_type": "code",
      "source": [
        "lista_pessoas.append(lista_pesos)"
      ],
      "metadata": {
        "id": "X6m6ky1V0lmp"
      },
      "execution_count": null,
      "outputs": []
    },
    {
      "cell_type": "code",
      "source": [
        "lista_pessoas"
      ],
      "metadata": {
        "colab": {
          "base_uri": "https://localhost:8080/"
        },
        "id": "ByUgpTnT0umg",
        "outputId": "6278b0f9-90f3-41d6-fb15-0a26b59232d9"
      },
      "execution_count": null,
      "outputs": [
        {
          "output_type": "execute_result",
          "data": {
            "text/plain": [
              "[['roger', 'David', 'ana', 'antonio', 'alan'],\n",
              " [20, 30, 22, 21, 29],\n",
              " ['1.67', '2', '1.68', '1.71', '1.8'],\n",
              " [70, 74, 73, 81, 68]]"
            ]
          },
          "metadata": {},
          "execution_count": 72
        }
      ]
    },
    {
      "cell_type": "code",
      "source": [
        "\n",
        "lista_imc = []\n",
        "for i, nome  in enumerate(lista_nomes):\n",
        "  print(f\"Nome : {nome}\")\n",
        "  print(f'Idade : {lista_pessoas[1][i]}')\n",
        "  print(f'Altura : {lista_pessoas[2][i]}')\n",
        "  print(f'Peso : {lista_pessoas[3][i]}')\n",
        "  peso = lista_pessoas[3][i]\n",
        "  altura = float(lista_pessoas[2][i])\n",
        "  imc = peso/(altura * altura)\n",
        "  print(f'IMC : {imc}')\n",
        "\n",
        "  print('---'*20)"
      ],
      "metadata": {
        "colab": {
          "base_uri": "https://localhost:8080/"
        },
        "id": "FLwSfJhN0Sgx",
        "outputId": "5952179a-0f87-4625-d0df-10be606295e2"
      },
      "execution_count": null,
      "outputs": [
        {
          "output_type": "stream",
          "name": "stdout",
          "text": [
            "Nome : Roger\n",
            "Idade : 20\n",
            "Altura : 1.67\n",
            "Peso : 70\n",
            "IMC : 25.099501595611173\n",
            "------------------------------------------------------------\n",
            "Nome : Ana\n",
            "Idade : 30\n",
            "Altura : 2\n",
            "Peso : 74\n",
            "IMC : 18.5\n",
            "------------------------------------------------------------\n",
            "Nome : David\n",
            "Idade : 22\n",
            "Altura : 1.68\n",
            "Peso : 73\n",
            "IMC : 25.86451247165533\n",
            "------------------------------------------------------------\n",
            "Nome : antonio\n",
            "Idade : 21\n",
            "Altura : 1.71\n",
            "Peso : 81\n",
            "IMC : 27.70083102493075\n",
            "------------------------------------------------------------\n",
            "Nome : Alan\n",
            "Idade : 29\n",
            "Altura : 1.8\n",
            "Peso : 68\n",
            "IMC : 20.98765432098765\n",
            "------------------------------------------------------------\n"
          ]
        }
      ]
    },
    {
      "cell_type": "code",
      "source": [
        "lista_pessoas"
      ],
      "metadata": {
        "colab": {
          "base_uri": "https://localhost:8080/"
        },
        "id": "KXC-EEl02OGI",
        "outputId": "41ad1ece-a264-4951-e9c6-7e90c77e3489"
      },
      "execution_count": null,
      "outputs": [
        {
          "output_type": "execute_result",
          "data": {
            "text/plain": [
              "[['roger', 'David', 'ana', 'antonio', 'alan'],\n",
              " [20, 30, 22, 21, 29],\n",
              " ['1.67', '2', '1.68', '1.71', '1.8'],\n",
              " [70, 74, 73, 81, 68]]"
            ]
          },
          "metadata": {},
          "execution_count": 77
        }
      ]
    },
    {
      "cell_type": "code",
      "source": [],
      "metadata": {
        "id": "cf03BQUi2Pjz"
      },
      "execution_count": null,
      "outputs": []
    }
  ]
}